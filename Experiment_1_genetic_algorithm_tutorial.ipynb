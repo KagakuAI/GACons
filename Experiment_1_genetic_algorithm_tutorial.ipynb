{
 "cells": [
  {
   "cell_type": "markdown",
   "id": "6d75ae7b-5b0d-4312-983d-9a61f3770fa5",
   "metadata": {},
   "source": [
    "## Genetic algorithm tutorial"
   ]
  },
  {
   "cell_type": "code",
   "execution_count": null,
   "id": "ee97aed3-8812-4891-8c89-28f2cb9419df",
   "metadata": {},
   "outputs": [],
   "source": []
  },
  {
   "cell_type": "code",
   "execution_count": null,
   "id": "d60a953a-496d-46c2-bc5c-abed1fdfc769",
   "metadata": {},
   "outputs": [],
   "source": []
  },
  {
   "cell_type": "code",
   "execution_count": null,
   "id": "746df44a-e291-4175-8406-8a1fc55fe99d",
   "metadata": {},
   "outputs": [],
   "source": []
  },
  {
   "cell_type": "code",
   "execution_count": null,
   "id": "44ec7d9b-7801-4370-b9c8-b25bca95d490",
   "metadata": {},
   "outputs": [],
   "source": []
  }
 ],
 "metadata": {
  "kernelspec": {
   "display_name": "miprop",
   "language": "python",
   "name": "miprop"
  },
  "language_info": {
   "codemirror_mode": {
    "name": "ipython",
    "version": 3
   },
   "file_extension": ".py",
   "mimetype": "text/x-python",
   "name": "python",
   "nbconvert_exporter": "python",
   "pygments_lexer": "ipython3",
   "version": "3.10.15"
  }
 },
 "nbformat": 4,
 "nbformat_minor": 5
}
