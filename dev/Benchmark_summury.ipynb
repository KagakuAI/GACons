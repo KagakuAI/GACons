{
 "cells": [
  {
   "cell_type": "code",
   "execution_count": null,
   "id": "a0c31c8a-df8e-43ba-8b5c-1b239bd7b721",
   "metadata": {},
   "outputs": [],
   "source": [
    "import pandas as pd\n",
    "from collections import Counter"
   ]
  },
  {
   "cell_type": "code",
   "execution_count": null,
   "id": "7bb81fbb-06f9-4844-a45c-8083ba23f7bb",
   "metadata": {},
   "outputs": [],
   "source": [
    "bench_result = \"../..\""
   ]
  },
  {
   "cell_type": "markdown",
   "id": "07282992-639c-4df4-89ad-f9a7281c5bba",
   "metadata": {},
   "source": [
    "### 1. Mean/median prediction accuracy"
   ]
  },
  {
   "cell_type": "code",
   "execution_count": null,
   "id": "91d7adbc-bab2-4650-a737-6d14fc78bd88",
   "metadata": {},
   "outputs": [],
   "source": [
    "# calculate the mean accuracy over all datasets"
   ]
  },
  {
   "cell_type": "markdown",
   "id": "45d86dcb-82c6-4837-b22f-92e11759b449",
   "metadata": {},
   "source": [
    "### 2. Prediction accuracy boxplot"
   ]
  },
  {
   "cell_type": "code",
   "execution_count": null,
   "id": "158a49d6-8e81-42b1-8dca-1635951167f0",
   "metadata": {},
   "outputs": [],
   "source": [
    "# calculate the mean accuracy over all datasets"
   ]
  },
  {
   "cell_type": "markdown",
   "id": "9db95359-b8a6-442c-ae74-081ee8bc85b9",
   "metadata": {},
   "source": [
    "### 3. Top-N statistics"
   ]
  },
  {
   "cell_type": "code",
   "execution_count": null,
   "id": "9cf12909-ec9e-49f4-a706-d91cf3a8cda7",
   "metadata": {},
   "outputs": [],
   "source": [
    "# how many times each method is the best one (Top-1), the second best one (Top-2), etc."
   ]
  },
  {
   "cell_type": "code",
   "execution_count": null,
   "id": "b1709c7c-a552-428c-962f-f8d06da4fa0d",
   "metadata": {},
   "outputs": [],
   "source": [
    "tmp = []\n",
    "for dataset in res_df_test.index:\n",
    "    min_i = res_df_test.loc[dataset].argmin()\n",
    "    max_i = res_df_test.loc[dataset].argmax()\n",
    "    #\n",
    "    tmp.append(res_df_test.loc[dataset].index[max_i])\n",
    "#\n",
    "Counter(tmp)"
   ]
  },
  {
   "cell_type": "markdown",
   "id": "df69fed6-a3b9-44a8-85fc-a0e8df589e6e",
   "metadata": {},
   "source": [
    "### 4. Pair accuracy comparison"
   ]
  },
  {
   "cell_type": "code",
   "execution_count": null,
   "id": "f012a4be-655b-4265-97f2-9d5b3a74f7ce",
   "metadata": {},
   "outputs": [],
   "source": [
    "# method_1 vs method_2 - calculate the number of wins (accuracy_1 > accuracy_2)"
   ]
  },
  {
   "cell_type": "code",
   "execution_count": null,
   "id": "28a791d1-dd26-4da3-ac82-3e03ea50c16d",
   "metadata": {},
   "outputs": [],
   "source": [
    "# tmp = res_df_test[\"Best\"] - res_df_test[\"All\"]\n",
    "# tmp = res_df_test[\"All\"] - res_df_test[\"Systematic\"]\n",
    "# tmp = res_df_test[\"All\"] - res_df_test[\"Systematic\"]\n",
    "# tmp = res_df_test[\"Systematic\"] - res_df_test[\"Genetic\"]\n",
    "# tmp = res_df_test[\"Systematic\"] - res_df_test[\"Stacking\"]\n",
    "tmp = res_df_test[\"Genetic\"] - res_df_test[\"Stacking\"]\n",
    "\n",
    "\n",
    "res_pair = Counter(np.where(tmp > 0, 1, 2))\n",
    "res_pair = {k.item():v for k, v in res_pair.items()}\n",
    "print(dict(sorted(res_pair.items())))"
   ]
  },
  {
   "cell_type": "code",
   "execution_count": null,
   "id": "16b7686f-758a-43a9-bb7f-960320bf4515",
   "metadata": {},
   "outputs": [],
   "source": [
    "team_1 = [\"Best\", \"All\", \"Systematic\"]\n",
    "team_2 = [\"Genetic\", \"Stacking\"]\n",
    "\n",
    "# team_1 = [\"Best\"]\n",
    "# team_2 = [\"All\", \"Systematic\", \"Genetic\", \"Stacking\", \"Hyperopt\"]\n",
    "\n",
    "res = {1:0, 2:0}\n",
    "for dataset in res_df_test.index:\n",
    "    stats = res_df_test.loc[dataset].to_dict()\n",
    "    alg = max(stats, key=stats.get)\n",
    "    if alg in team_1:\n",
    "        res[1] += 1\n",
    "    else:\n",
    "        res[2] += 1\n",
    "res"
   ]
  },
  {
   "cell_type": "markdown",
   "id": "37ca11b0-617a-4501-add5-67864f1f4e24",
   "metadata": {},
   "source": [
    "### 5. Diagram"
   ]
  },
  {
   "cell_type": "code",
   "execution_count": null,
   "id": "586eea5c-bd08-4c93-8971-7afe22c6cd51",
   "metadata": {},
   "outputs": [],
   "source": [
    "# digram from 3D-MIL-QSAR"
   ]
  },
  {
   "cell_type": "code",
   "execution_count": null,
   "id": "5900dfbf-8933-4483-abc2-4dcee50fa6aa",
   "metadata": {},
   "outputs": [],
   "source": []
  },
  {
   "cell_type": "markdown",
   "id": "1cfe17a6-fdf4-49f3-b3ce-525a8de607f5",
   "metadata": {},
   "source": [
    "### 6. Method consistency"
   ]
  },
  {
   "cell_type": "code",
   "execution_count": null,
   "id": "856c796a-683c-4048-87b8-fc93a6968f48",
   "metadata": {},
   "outputs": [],
   "source": [
    "# calculate how often method is better than another one ob both - validation and test set"
   ]
  },
  {
   "cell_type": "code",
   "execution_count": null,
   "id": "5879e3a0-4e40-4588-a33e-e8f2e47a0a62",
   "metadata": {},
   "outputs": [],
   "source": [
    "# diff_val = res_df_val[\"Genetic\"] - res_df_val[\"Best\"]\n",
    "# diff_test = res_df_test[\"Genetic\"] - res_df_test[\"Best\"]\n",
    "\n",
    "# diff_val = res_df_val[\"Genetic\"] - res_df_val[\"Systematic\"]\n",
    "# diff_test = res_df_test[\"Genetic\"] - res_df_test[\"Systematic\"]\n",
    "\n",
    "diff_val = res_df_val[\"Genetic\"] - res_df_val[\"Stacking\"]\n",
    "diff_test = res_df_test[\"Genetic\"] - res_df_test[\"Stacking\"]\n",
    "\n",
    "stat = np.where(diff_val > 0, 1, 0) == np.where(diff_test > 0, 1, 0)"
   ]
  },
  {
   "cell_type": "code",
   "execution_count": null,
   "id": "28a48741-4f95-4a5e-b5f8-91032fd90de4",
   "metadata": {},
   "outputs": [],
   "source": [
    "print(sum(stat).item())\n",
    "print(len(stat))\n",
    "print(round(sum(stat) / len(stat), 2))"
   ]
  },
  {
   "cell_type": "code",
   "execution_count": null,
   "id": "1940f5d3-33f9-46ec-bc31-9e94c10b27f0",
   "metadata": {},
   "outputs": [],
   "source": []
  },
  {
   "cell_type": "code",
   "execution_count": null,
   "id": "0b438961-6be0-482e-8e8d-8b42062a1385",
   "metadata": {},
   "outputs": [],
   "source": []
  },
  {
   "cell_type": "code",
   "execution_count": null,
   "id": "8f435d90-2b42-45c3-8bf1-97a3b1c3a358",
   "metadata": {},
   "outputs": [],
   "source": []
  }
 ],
 "metadata": {
  "kernelspec": {
   "display_name": "miprop",
   "language": "python",
   "name": "miprop"
  },
  "language_info": {
   "codemirror_mode": {
    "name": "ipython",
    "version": 3
   },
   "file_extension": ".py",
   "mimetype": "text/x-python",
   "name": "python",
   "nbconvert_exporter": "python",
   "pygments_lexer": "ipython3",
   "version": "3.10.16"
  }
 },
 "nbformat": 4,
 "nbformat_minor": 5
}
