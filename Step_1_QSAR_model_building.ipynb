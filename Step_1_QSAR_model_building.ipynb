{
 "cells": [
  {
   "cell_type": "markdown",
   "id": "41948cda-2dd6-4a5b-8c42-bc474c1be0a6",
   "metadata": {},
   "source": [
    "# QSAR model building"
   ]
  },
  {
   "cell_type": "code",
   "execution_count": null,
   "id": "d53feb03-7bae-403c-9915-a9cf77c12986",
   "metadata": {},
   "outputs": [],
   "source": [
    "dataset = None\n",
    "train = None\n",
    "test = None"
   ]
  },
  {
   "cell_type": "markdown",
   "id": "68b18516-ccac-4e96-9715-9e2adbe6e35c",
   "metadata": {},
   "source": [
    "# Descriptors, ML methods, DataFrame"
   ]
  },
  {
   "cell_type": "code",
   "execution_count": null,
   "id": "65d616de-3e34-4514-bca6-d38b463ef1ad",
   "metadata": {},
   "outputs": [],
   "source": [
    "descriptors = None\n",
    "methods = None\n",
    "results = None"
   ]
  },
  {
   "cell_type": "code",
   "execution_count": null,
   "id": "07e5b199-7c4c-449f-9bcf-0e910347e904",
   "metadata": {},
   "outputs": [],
   "source": []
  }
 ],
 "metadata": {
  "kernelspec": {
   "display_name": "miprop",
   "language": "python",
   "name": "miprop"
  },
  "language_info": {
   "codemirror_mode": {
    "name": "ipython",
    "version": 3
   },
   "file_extension": ".py",
   "mimetype": "text/x-python",
   "name": "python",
   "nbconvert_exporter": "python",
   "pygments_lexer": "ipython3",
   "version": "3.10.16"
  }
 },
 "nbformat": 4,
 "nbformat_minor": 5
}
