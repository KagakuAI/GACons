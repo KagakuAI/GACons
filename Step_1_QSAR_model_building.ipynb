{
 "cells": [
  {
   "cell_type": "code",
   "execution_count": 1,
   "id": "883536bc-f706-4402-8431-0f7709fba319",
   "metadata": {},
   "outputs": [],
   "source": [
    "import os\n",
    "\n",
    "import numpy as np\n",
    "import pandas as pd\n",
    "\n",
    "from pathlib import Path\n",
    "from rdkit import Chem\n",
    "from tqdm import tqdm"
   ]
  },
  {
   "cell_type": "code",
   "execution_count": 2,
   "id": "0bbad69c-e2c0-4af6-b951-e2816f86dbfd",
   "metadata": {},
   "outputs": [],
   "source": [
    "import warnings\n",
    "def warn(*args, **kwargs):\n",
    "    pass\n",
    "warnings.warn = warn"
   ]
  },
  {
   "cell_type": "markdown",
   "id": "3df4f34a-da1b-4115-b0a9-dfc491029036",
   "metadata": {},
   "source": [
    "## Mahine learning methods\n",
    "\n",
    "Machine learning methods are chosen from different families for diversity."
   ]
  },
  {
   "cell_type": "code",
   "execution_count": 3,
   "id": "f0c3cc60-a176-4605-8f8d-e0adf8c8128a",
   "metadata": {},
   "outputs": [],
   "source": [
    "from sklearn.linear_model import Ridge\n",
    "from sklearn.ensemble import RandomForestRegressor\n",
    "from sklearn.svm import SVR\n",
    "from sklearn.neural_network import MLPRegressor\n",
    "from sklearn.neighbors import KNeighborsRegressor"
   ]
  },
  {
   "cell_type": "code",
   "execution_count": 4,
   "id": "264e557f-000d-4e98-a0c4-e6df38b20194",
   "metadata": {},
   "outputs": [],
   "source": [
    "ml_list = [(Ridge(), \"RidgeRegression\"), \n",
    "           (RandomForestRegressor(), \"RandomForestRegressor\"),\n",
    "           (SVR(), \"SVR\"),\n",
    "           (MLPRegressor(max_iter=500), \"MLPRegressor\"),\n",
    "           (KNeighborsRegressor(), \"KNeighborsRegressor\")\n",
    "           ]"
   ]
  },
  {
   "cell_type": "markdown",
   "id": "92814dad-2b10-4e8a-a2dc-5c699a9cd0fc",
   "metadata": {},
   "source": [
    "## Chemical descriptors\n",
    "\n",
    "Descriptors are chosen from different families (topological, physico-chemical, tranformer-based, etc.) for diversity.\n",
    "\n",
    "More descriptors: https://molfeat.datamol.io/featurizers"
   ]
  },
  {
   "cell_type": "code",
   "execution_count": 5,
   "id": "dd63b6d5-06a1-429a-84e7-e3ced96bc478",
   "metadata": {},
   "outputs": [],
   "source": [
    "from molfeat.calc import (FPCalculator,\n",
    "                          RDKitDescriptors2D, \n",
    "                          Pharmacophore2D, \n",
    "                          MordredDescriptors, \n",
    "                          CATS, \n",
    "                          ScaffoldKeyCalculator)"
   ]
  },
  {
   "cell_type": "code",
   "execution_count": 6,
   "id": "ec74088c-2efc-46e1-8c47-854602c8d796",
   "metadata": {},
   "outputs": [],
   "source": [
    "descr_list = [\n",
    "            # fingerprints\n",
    "            (FPCalculator(\"atompair\"), \"AtomPairBinary\"),\n",
    "            (FPCalculator(\"atompair-count\"), \"AtomPairCount\"),\n",
    "            (FPCalculator(\"avalon\"), \"AvalonBinary\"),\n",
    "            (FPCalculator(\"ecfp\"), \"ECFPBinary\"),\n",
    "            (FPCalculator(\"ecfp-count\"), \"ECFPCount\"),\n",
    "            (FPCalculator(\"erg\"), \"ERG\"),\n",
    "            (FPCalculator(\"estate\"), \"Estate\"),\n",
    "            (FPCalculator(\"fcfp\"), \"FCFPBinary\"),\n",
    "            (FPCalculator(\"fcfp-count\"), \"FCFPCount\"),\n",
    "            (FPCalculator(\"layered\"), \"Layered\"),\n",
    "            (FPCalculator(\"maccs\"), \"MACCS\"),\n",
    "            (FPCalculator(\"pattern\"), \"Pattern\"),\n",
    "            (FPCalculator(\"rdkit\"), \"RDKitBinary\"),\n",
    "            (FPCalculator(\"rdkit-count\"), \"RDKitCount\"),\n",
    "            (FPCalculator(\"secfp\"), \"SECFP\"),\n",
    "            (FPCalculator(\"topological\"), \"TopologicalBinary\"),\n",
    "            (FPCalculator(\"topological-count\"), \"TopologicalCount\"),\n",
    "\n",
    "            # long\n",
    "            # (RDKitDescriptors2D(replace_nan=True), \"RDKitDescriptors2D\"),\n",
    "            # (Pharmacophore2D(replace_nan=True), \"Pharmacophore2D\"),\n",
    "            # (MordredDescriptors(replace_nan=True), \"MordredDescriptors\"),\n",
    "            # (ScaffoldKeyCalculator(), \"ScaffoldKey\"),\n",
    "           ]"
   ]
  },
  {
   "cell_type": "markdown",
   "id": "7533f304-c677-4ab6-850d-0518dcd63917",
   "metadata": {},
   "source": [
    "## Run benchmark"
   ]
  },
  {
   "cell_type": "code",
   "execution_count": 7,
   "id": "8e8b9466-130b-41f6-8311-e9aba820cfe6",
   "metadata": {},
   "outputs": [],
   "source": [
    "from sklearn.preprocessing import MinMaxScaler"
   ]
  },
  {
   "cell_type": "code",
   "execution_count": 8,
   "id": "83e6e381-700f-4718-89a1-416e234ce49d",
   "metadata": {},
   "outputs": [],
   "source": [
    "def parse_data(data_path):\n",
    "    data = pd.read_csv(data_path, header=None)\n",
    "    \n",
    "    mol_prop_list = []\n",
    "    for smi, prop in zip(data[0], data[1]):\n",
    "        mol = Chem.MolFromSmiles(smi)\n",
    "        mol_prop_list.append((mol, prop))\n",
    "\n",
    "    return mol_prop_list"
   ]
  },
  {
   "cell_type": "markdown",
   "id": "86fb4efd-6d88-47e2-affe-04ffc97012ee",
   "metadata": {},
   "source": [
    "### Input/output data path"
   ]
  },
  {
   "cell_type": "code",
   "execution_count": 11,
   "id": "0bb0f1f6-ba3d-4607-a16c-55dd08eef5d5",
   "metadata": {},
   "outputs": [],
   "source": [
    "# input data\n",
    "benchmark_collection =  Path(\"tmp_collection\").resolve()\n",
    "\n",
    "# output data\n",
    "prediction_collection = Path(\"prediction_collection\").resolve()\n",
    "\n",
    "os.makedirs(prediction_collection, exist_ok=True)"
   ]
  },
  {
   "cell_type": "markdown",
   "id": "e239a981-7986-47a4-9915-7d975b887375",
   "metadata": {},
   "source": [
    "### Model building"
   ]
  },
  {
   "cell_type": "code",
   "execution_count": 18,
   "id": "5104e3c7-0ec1-48ac-b6d3-2a121dae4457",
   "metadata": {},
   "outputs": [],
   "source": [
    "for bench_folder in os.listdir(benchmark_collection):\n",
    "    \n",
    "    # benchmark prediction save folder\n",
    "    res_folder = os.path.join(prediction_collection, bench_folder)\n",
    "    os.makedirs(res_folder, exist_ok=True)\n",
    "\n",
    "    # benchmark dataset\n",
    "    bench_folder = os.path.join(benchmark_collection, bench_folder)\n",
    "    \n",
    "    # run benchmark \n",
    "    for dataset in os.listdir(bench_folder)[:]:\n",
    "        res = pd.DataFrame()\n",
    "        #\n",
    "        mols_train = parse_data(os.path.join(bench_folder, dataset, 'train.csv'))\n",
    "        mols_test = parse_data(os.path.join(bench_folder, dataset, 'test.csv'))\n",
    "        #\n",
    "        res['Y_TRUE'] = [i[1] for i in mols_test]\n",
    "    \n",
    "        # calc 2D descriptors\n",
    "        for descr_func, descr_name in descr_list:\n",
    "    \n",
    "            # calculate training data descriptors\n",
    "            x_train, y_train = [], []\n",
    "            for mol, prop in mols_train:\n",
    "                if mol:\n",
    "                    x_train.append(descr_func(mol))\n",
    "                    y_train.append(prop)\n",
    "            x_train = np.array(x_train)\n",
    "            \n",
    "            # scale training data descriptors\n",
    "            scaler = MinMaxScaler()\n",
    "            x_train_scaled = scaler.fit_transform(x_train)\n",
    "            \n",
    "            # train machine learning model\n",
    "            for model, method_name in ml_list:\n",
    "                model.fit(x_train_scaled, y_train)\n",
    "                #\n",
    "                y_pred = []\n",
    "                for mol in [i[0] for i in mols_test]:\n",
    "                    if mol:\n",
    "                        x_test = descr_func(mol)\n",
    "                        x_test_scaled = scaler.transform(x_test.reshape(1, -1))\n",
    "                        y_pred.append(model.predict(x_test_scaled).item())\n",
    "                    else:\n",
    "                        y_pred.append(np.mean(y_train))\n",
    "                #\n",
    "                res[f'{descr_name}|{method_name}'] = y_pred\n",
    "                res.to_csv(os.path.join(res_folder, f'{dataset}.csv'), index=False)"
   ]
  },
  {
   "cell_type": "code",
   "execution_count": null,
   "id": "dfc0ed95-a094-4ddf-8230-f9f792bb4ba7",
   "metadata": {},
   "outputs": [],
   "source": []
  }
 ],
 "metadata": {
  "kernelspec": {
   "display_name": "miprop",
   "language": "python",
   "name": "miprop"
  },
  "language_info": {
   "codemirror_mode": {
    "name": "ipython",
    "version": 3
   },
   "file_extension": ".py",
   "mimetype": "text/x-python",
   "name": "python",
   "nbconvert_exporter": "python",
   "pygments_lexer": "ipython3",
   "version": "3.10.16"
  }
 },
 "nbformat": 4,
 "nbformat_minor": 5
}
