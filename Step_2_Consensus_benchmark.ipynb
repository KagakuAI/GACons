{
 "cells": [
  {
   "cell_type": "code",
   "execution_count": null,
   "id": "4904cdbc-11c0-4494-8227-6900adeef187",
   "metadata": {},
   "outputs": [],
   "source": [
    "import os\n",
    "import random\n",
    "import numpy as np\n",
    "import pandas as pd\n",
    "from pathlib import Path\n",
    "from copy import deepcopy\n",
    "from tqdm import tqdm\n",
    "\n",
    "from sklearn.metrics import mean_absolute_error, r2_score, root_mean_squared_error\n",
    "from sklearn.model_selection import train_test_split"
   ]
  },
  {
   "cell_type": "code",
   "execution_count": null,
   "id": "7d9792f1-28c1-4841-8f34-5b11a3959e67",
   "metadata": {},
   "outputs": [],
   "source": [
    "random.seed(42)"
   ]
  },
  {
   "cell_type": "code",
   "execution_count": null,
   "id": "b8565eac-33df-4a71-acf6-17bed3d9fc76",
   "metadata": {},
   "outputs": [],
   "source": [
    "def calc_accuracy(y_true, y_pred, metric='mae'):\n",
    "    if metric == 'mae':\n",
    "        acc = mean_absolute_error(y_true, y_pred)\n",
    "    elif metric == 'r2':\n",
    "        acc = r2_score(y_true, y_pred)\n",
    "    elif metric == 'rmse':\n",
    "        acc = root_mean_squared_error(y_true, y_pred)\n",
    "\n",
    "    return acc"
   ]
  },
  {
   "cell_type": "markdown",
   "id": "a4dd493a-71f4-4255-be5b-cb7935e68958",
   "metadata": {},
   "source": [
    "## Consensus methods"
   ]
  },
  {
   "cell_type": "code",
   "execution_count": null,
   "id": "fa1f7732-3a4c-43c9-a59d-c78a4f6ccbd7",
   "metadata": {},
   "outputs": [],
   "source": [
    "from consensus import RandomSearchRegressor, SystematicSearchRegressor, GeneticSearchRegressor\n",
    "from sklearn.linear_model import LinearRegression, Ridge"
   ]
  },
  {
   "cell_type": "code",
   "execution_count": null,
   "id": "04fdf0c7-f69f-4d36-bbc8-3fadc9628779",
   "metadata": {},
   "outputs": [],
   "source": [
    "method_list = [(SystematicSearchRegressor(cons_size=1, metric='rmse'), 'Best'),\n",
    "               (RandomSearchRegressor(cons_size=10, n_iter=5000, metric='rmse'), 'Random'),\n",
    "               (SystematicSearchRegressor(cons_size=10, metric='rmse'), 'Systematic'),\n",
    "               (GeneticSearchRegressor(cons_size=10, metric='rmse'), 'Genetic')]"
   ]
  },
  {
   "cell_type": "markdown",
   "id": "80ce9f12-18bb-40cf-87ae-d81250c62d44",
   "metadata": {},
   "source": [
    "## Consensus comparison\n",
    "### Input/output data path"
   ]
  },
  {
   "cell_type": "code",
   "execution_count": null,
   "id": "e6188170-5d12-482e-9730-7a67f705035b",
   "metadata": {},
   "outputs": [],
   "source": [
    "prediction_folder =  Path(\"benchmark_prediction/molnet\").resolve()\n",
    "results_folder = Path(\"benchmark_consensus/molnet\").resolve()\n",
    "\n",
    "os.makedirs(results_folder, exist_ok=True)"
   ]
  },
  {
   "cell_type": "markdown",
   "id": "f9677be1-1623-4a37-bec5-e9a30cecc725",
   "metadata": {},
   "source": [
    "### Consensus building"
   ]
  },
  {
   "cell_type": "code",
   "execution_count": null,
   "id": "0a276aff-7d8a-4f57-b818-ade6030f1502",
   "metadata": {},
   "outputs": [],
   "source": [
    "res_df_val = pd.DataFrame()\n",
    "res_df_test = pd.DataFrame()\n",
    "\n",
    "data_path = os.listdir(prediction_folder)\n",
    "for bench_file in tqdm(data_path):\n",
    "\n",
    "    bench_name = bench_file.split('.')[0]\n",
    "\n",
    "    # load data\n",
    "    df = pd.read_csv(os.path.join(bench_dir, bench_file))\n",
    "    df_val, df_test = train_test_split(df, test_size=0.3, random_state=42)\n",
    "    #\n",
    "    x_val, y_val = df_val.iloc[:, 1:], df_val.iloc[:, 0]\n",
    "    x_test, y_test = df_test.iloc[:, 1:], df_test.iloc[:, 0]\n",
    "    #\n",
    "    for method_func, method_name in method_list:\n",
    "        cons = method_func.run(x_val, y_val)\n",
    "        y_pred = x_val[cons].mean(axis=1)\n",
    "        #\n",
    "        res_df_val.loc[bench_name, method_name] = calc_accuracy(y_val, x_val[cons].mean(axis=1), metric='r2')\n",
    "        res_df_test.loc[bench_name, method_name] = calc_accuracy(y_test, x_test[cons].mean(axis=1), metric='r2')\n",
    "        \n",
    "    # stacking\n",
    "    stacking_model = LinearRegression()\n",
    "    model.fit(x_val, y_val)\n",
    "    #\n",
    "    res_df_val.loc[bench_name, \"Stacking\"] = calc_accuracy(y_val, model.predict(x_val), metric='r2')\n",
    "    res_df_test.loc[bench_name, \"Stacking\"] = calc_accuracy(y_test, model.predict(x_test), metric='r2')"
   ]
  },
  {
   "cell_type": "code",
   "execution_count": null,
   "id": "bd338044-28cc-4299-a98f-c2e3d9aa4d9c",
   "metadata": {},
   "outputs": [],
   "source": [
    "res_df_val.round(2)"
   ]
  },
  {
   "cell_type": "code",
   "execution_count": null,
   "id": "985a1213-85ae-41e1-a7e1-dacea9d2bbe3",
   "metadata": {},
   "outputs": [],
   "source": [
    "res_df_test.round(2)"
   ]
  },
  {
   "cell_type": "markdown",
   "id": "25d385d5-0a2a-4313-af63-b393c917da99",
   "metadata": {},
   "source": [
    "## Consensus comparison statistics"
   ]
  },
  {
   "cell_type": "code",
   "execution_count": null,
   "id": "3035f786-0d61-4c20-8d62-73168134976c",
   "metadata": {},
   "outputs": [],
   "source": [
    "from collections import Counter"
   ]
  },
  {
   "cell_type": "code",
   "execution_count": null,
   "id": "61936e26-5b1e-491a-a5dd-dbb2029eecdf",
   "metadata": {},
   "outputs": [],
   "source": [
    "tmp = []\n",
    "for dataset in res_df_test.index:\n",
    "    min_i = res_df_test.loc[dataset].argmin()\n",
    "    max_i = res_df_test.loc[dataset].argmax()\n",
    "    #\n",
    "    tmp.append(res_df_test.loc[dataset].index[max_i])"
   ]
  },
  {
   "cell_type": "code",
   "execution_count": null,
   "id": "2ab44dc5-0bd2-4326-8b7f-8d4e4b4fd9ab",
   "metadata": {},
   "outputs": [],
   "source": [
    "Counter(tmp)"
   ]
  },
  {
   "cell_type": "code",
   "execution_count": null,
   "id": "347079ea-e00e-4ea3-a185-131f368afe53",
   "metadata": {},
   "outputs": [],
   "source": [
    "res_df_val.mean(axis=0).round(2)"
   ]
  },
  {
   "cell_type": "code",
   "execution_count": null,
   "id": "23b8dbd1-aae1-45f2-ac90-2de4be87cf6a",
   "metadata": {},
   "outputs": [],
   "source": [
    "res_df_test.mean(axis=0).round(2)"
   ]
  },
  {
   "cell_type": "code",
   "execution_count": null,
   "id": "afd5d8c8-b91d-4c59-a8f8-31bb4515f4b0",
   "metadata": {},
   "outputs": [],
   "source": []
  },
  {
   "cell_type": "code",
   "execution_count": null,
   "id": "65d616de-3e34-4514-bca6-d38b463ef1ad",
   "metadata": {},
   "outputs": [],
   "source": []
  },
  {
   "cell_type": "code",
   "execution_count": null,
   "id": "5397392c-9790-4c76-96ce-c4ea6e6447be",
   "metadata": {},
   "outputs": [],
   "source": []
  }
 ],
 "metadata": {
  "kernelspec": {
   "display_name": "miprop",
   "language": "python",
   "name": "miprop"
  },
  "language_info": {
   "codemirror_mode": {
    "name": "ipython",
    "version": 3
   },
   "file_extension": ".py",
   "mimetype": "text/x-python",
   "name": "python",
   "nbconvert_exporter": "python",
   "pygments_lexer": "ipython3",
   "version": "3.10.16"
  }
 },
 "nbformat": 4,
 "nbformat_minor": 5
}
