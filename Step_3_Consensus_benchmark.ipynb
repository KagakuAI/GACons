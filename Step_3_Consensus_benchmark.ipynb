{
 "cells": [
  {
   "cell_type": "code",
   "execution_count": 1,
   "id": "4904cdbc-11c0-4494-8227-6900adeef187",
   "metadata": {},
   "outputs": [],
   "source": [
    "import os\n",
    "import random\n",
    "import numpy as np\n",
    "import pandas as pd\n",
    "from pathlib import Path\n",
    "from copy import deepcopy\n",
    "from tqdm import tqdm\n",
    "\n",
    "from sklearn.metrics import mean_absolute_error, r2_score, root_mean_squared_error\n",
    "from sklearn.model_selection import train_test_split\n",
    "\n",
    "from collections import defaultdict"
   ]
  },
  {
   "cell_type": "code",
   "execution_count": 2,
   "id": "7d9792f1-28c1-4841-8f34-5b11a3959e67",
   "metadata": {},
   "outputs": [],
   "source": [
    "random.seed(42)"
   ]
  },
  {
   "cell_type": "code",
   "execution_count": 3,
   "id": "b8565eac-33df-4a71-acf6-17bed3d9fc76",
   "metadata": {},
   "outputs": [],
   "source": [
    "def calc_accuracy(y_true, y_pred, metric='mae'):\n",
    "    if metric == 'mae':\n",
    "        acc = mean_absolute_error(y_true, y_pred)\n",
    "    elif metric == 'r2':\n",
    "        acc = r2_score(y_true, y_pred)\n",
    "    elif metric == 'rmse':\n",
    "        acc = root_mean_squared_error(y_true, y_pred)\n",
    "\n",
    "    return acc"
   ]
  },
  {
   "cell_type": "markdown",
   "id": "a4dd493a-71f4-4255-be5b-cb7935e68958",
   "metadata": {},
   "source": [
    "## Consensus methods"
   ]
  },
  {
   "cell_type": "code",
   "execution_count": 4,
   "id": "fa1f7732-3a4c-43c9-a59d-c78a4f6ccbd7",
   "metadata": {},
   "outputs": [],
   "source": [
    "from consensus import RandomSearchRegressor, SystematicSearchRegressor, GeneticSearchRegressor, HyperoptSearchRegressor\n",
    "\n",
    "from sklearn.linear_model import LinearRegression, Ridge\n",
    "from sklearn.ensemble import RandomForestRegressor\n",
    "from sklearn.svm import SVR\n",
    "from sklearn.neural_network import MLPRegressor\n",
    "from sklearn.neighbors import KNeighborsRegressor"
   ]
  },
  {
   "cell_type": "code",
   "execution_count": 5,
   "id": "04fdf0c7-f69f-4d36-bbc8-3fadc9628779",
   "metadata": {},
   "outputs": [],
   "source": [
    "method_list = [(SystematicSearchRegressor(cons_size=1, metric='r2'), 'Best'),\n",
    "               (SystematicSearchRegressor(cons_size=10**3, metric='r2'), 'All'),\n",
    "               (RandomSearchRegressor(cons_size=10, n_iter=10000, metric='r2'), 'Random'),\n",
    "               (SystematicSearchRegressor(cons_size=10, metric='r2'), 'Systematic'),\n",
    "               (GeneticSearchRegressor(cons_size=10, mut_prob=0.5, metric='r2'), 'Genetic'),\n",
    "               # (HyperoptSearchRegressor(cons_size=10, n_iter=200, metric='rmse'), 'Hyperopt')\n",
    "              ]"
   ]
  },
  {
   "cell_type": "markdown",
   "id": "80ce9f12-18bb-40cf-87ae-d81250c62d44",
   "metadata": {},
   "source": [
    "## Consensus comparison\n",
    "### Input/output data path"
   ]
  },
  {
   "cell_type": "code",
   "execution_count": 97,
   "id": "e6188170-5d12-482e-9730-7a67f705035b",
   "metadata": {},
   "outputs": [],
   "source": [
    "bench_folder =  Path(\"benchmark_model_prediction_1/chembl\").resolve()"
   ]
  },
  {
   "cell_type": "markdown",
   "id": "f9677be1-1623-4a37-bec5-e9a30cecc725",
   "metadata": {},
   "source": [
    "### Consensus building"
   ]
  },
  {
   "cell_type": "code",
   "execution_count": null,
   "id": "0a276aff-7d8a-4f57-b818-ade6030f1502",
   "metadata": {},
   "outputs": [
    {
     "name": "stderr",
     "output_type": "stream",
     "text": [
      " 70%|████████████████████████████████████████████████████████▎                        | 139/200 [50:27<22:16, 21.90s/it]"
     ]
    }
   ],
   "source": [
    "res_df_val = pd.DataFrame()\n",
    "res_df_test = pd.DataFrame()\n",
    "\n",
    "opt_cons_dict = defaultdict(list)\n",
    "for bench_name in tqdm(os.listdir(bench_folder)[:]):\n",
    "\n",
    "    # load data\n",
    "    df_val = pd.read_csv(os.path.join(bench_folder, bench_name, f\"{bench_name}_val.csv\"))\n",
    "    df_test = pd.read_csv(os.path.join(bench_folder, bench_name, f\"{bench_name}_test.csv\"))\n",
    "\n",
    "    # remove y_true column prof predictions table\n",
    "    x_val, y_val = df_val.iloc[:, 1:], df_val.iloc[:, 0]\n",
    "    x_test, y_test = df_test.iloc[:, 1:], df_test.iloc[:, 0]\n",
    "    \n",
    "    # build consensus\n",
    "    for method_func, method_name in method_list:\n",
    "        cons = method_func.run(x_val, y_val)\n",
    "        y_pred = x_val[cons].mean(axis=1)\n",
    "        #\n",
    "        res_df_val.loc[bench_name, method_name] = calc_accuracy(y_val, x_val[cons].mean(axis=1), metric='r2')\n",
    "        res_df_test.loc[bench_name, method_name] = calc_accuracy(y_test, x_test[cons].mean(axis=1), metric='r2')\n",
    "        \n",
    "        # consensus constituttion\n",
    "        opt_cons_dict[method_name].extend(cons)\n",
    "        \n",
    "    # stacking model\n",
    "    stacking_model = RandomForestRegressor()\n",
    "    stacking_model.fit(x_val, y_val)\n",
    "    #\n",
    "    res_df_val.loc[bench_name, \"Stacking\"] = calc_accuracy(y_val, stacking_model.predict(x_val), metric='r2')\n",
    "    res_df_test.loc[bench_name, \"Stacking\"] = calc_accuracy(y_test, stacking_model.predict(x_test), metric='r2')"
   ]
  },
  {
   "cell_type": "code",
   "execution_count": null,
   "id": "bd338044-28cc-4299-a98f-c2e3d9aa4d9c",
   "metadata": {},
   "outputs": [],
   "source": [
    "# res_df_val.round(2)"
   ]
  },
  {
   "cell_type": "code",
   "execution_count": null,
   "id": "985a1213-85ae-41e1-a7e1-dacea9d2bbe3",
   "metadata": {},
   "outputs": [],
   "source": [
    "# res_df_test.round(2)"
   ]
  },
  {
   "cell_type": "markdown",
   "id": "18fa544a-825a-4359-8060-9b17ab676e95",
   "metadata": {},
   "source": [
    "## Meta statistics"
   ]
  },
  {
   "cell_type": "code",
   "execution_count": null,
   "id": "81d1dd7e-cbd4-4b24-bee3-5b97210110d6",
   "metadata": {},
   "outputs": [],
   "source": [
    "from collections import Counter"
   ]
  },
  {
   "cell_type": "markdown",
   "id": "07282992-639c-4df4-89ad-f9a7281c5bba",
   "metadata": {},
   "source": [
    "### 1. Mean accuracy"
   ]
  },
  {
   "cell_type": "code",
   "execution_count": null,
   "id": "c3ed39e7-218e-4197-b173-8c0fcee16700",
   "metadata": {},
   "outputs": [],
   "source": [
    "res_df_val.mean(axis=0).round(2)"
   ]
  },
  {
   "cell_type": "code",
   "execution_count": null,
   "id": "91d7adbc-bab2-4650-a737-6d14fc78bd88",
   "metadata": {},
   "outputs": [],
   "source": [
    "res_df_test.mean(axis=0).round(2)"
   ]
  },
  {
   "cell_type": "markdown",
   "id": "9db95359-b8a6-442c-ae74-081ee8bc85b9",
   "metadata": {},
   "source": [
    "### 2. Top-N stat"
   ]
  },
  {
   "cell_type": "code",
   "execution_count": null,
   "id": "b1709c7c-a552-428c-962f-f8d06da4fa0d",
   "metadata": {},
   "outputs": [],
   "source": [
    "tmp = []\n",
    "for dataset in res_df_test.index:\n",
    "    min_i = res_df_test.loc[dataset].argmin()\n",
    "    max_i = res_df_test.loc[dataset].argmax()\n",
    "    #\n",
    "    tmp.append(res_df_test.loc[dataset].index[max_i])\n",
    "#\n",
    "Counter(tmp)"
   ]
  },
  {
   "cell_type": "markdown",
   "id": "df69fed6-a3b9-44a8-85fc-a0e8df589e6e",
   "metadata": {},
   "source": [
    "## 3. Pair comapison"
   ]
  },
  {
   "cell_type": "code",
   "execution_count": null,
   "id": "28a791d1-dd26-4da3-ac82-3e03ea50c16d",
   "metadata": {},
   "outputs": [],
   "source": [
    "# tmp = res_df_test[\"Best\"] - res_df_test[\"All\"]\n",
    "# tmp = res_df_test[\"All\"] - res_df_test[\"Systematic\"]\n",
    "# tmp = res_df_test[\"All\"] - res_df_test[\"Systematic\"]\n",
    "# tmp = res_df_test[\"Systematic\"] - res_df_test[\"Genetic\"]\n",
    "# tmp = res_df_test[\"Systematic\"] - res_df_test[\"Stacking\"]\n",
    "tmp = res_df_test[\"Genetic\"] - res_df_test[\"Stacking\"]\n",
    "\n",
    "\n",
    "res_pair = Counter(np.where(tmp > 0, 1, 2))\n",
    "res_pair = {k.item():v for k, v in res_pair.items()}\n",
    "print(dict(sorted(res_pair.items())))"
   ]
  },
  {
   "cell_type": "code",
   "execution_count": null,
   "id": "16b7686f-758a-43a9-bb7f-960320bf4515",
   "metadata": {},
   "outputs": [],
   "source": [
    "team_1 = [\"Best\", \"All\", \"Systematic\"]\n",
    "team_2 = [\"Genetic\", \"Stacking\"]\n",
    "\n",
    "# team_1 = [\"Best\"]\n",
    "# team_2 = [\"All\", \"Systematic\", \"Genetic\", \"Stacking\", \"Hyperopt\"]\n",
    "\n",
    "res = {1:0, 2:0}\n",
    "for dataset in res_df_test.index:\n",
    "    stats = res_df_test.loc[dataset].to_dict()\n",
    "    alg = max(stats, key=stats.get)\n",
    "    if alg in team_1:\n",
    "        res[1] += 1\n",
    "    else:\n",
    "        res[2] += 1\n",
    "res"
   ]
  },
  {
   "cell_type": "code",
   "execution_count": null,
   "id": "586eea5c-bd08-4c93-8971-7afe22c6cd51",
   "metadata": {},
   "outputs": [],
   "source": []
  },
  {
   "cell_type": "markdown",
   "id": "f239ec78-19c8-47aa-8a0c-4ddbd125fb4f",
   "metadata": {},
   "source": [
    "## 4. Consensus constitution"
   ]
  },
  {
   "cell_type": "code",
   "execution_count": null,
   "id": "ab4f52da-b7ed-4d02-8256-2aa6b4faacc1",
   "metadata": {},
   "outputs": [],
   "source": [
    "import seaborn as sns"
   ]
  },
  {
   "cell_type": "code",
   "execution_count": null,
   "id": "38da330d-be1d-4d9a-8bc7-a68d81684a2e",
   "metadata": {},
   "outputs": [],
   "source": [
    "descr_list = [i.split(\"|\")[0] for i in opt_cons_dict[\"Genetic\"]]\n",
    "ml_list = [i.split(\"|\")[1] for i in opt_cons_dict[\"Genetic\"]]"
   ]
  },
  {
   "cell_type": "code",
   "execution_count": null,
   "id": "112457b8-317d-4436-ad2e-f5f12682403b",
   "metadata": {},
   "outputs": [],
   "source": [
    "Counter(descr_list)"
   ]
  },
  {
   "cell_type": "code",
   "execution_count": null,
   "id": "b74bbad4-b07c-4989-a279-059ddf1f7867",
   "metadata": {},
   "outputs": [],
   "source": [
    "Counter(ml_list)"
   ]
  },
  {
   "cell_type": "code",
   "execution_count": null,
   "id": "5900dfbf-8933-4483-abc2-4dcee50fa6aa",
   "metadata": {},
   "outputs": [],
   "source": []
  },
  {
   "cell_type": "markdown",
   "id": "1cfe17a6-fdf4-49f3-b3ce-525a8de607f5",
   "metadata": {},
   "source": [
    "## 5. Method consistency"
   ]
  },
  {
   "cell_type": "code",
   "execution_count": null,
   "id": "5879e3a0-4e40-4588-a33e-e8f2e47a0a62",
   "metadata": {},
   "outputs": [],
   "source": [
    "diff_val = res_df_val[\"Genetic\"] - res_df_val[\"Best\"]\n",
    "diff_test = res_df_test[\"Genetic\"] - res_df_test[\"Best\"]\n",
    "\n",
    "# diff_val = res_df_val[\"Genetic\"] - res_df_val[\"Systematic\"]\n",
    "# diff_test = res_df_test[\"Genetic\"] - res_df_test[\"Systematic\"]\n",
    "\n",
    "# diff_val = res_df_val[\"Genetic\"] - res_df_val[\"Stacking\"]\n",
    "# diff_test = res_df_test[\"Genetic\"] - res_df_test[\"Stacking\"]\n",
    "\n",
    "stat = np.where(diff_val > 0, 1, 0) == np.where(diff_test > 0, 1, 0)"
   ]
  },
  {
   "cell_type": "code",
   "execution_count": null,
   "id": "28a48741-4f95-4a5e-b5f8-91032fd90de4",
   "metadata": {},
   "outputs": [],
   "source": [
    "print(sum(stat).item())\n",
    "print(len(stat))\n",
    "print(round(sum(stat) / len(stat), 2))"
   ]
  },
  {
   "cell_type": "code",
   "execution_count": null,
   "id": "dc71d4dd-54fa-42e7-95ad-36cd7f38737b",
   "metadata": {},
   "outputs": [],
   "source": []
  },
  {
   "cell_type": "code",
   "execution_count": null,
   "id": "7d3f70b9-bd72-4543-b7ca-c18cd7016469",
   "metadata": {},
   "outputs": [],
   "source": []
  },
  {
   "cell_type": "code",
   "execution_count": null,
   "id": "1940f5d3-33f9-46ec-bc31-9e94c10b27f0",
   "metadata": {},
   "outputs": [],
   "source": []
  }
 ],
 "metadata": {
  "kernelspec": {
   "display_name": "miprop",
   "language": "python",
   "name": "miprop"
  },
  "language_info": {
   "codemirror_mode": {
    "name": "ipython",
    "version": 3
   },
   "file_extension": ".py",
   "mimetype": "text/x-python",
   "name": "python",
   "nbconvert_exporter": "python",
   "pygments_lexer": "ipython3",
   "version": "3.10.16"
  }
 },
 "nbformat": 4,
 "nbformat_minor": 5
}
