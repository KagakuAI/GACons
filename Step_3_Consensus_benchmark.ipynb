{
 "cells": [
  {
   "cell_type": "code",
   "execution_count": 31,
   "id": "4904cdbc-11c0-4494-8227-6900adeef187",
   "metadata": {},
   "outputs": [],
   "source": [
    "import os\n",
    "import random\n",
    "import numpy as np\n",
    "import pandas as pd\n",
    "from pathlib import Path\n",
    "from copy import deepcopy\n",
    "from tqdm import tqdm\n",
    "\n",
    "from sklearn.metrics import mean_absolute_error, r2_score, root_mean_squared_error\n",
    "from sklearn.model_selection import train_test_split"
   ]
  },
  {
   "cell_type": "code",
   "execution_count": 32,
   "id": "7d9792f1-28c1-4841-8f34-5b11a3959e67",
   "metadata": {},
   "outputs": [],
   "source": [
    "random.seed(42)"
   ]
  },
  {
   "cell_type": "code",
   "execution_count": 33,
   "id": "b8565eac-33df-4a71-acf6-17bed3d9fc76",
   "metadata": {},
   "outputs": [],
   "source": [
    "def calc_accuracy(y_true, y_pred, metric='mae'):\n",
    "    if metric == 'mae':\n",
    "        acc = mean_absolute_error(y_true, y_pred)\n",
    "    elif metric == 'r2':\n",
    "        acc = r2_score(y_true, y_pred)\n",
    "    elif metric == 'rmse':\n",
    "        acc = root_mean_squared_error(y_true, y_pred)\n",
    "\n",
    "    return acc"
   ]
  },
  {
   "cell_type": "markdown",
   "id": "a4dd493a-71f4-4255-be5b-cb7935e68958",
   "metadata": {},
   "source": [
    "## Consensus methods"
   ]
  },
  {
   "cell_type": "code",
   "execution_count": 34,
   "id": "fa1f7732-3a4c-43c9-a59d-c78a4f6ccbd7",
   "metadata": {},
   "outputs": [],
   "source": [
    "from consensus import RandomSearchRegressor, SystematicSearchRegressor, GeneticSearchRegressor, HyperoptSearchRegressor\n",
    "\n",
    "from sklearn.linear_model import LinearRegression, Ridge\n",
    "from sklearn.ensemble import RandomForestRegressor\n",
    "from sklearn.svm import SVR\n",
    "from sklearn.neural_network import MLPRegressor\n",
    "from sklearn.neighbors import KNeighborsRegressor\n",
    "from sklearn.ensemble import StackingRegressor\n",
    "from sklearn.model_selection import cross_val_predict\n",
    "from sklearn.model_selection import RepeatedKFold\n",
    "from sklearn.linear_model import Ridge"
   ]
  },
  {
   "cell_type": "code",
   "execution_count": 35,
   "id": "04fdf0c7-f69f-4d36-bbc8-3fadc9628779",
   "metadata": {},
   "outputs": [],
   "source": [
    "method_list = [(SystematicSearchRegressor(cons_size=10, metric='r2'), 'Best'),\n",
    "               #(SystematicSearchRegressor(cons_size=10**3, metric='r2'), 'All'),\n",
    "               (RandomSearchRegressor(cons_size=2, n_iter=5, metric='r2'), 'Random'),\n",
    "               (SystematicSearchRegressor(cons_size=2, metric='r2'), 'Systematic'),\n",
    "               (GeneticSearchRegressor(cons_size=3, mut_prob=0.5, metric='r2'), 'Genetic'),\n",
    "               #(HyperoptSearchRegressor(cons_size=3, n_iter=200, metric='rmse'), 'Hyperopt')\n",
    "               ]"
   ]
  },
  {
   "cell_type": "markdown",
   "id": "80ce9f12-18bb-40cf-87ae-d81250c62d44",
   "metadata": {},
   "source": [
    "## Consensus comparison\n",
    "### Input/output data path"
   ]
  },
  {
   "cell_type": "code",
   "execution_count": 36,
   "id": "e6188170-5d12-482e-9730-7a67f705035b",
   "metadata": {},
   "outputs": [],
   "source": [
    "bench_folder =  Path(\"benchmark_model_prediction/acf\").resolve()"
   ]
  },
  {
   "cell_type": "markdown",
   "id": "f9677be1-1623-4a37-bec5-e9a30cecc725",
   "metadata": {},
   "source": [
    "### Consensus building"
   ]
  },
  {
   "cell_type": "code",
   "execution_count": 37,
   "id": "60ac1290",
   "metadata": {},
   "outputs": [],
   "source": [
    "estimators = [\n",
    "    (LinearRegression(), 'LinearRegression'),\n",
    "    (RandomForestRegressor(), 'RandomForestRegressor'),\n",
    "    (MLPRegressor(), 'MLPRegressor'),\n",
    "    (Ridge(), 'Ridge'),\n",
    "    (SVR(), 'SVR'),\n",
    "    (KNeighborsRegressor(), 'KNeighborsRegressor')\n",
    "]"
   ]
  },
  {
   "cell_type": "code",
   "execution_count": 38,
   "id": "0a276aff-7d8a-4f57-b818-ade6030f1502",
   "metadata": {},
   "outputs": [],
   "source": [
    "# res_df_val = pd.DataFrame()\n",
    "res_df_test = pd.DataFrame()\n",
    "res_df_train = pd.DataFrame()"
   ]
  },
  {
   "cell_type": "code",
   "execution_count": 39,
   "id": "4d4ce8aa",
   "metadata": {},
   "outputs": [
    {
     "name": "stderr",
     "output_type": "stream",
     "text": [
      "  0%|          | 0/1 [00:00<?, ?it/s]c:\\Users\\micha\\anaconda3\\envs\\mlstack\\Lib\\site-packages\\sklearn\\neural_network\\_multilayer_perceptron.py:691: ConvergenceWarning: Stochastic Optimizer: Maximum iterations (200) reached and the optimization hasn't converged yet.\n",
      "  warnings.warn(\n",
      "100%|██████████| 1/1 [00:08<00:00,  8.31s/it]\n"
     ]
    }
   ],
   "source": [
    "\n",
    "for bench_name in tqdm(os.listdir(bench_folder)[:]):\n",
    "\n",
    "    # load data\n",
    "    # df_val = pd.read_csv(os.path.join(bench_folder, bench_name, f\"{bench_name}_val.csv\"))\n",
    "    df_test = pd.read_csv(os.path.join(bench_folder, bench_name, f\"{bench_name}_test.csv\"))\n",
    "    df_train = pd.read_csv(os.path.join(bench_folder, bench_name, f\"{bench_name}_traincv.csv\"))\n",
    "    \n",
    "    # remove y_true column prof predictions table\n",
    "    # x_val, y_val = df_val.iloc[:, 1:], df_val.iloc[:, 0]\n",
    "    x_train, y_train = df_train.iloc[:, 1:], df_train.iloc[:, 0]\n",
    "    x_test, y_test = df_test.iloc[:, 1:], df_test.iloc[:, 0]\n",
    "\n",
    "    cv = RepeatedKFold(n_splits=5, n_repeats=1, random_state=1)\n",
    "\n",
    "    # build consensus\n",
    "    for method_func, method_name in method_list:\n",
    "        cons = method_func.run(x_train, y_train)\n",
    "        y_pred = x_train[cons].mean(axis=1)\n",
    "        #\n",
    "        res_df_train.loc[bench_name, method_name] = calc_accuracy(y_train, x_train[cons].mean(axis=1), metric='r2')\n",
    "        res_df_test.loc[bench_name, method_name] = calc_accuracy(y_test, x_test[cons].mean(axis=1), metric='r2')\n",
    "        \n",
    "        # # stacking model\n",
    "        # x_stack, y_stack = df_train.iloc[:, 1:], df_train.iloc[:, 0]\n",
    "\n",
    "    for model, name in estimators:\n",
    "        model.fit(x_train, y_train)\n",
    "        predictions = model.predict(x_test)\n",
    "        # predictions = cross_val_predict(model, x_train, y_train, cv=cv, n_jobs=-1) \n",
    "        res_df_test.loc[bench_name, f\"Stacking_test_{model}\"] = calc_accuracy(y_test, predictions, metric='r2')\n",
    "    \n",
    "    "
   ]
  },
  {
   "cell_type": "code",
   "execution_count": 40,
   "id": "047a6ced",
   "metadata": {},
   "outputs": [
    {
     "data": {
      "text/html": [
       "<div>\n",
       "<style scoped>\n",
       "    .dataframe tbody tr th:only-of-type {\n",
       "        vertical-align: middle;\n",
       "    }\n",
       "\n",
       "    .dataframe tbody tr th {\n",
       "        vertical-align: top;\n",
       "    }\n",
       "\n",
       "    .dataframe thead th {\n",
       "        text-align: right;\n",
       "    }\n",
       "</style>\n",
       "<table border=\"1\" class=\"dataframe\">\n",
       "  <thead>\n",
       "    <tr style=\"text-align: right;\">\n",
       "      <th></th>\n",
       "      <th>Best</th>\n",
       "      <th>Random</th>\n",
       "      <th>Systematic</th>\n",
       "      <th>Genetic</th>\n",
       "      <th>Stacking_test_LinearRegression()</th>\n",
       "      <th>Stacking_test_RandomForestRegressor()</th>\n",
       "      <th>Stacking_test_MLPRegressor()</th>\n",
       "      <th>Stacking_test_Ridge()</th>\n",
       "      <th>Stacking_test_SVR()</th>\n",
       "      <th>Stacking_test_KNeighborsRegressor()</th>\n",
       "    </tr>\n",
       "  </thead>\n",
       "  <tbody>\n",
       "    <tr>\n",
       "      <th>CHEMBL1862_Ki</th>\n",
       "      <td>0.786615</td>\n",
       "      <td>0.601987</td>\n",
       "      <td>0.783037</td>\n",
       "      <td>0.77183</td>\n",
       "      <td>0.799794</td>\n",
       "      <td>0.803841</td>\n",
       "      <td>0.784582</td>\n",
       "      <td>0.79983</td>\n",
       "      <td>0.791836</td>\n",
       "      <td>0.764608</td>\n",
       "    </tr>\n",
       "  </tbody>\n",
       "</table>\n",
       "</div>"
      ],
      "text/plain": [
       "                   Best    Random  Systematic  Genetic  \\\n",
       "CHEMBL1862_Ki  0.786615  0.601987    0.783037  0.77183   \n",
       "\n",
       "               Stacking_test_LinearRegression()  \\\n",
       "CHEMBL1862_Ki                          0.799794   \n",
       "\n",
       "               Stacking_test_RandomForestRegressor()  \\\n",
       "CHEMBL1862_Ki                               0.803841   \n",
       "\n",
       "               Stacking_test_MLPRegressor()  Stacking_test_Ridge()  \\\n",
       "CHEMBL1862_Ki                      0.784582                0.79983   \n",
       "\n",
       "               Stacking_test_SVR()  Stacking_test_KNeighborsRegressor()  \n",
       "CHEMBL1862_Ki             0.791836                             0.764608  "
      ]
     },
     "execution_count": 40,
     "metadata": {},
     "output_type": "execute_result"
    }
   ],
   "source": [
    "res_df_test"
   ]
  },
  {
   "cell_type": "markdown",
   "id": "f65ad7a8",
   "metadata": {},
   "source": []
  },
  {
   "cell_type": "markdown",
   "id": "18fa544a-825a-4359-8060-9b17ab676e95",
   "metadata": {},
   "source": [
    "## Meta statistics"
   ]
  },
  {
   "cell_type": "code",
   "execution_count": 41,
   "id": "81d1dd7e-cbd4-4b24-bee3-5b97210110d6",
   "metadata": {},
   "outputs": [],
   "source": [
    "from collections import Counter"
   ]
  },
  {
   "cell_type": "markdown",
   "id": "07282992-639c-4df4-89ad-f9a7281c5bba",
   "metadata": {},
   "source": [
    "### 1. Mean accuracy"
   ]
  },
  {
   "cell_type": "code",
   "execution_count": 42,
   "id": "c3ed39e7-218e-4197-b173-8c0fcee16700",
   "metadata": {},
   "outputs": [
    {
     "ename": "NameError",
     "evalue": "name 'res_df_val' is not defined",
     "output_type": "error",
     "traceback": [
      "\u001b[31m---------------------------------------------------------------------------\u001b[39m",
      "\u001b[31mNameError\u001b[39m                                 Traceback (most recent call last)",
      "\u001b[36mCell\u001b[39m\u001b[36m \u001b[39m\u001b[32mIn[42]\u001b[39m\u001b[32m, line 1\u001b[39m\n\u001b[32m----> \u001b[39m\u001b[32m1\u001b[39m \u001b[43mres_df_val\u001b[49m.mean(axis=\u001b[32m0\u001b[39m).round(\u001b[32m2\u001b[39m)\n",
      "\u001b[31mNameError\u001b[39m: name 'res_df_val' is not defined"
     ]
    }
   ],
   "source": [
    "res_df_val.mean(axis=0).round(2)"
   ]
  },
  {
   "cell_type": "code",
   "execution_count": null,
   "id": "91d7adbc-bab2-4650-a737-6d14fc78bd88",
   "metadata": {},
   "outputs": [
    {
     "data": {
      "text/plain": [
       "Best                                        0.64\n",
       "Stacking_test_LinearRegression()        -6016.51\n",
       "Stacking_test_RandomForestRegressor()       0.63\n",
       "Stacking_test_MLPRegressor()            -3605.35\n",
       "Stacking_test_Ridge()                   -5581.64\n",
       "Stacking_test_SVR()                         0.50\n",
       "Stacking_test_KNeighborsRegressor()         0.54\n",
       "Random                                     -0.46\n",
       "Systematic                                  0.62\n",
       "dtype: float64"
      ]
     },
     "execution_count": 22,
     "metadata": {},
     "output_type": "execute_result"
    }
   ],
   "source": [
    "res_df_test.mean(axis=0).round(2)"
   ]
  },
  {
   "cell_type": "markdown",
   "id": "9db95359-b8a6-442c-ae74-081ee8bc85b9",
   "metadata": {},
   "source": [
    "### 2. Top-N stat"
   ]
  },
  {
   "cell_type": "code",
   "execution_count": null,
   "id": "b1709c7c-a552-428c-962f-f8d06da4fa0d",
   "metadata": {},
   "outputs": [
    {
     "data": {
      "text/plain": [
       "Counter({'Stacking_test_RandomForestRegressor()': 13,\n",
       "         'Best': 4,\n",
       "         'Systematic': 1})"
      ]
     },
     "execution_count": 23,
     "metadata": {},
     "output_type": "execute_result"
    }
   ],
   "source": [
    "tmp = []\n",
    "for dataset in res_df_test.index:\n",
    "    min_i = res_df_test.loc[dataset].argmin()\n",
    "    max_i = res_df_test.loc[dataset].argmax()\n",
    "    #\n",
    "    tmp.append(res_df_test.loc[dataset].index[max_i])\n",
    "#\n",
    "Counter(tmp)"
   ]
  },
  {
   "cell_type": "markdown",
   "id": "df69fed6-a3b9-44a8-85fc-a0e8df589e6e",
   "metadata": {},
   "source": [
    "## 3. Pair comapison"
   ]
  },
  {
   "cell_type": "code",
   "execution_count": null,
   "id": "28a791d1-dd26-4da3-ac82-3e03ea50c16d",
   "metadata": {},
   "outputs": [
    {
     "ename": "KeyError",
     "evalue": "'Genetic'",
     "output_type": "error",
     "traceback": [
      "\u001b[31m---------------------------------------------------------------------------\u001b[39m",
      "\u001b[31mKeyError\u001b[39m                                  Traceback (most recent call last)",
      "\u001b[36mFile \u001b[39m\u001b[32mc:\\Users\\micha\\anaconda3\\envs\\mlstack\\Lib\\site-packages\\pandas\\core\\indexes\\base.py:3805\u001b[39m, in \u001b[36mIndex.get_loc\u001b[39m\u001b[34m(self, key)\u001b[39m\n\u001b[32m   3804\u001b[39m \u001b[38;5;28;01mtry\u001b[39;00m:\n\u001b[32m-> \u001b[39m\u001b[32m3805\u001b[39m     \u001b[38;5;28;01mreturn\u001b[39;00m \u001b[38;5;28;43mself\u001b[39;49m\u001b[43m.\u001b[49m\u001b[43m_engine\u001b[49m\u001b[43m.\u001b[49m\u001b[43mget_loc\u001b[49m\u001b[43m(\u001b[49m\u001b[43mcasted_key\u001b[49m\u001b[43m)\u001b[49m\n\u001b[32m   3806\u001b[39m \u001b[38;5;28;01mexcept\u001b[39;00m \u001b[38;5;167;01mKeyError\u001b[39;00m \u001b[38;5;28;01mas\u001b[39;00m err:\n",
      "\u001b[36mFile \u001b[39m\u001b[32mindex.pyx:167\u001b[39m, in \u001b[36mpandas._libs.index.IndexEngine.get_loc\u001b[39m\u001b[34m()\u001b[39m\n",
      "\u001b[36mFile \u001b[39m\u001b[32mindex.pyx:196\u001b[39m, in \u001b[36mpandas._libs.index.IndexEngine.get_loc\u001b[39m\u001b[34m()\u001b[39m\n",
      "\u001b[36mFile \u001b[39m\u001b[32mpandas\\\\_libs\\\\hashtable_class_helper.pxi:7081\u001b[39m, in \u001b[36mpandas._libs.hashtable.PyObjectHashTable.get_item\u001b[39m\u001b[34m()\u001b[39m\n",
      "\u001b[36mFile \u001b[39m\u001b[32mpandas\\\\_libs\\\\hashtable_class_helper.pxi:7089\u001b[39m, in \u001b[36mpandas._libs.hashtable.PyObjectHashTable.get_item\u001b[39m\u001b[34m()\u001b[39m\n",
      "\u001b[31mKeyError\u001b[39m: 'Genetic'",
      "\nThe above exception was the direct cause of the following exception:\n",
      "\u001b[31mKeyError\u001b[39m                                  Traceback (most recent call last)",
      "\u001b[36mCell\u001b[39m\u001b[36m \u001b[39m\u001b[32mIn[24]\u001b[39m\u001b[32m, line 6\u001b[39m\n\u001b[32m      1\u001b[39m \u001b[38;5;66;03m# tmp = res_df_test[\"Best\"] - res_df_test[\"All\"]\u001b[39;00m\n\u001b[32m      2\u001b[39m \u001b[38;5;66;03m# tmp = res_df_test[\"Best\"] - res_df_test[\"Systematic\"]\u001b[39;00m\n\u001b[32m      3\u001b[39m \u001b[38;5;66;03m# tmp = res_df_test[\"All\"] - res_df_test[\"Systematic\"]\u001b[39;00m\n\u001b[32m      4\u001b[39m \u001b[38;5;66;03m# tmp = res_df_test[\"Systematic\"] - res_df_test[\"Genetic\"]\u001b[39;00m\n\u001b[32m      5\u001b[39m \u001b[38;5;66;03m# tmp = res_df_test[\"Systematic\"] - res_df_test[\"Stacking\"]\u001b[39;00m\n\u001b[32m----> \u001b[39m\u001b[32m6\u001b[39m tmp = \u001b[43mres_df_test\u001b[49m\u001b[43m[\u001b[49m\u001b[33;43m\"\u001b[39;49m\u001b[33;43mGenetic\u001b[39;49m\u001b[33;43m\"\u001b[39;49m\u001b[43m]\u001b[49m - res_df_test[\u001b[33m\"\u001b[39m\u001b[33mStacking\u001b[39m\u001b[33m\"\u001b[39m]\n\u001b[32m      9\u001b[39m res_pair = Counter(np.where(tmp > \u001b[32m0\u001b[39m, \u001b[32m1\u001b[39m, \u001b[32m2\u001b[39m))\n\u001b[32m     10\u001b[39m res_pair = {k.item():v \u001b[38;5;28;01mfor\u001b[39;00m k, v \u001b[38;5;129;01min\u001b[39;00m res_pair.items()}\n",
      "\u001b[36mFile \u001b[39m\u001b[32mc:\\Users\\micha\\anaconda3\\envs\\mlstack\\Lib\\site-packages\\pandas\\core\\frame.py:4102\u001b[39m, in \u001b[36mDataFrame.__getitem__\u001b[39m\u001b[34m(self, key)\u001b[39m\n\u001b[32m   4100\u001b[39m \u001b[38;5;28;01mif\u001b[39;00m \u001b[38;5;28mself\u001b[39m.columns.nlevels > \u001b[32m1\u001b[39m:\n\u001b[32m   4101\u001b[39m     \u001b[38;5;28;01mreturn\u001b[39;00m \u001b[38;5;28mself\u001b[39m._getitem_multilevel(key)\n\u001b[32m-> \u001b[39m\u001b[32m4102\u001b[39m indexer = \u001b[38;5;28;43mself\u001b[39;49m\u001b[43m.\u001b[49m\u001b[43mcolumns\u001b[49m\u001b[43m.\u001b[49m\u001b[43mget_loc\u001b[49m\u001b[43m(\u001b[49m\u001b[43mkey\u001b[49m\u001b[43m)\u001b[49m\n\u001b[32m   4103\u001b[39m \u001b[38;5;28;01mif\u001b[39;00m is_integer(indexer):\n\u001b[32m   4104\u001b[39m     indexer = [indexer]\n",
      "\u001b[36mFile \u001b[39m\u001b[32mc:\\Users\\micha\\anaconda3\\envs\\mlstack\\Lib\\site-packages\\pandas\\core\\indexes\\base.py:3812\u001b[39m, in \u001b[36mIndex.get_loc\u001b[39m\u001b[34m(self, key)\u001b[39m\n\u001b[32m   3807\u001b[39m     \u001b[38;5;28;01mif\u001b[39;00m \u001b[38;5;28misinstance\u001b[39m(casted_key, \u001b[38;5;28mslice\u001b[39m) \u001b[38;5;129;01mor\u001b[39;00m (\n\u001b[32m   3808\u001b[39m         \u001b[38;5;28misinstance\u001b[39m(casted_key, abc.Iterable)\n\u001b[32m   3809\u001b[39m         \u001b[38;5;129;01mand\u001b[39;00m \u001b[38;5;28many\u001b[39m(\u001b[38;5;28misinstance\u001b[39m(x, \u001b[38;5;28mslice\u001b[39m) \u001b[38;5;28;01mfor\u001b[39;00m x \u001b[38;5;129;01min\u001b[39;00m casted_key)\n\u001b[32m   3810\u001b[39m     ):\n\u001b[32m   3811\u001b[39m         \u001b[38;5;28;01mraise\u001b[39;00m InvalidIndexError(key)\n\u001b[32m-> \u001b[39m\u001b[32m3812\u001b[39m     \u001b[38;5;28;01mraise\u001b[39;00m \u001b[38;5;167;01mKeyError\u001b[39;00m(key) \u001b[38;5;28;01mfrom\u001b[39;00m\u001b[38;5;250m \u001b[39m\u001b[34;01merr\u001b[39;00m\n\u001b[32m   3813\u001b[39m \u001b[38;5;28;01mexcept\u001b[39;00m \u001b[38;5;167;01mTypeError\u001b[39;00m:\n\u001b[32m   3814\u001b[39m     \u001b[38;5;66;03m# If we have a listlike key, _check_indexing_error will raise\u001b[39;00m\n\u001b[32m   3815\u001b[39m     \u001b[38;5;66;03m#  InvalidIndexError. Otherwise we fall through and re-raise\u001b[39;00m\n\u001b[32m   3816\u001b[39m     \u001b[38;5;66;03m#  the TypeError.\u001b[39;00m\n\u001b[32m   3817\u001b[39m     \u001b[38;5;28mself\u001b[39m._check_indexing_error(key)\n",
      "\u001b[31mKeyError\u001b[39m: 'Genetic'"
     ]
    }
   ],
   "source": [
    "# tmp = res_df_test[\"Best\"] - res_df_test[\"All\"]\n",
    "# tmp = res_df_test[\"Best\"] - res_df_test[\"Systematic\"]\n",
    "# tmp = res_df_test[\"All\"] - res_df_test[\"Systematic\"]\n",
    "# tmp = res_df_test[\"Systematic\"] - res_df_test[\"Genetic\"]\n",
    "# tmp = res_df_test[\"Systematic\"] - res_df_test[\"Stacking\"]\n",
    "tmp = res_df_test[\"Genetic\"] - res_df_test[\"Stacking\"]\n",
    "\n",
    "\n",
    "res_pair = Counter(np.where(tmp > 0, 1, 2))\n",
    "res_pair = {k.item():v for k, v in res_pair.items()}\n",
    "print(dict(sorted(res_pair.items())))"
   ]
  },
  {
   "cell_type": "code",
   "execution_count": null,
   "id": "16b7686f-758a-43a9-bb7f-960320bf4515",
   "metadata": {},
   "outputs": [],
   "source": [
    "team_1 = [\"Res\", \"All\", \"Systematic\"]\n",
    "team_2 = [\"Genetic\", \"Stacking\"]\n",
    "\n",
    "res = {1:0, 2:0}\n",
    "for dataset in res_df_test.index:\n",
    "    stats = res_df_test.loc[dataset].to_dict()\n",
    "    alg = max(stats, key=stats.get)\n",
    "    if alg in team_1:\n",
    "        res[1] += 1\n",
    "    else:\n",
    "        res[2] += 1\n",
    "res"
   ]
  },
  {
   "cell_type": "code",
   "execution_count": null,
   "id": "586eea5c-bd08-4c93-8971-7afe22c6cd51",
   "metadata": {},
   "outputs": [],
   "source": []
  },
  {
   "cell_type": "code",
   "execution_count": null,
   "id": "18984308-54e6-4d27-968d-c8f64f75d571",
   "metadata": {},
   "outputs": [],
   "source": []
  },
  {
   "cell_type": "code",
   "execution_count": null,
   "id": "38da330d-be1d-4d9a-8bc7-a68d81684a2e",
   "metadata": {},
   "outputs": [],
   "source": []
  }
 ],
 "metadata": {
  "kernelspec": {
   "display_name": "mlstack",
   "language": "python",
   "name": "python3"
  },
  "language_info": {
   "codemirror_mode": {
    "name": "ipython",
    "version": 3
   },
   "file_extension": ".py",
   "mimetype": "text/x-python",
   "name": "python",
   "nbconvert_exporter": "python",
   "pygments_lexer": "ipython3",
   "version": "3.13.2"
  }
 },
 "nbformat": 4,
 "nbformat_minor": 5
}
