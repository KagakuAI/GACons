{
 "cells": [
  {
   "cell_type": "code",
   "execution_count": 1,
   "id": "4904cdbc-11c0-4494-8227-6900adeef187",
   "metadata": {},
   "outputs": [],
   "source": [
    "import os\n",
    "import random\n",
    "import numpy as np\n",
    "import pandas as pd\n",
    "from pathlib import Path\n",
    "from copy import deepcopy\n",
    "from tqdm import tqdm\n",
    "\n",
    "from sklearn.metrics import mean_absolute_error, r2_score, root_mean_squared_error\n",
    "from sklearn.model_selection import train_test_split"
   ]
  },
  {
   "cell_type": "code",
   "execution_count": 2,
   "id": "7d9792f1-28c1-4841-8f34-5b11a3959e67",
   "metadata": {},
   "outputs": [],
   "source": [
    "random.seed(42)"
   ]
  },
  {
   "cell_type": "code",
   "execution_count": 3,
   "id": "b8565eac-33df-4a71-acf6-17bed3d9fc76",
   "metadata": {},
   "outputs": [],
   "source": [
    "def calc_accuracy(y_true, y_pred, metric='mae'):\n",
    "    if metric == 'mae':\n",
    "        acc = mean_absolute_error(y_true, y_pred)\n",
    "    elif metric == 'r2':\n",
    "        acc = r2_score(y_true, y_pred)\n",
    "    elif metric == 'rmse':\n",
    "        acc = root_mean_squared_error(y_true, y_pred)\n",
    "\n",
    "    return acc"
   ]
  },
  {
   "cell_type": "markdown",
   "id": "a4dd493a-71f4-4255-be5b-cb7935e68958",
   "metadata": {},
   "source": [
    "## Consensus methods"
   ]
  },
  {
   "cell_type": "code",
   "execution_count": 4,
   "id": "fa1f7732-3a4c-43c9-a59d-c78a4f6ccbd7",
   "metadata": {},
   "outputs": [],
   "source": [
    "from consensus import RandomSearchRegressor, SystematicSearchRegressor, GeneticSearchRegressor\n",
    "from sklearn.linear_model import LinearRegression, Ridge"
   ]
  },
  {
   "cell_type": "code",
   "execution_count": 5,
   "id": "04fdf0c7-f69f-4d36-bbc8-3fadc9628779",
   "metadata": {},
   "outputs": [],
   "source": [
    "method_list = [(SystematicSearchRegressor(cons_size=1, metric='rmse'), 'Best'),\n",
    "               (RandomSearchRegressor(cons_size=10, n_iter=10000, metric='rmse'), 'Random'),\n",
    "               (SystematicSearchRegressor(cons_size=10, metric='rmse'), 'Systematic'),\n",
    "               (GeneticSearchRegressor(cons_size=10, metric='rmse'), 'Genetic')]"
   ]
  },
  {
   "cell_type": "markdown",
   "id": "80ce9f12-18bb-40cf-87ae-d81250c62d44",
   "metadata": {},
   "source": [
    "## Consensus comparison\n",
    "### Input/output data path"
   ]
  },
  {
   "cell_type": "code",
   "execution_count": 6,
   "id": "e6188170-5d12-482e-9730-7a67f705035b",
   "metadata": {},
   "outputs": [],
   "source": [
    "bench_folder =  Path(\"benchmark_model_prediction/acf\").resolve()"
   ]
  },
  {
   "cell_type": "markdown",
   "id": "f9677be1-1623-4a37-bec5-e9a30cecc725",
   "metadata": {},
   "source": [
    "### Consensus building"
   ]
  },
  {
   "cell_type": "code",
   "execution_count": 7,
   "id": "0a276aff-7d8a-4f57-b818-ade6030f1502",
   "metadata": {},
   "outputs": [
    {
     "name": "stderr",
     "output_type": "stream",
     "text": [
      "100%|███████████████████████████████████████████████████████████████████████████████████| 43/43 [08:59<00:00, 12.56s/it]\n"
     ]
    }
   ],
   "source": [
    "res_df_val = pd.DataFrame()\n",
    "res_df_test = pd.DataFrame()\n",
    "\n",
    "for bench_name in tqdm(os.listdir(bench_folder)):\n",
    "\n",
    "    # load data\n",
    "    df_val = pd.read_csv(os.path.join(bench_folder, bench_name, f\"{bench_name}_val.csv\"))\n",
    "    df_test = pd.read_csv(os.path.join(bench_folder, bench_name, f\"{bench_name}_test.csv\"))\n",
    "\n",
    "    # remove y_true column prof predictions table\n",
    "    x_val, y_val = df_val.iloc[:, 1:], df_val.iloc[:, 0]\n",
    "    x_test, y_test = df_test.iloc[:, 1:], df_test.iloc[:, 0]\n",
    "    \n",
    "    # build consensus\n",
    "    for method_func, method_name in method_list:\n",
    "        cons = method_func.run(x_val, y_val)\n",
    "        y_pred = x_val[cons].mean(axis=1)\n",
    "        #\n",
    "        res_df_val.loc[bench_name, method_name] = calc_accuracy(y_val, x_val[cons].mean(axis=1), metric='r2')\n",
    "        res_df_test.loc[bench_name, method_name] = calc_accuracy(y_test, x_test[cons].mean(axis=1), metric='r2')\n",
    "        \n",
    "    # stacking model\n",
    "    stacking_model = LinearRegression()\n",
    "    stacking_model.fit(x_val, y_val)\n",
    "    #\n",
    "    res_df_val.loc[bench_name, \"Stacking\"] = calc_accuracy(y_val, stacking_model.predict(x_val), metric='r2')\n",
    "    res_df_test.loc[bench_name, \"Stacking\"] = calc_accuracy(y_test, stacking_model.predict(x_test), metric='r2')"
   ]
  },
  {
   "cell_type": "code",
   "execution_count": 8,
   "id": "bd338044-28cc-4299-a98f-c2e3d9aa4d9c",
   "metadata": {},
   "outputs": [],
   "source": [
    "# res_df_val.round(2)"
   ]
  },
  {
   "cell_type": "code",
   "execution_count": 9,
   "id": "985a1213-85ae-41e1-a7e1-dacea9d2bbe3",
   "metadata": {},
   "outputs": [],
   "source": [
    "# res_df_test.round(2)"
   ]
  },
  {
   "cell_type": "markdown",
   "id": "18fa544a-825a-4359-8060-9b17ab676e95",
   "metadata": {},
   "source": [
    "## Meta statistics"
   ]
  },
  {
   "cell_type": "code",
   "execution_count": 10,
   "id": "81d1dd7e-cbd4-4b24-bee3-5b97210110d6",
   "metadata": {},
   "outputs": [],
   "source": [
    "from collections import Counter"
   ]
  },
  {
   "cell_type": "markdown",
   "id": "07282992-639c-4df4-89ad-f9a7281c5bba",
   "metadata": {},
   "source": [
    "### 1. Mean accuracy"
   ]
  },
  {
   "cell_type": "code",
   "execution_count": 11,
   "id": "c3ed39e7-218e-4197-b173-8c0fcee16700",
   "metadata": {},
   "outputs": [
    {
     "data": {
      "text/plain": [
       "Best          0.65\n",
       "Random        0.63\n",
       "Systematic    0.66\n",
       "Genetic       0.71\n",
       "Stacking      0.94\n",
       "dtype: float64"
      ]
     },
     "execution_count": 11,
     "metadata": {},
     "output_type": "execute_result"
    }
   ],
   "source": [
    "res_df_val.mean(axis=0).round(2)"
   ]
  },
  {
   "cell_type": "code",
   "execution_count": 12,
   "id": "91d7adbc-bab2-4650-a737-6d14fc78bd88",
   "metadata": {},
   "outputs": [
    {
     "data": {
      "text/plain": [
       "Best          0.57\n",
       "Random        0.60\n",
       "Systematic    0.61\n",
       "Genetic       0.62\n",
       "Stacking     -3.60\n",
       "dtype: float64"
      ]
     },
     "execution_count": 12,
     "metadata": {},
     "output_type": "execute_result"
    }
   ],
   "source": [
    "res_df_test.mean(axis=0).round(2)"
   ]
  },
  {
   "cell_type": "markdown",
   "id": "9db95359-b8a6-442c-ae74-081ee8bc85b9",
   "metadata": {},
   "source": [
    "### 2. Top-N stat"
   ]
  },
  {
   "cell_type": "code",
   "execution_count": 13,
   "id": "b1709c7c-a552-428c-962f-f8d06da4fa0d",
   "metadata": {},
   "outputs": [
    {
     "data": {
      "text/plain": [
       "Counter({'Genetic': 24, 'Random': 9, 'Systematic': 8, 'Best': 2})"
      ]
     },
     "execution_count": 13,
     "metadata": {},
     "output_type": "execute_result"
    }
   ],
   "source": [
    "tmp = []\n",
    "for dataset in res_df_test.index:\n",
    "    min_i = res_df_test.loc[dataset].argmin()\n",
    "    max_i = res_df_test.loc[dataset].argmax()\n",
    "    #\n",
    "    tmp.append(res_df_test.loc[dataset].index[max_i])\n",
    "#\n",
    "Counter(tmp)"
   ]
  },
  {
   "cell_type": "code",
   "execution_count": null,
   "id": "6ef6faf2-d61c-4239-a496-1c9c4eaac994",
   "metadata": {},
   "outputs": [],
   "source": []
  }
 ],
 "metadata": {
  "kernelspec": {
   "display_name": "miprop",
   "language": "python",
   "name": "miprop"
  },
  "language_info": {
   "codemirror_mode": {
    "name": "ipython",
    "version": 3
   },
   "file_extension": ".py",
   "mimetype": "text/x-python",
   "name": "python",
   "nbconvert_exporter": "python",
   "pygments_lexer": "ipython3",
   "version": "3.10.16"
  }
 },
 "nbformat": 4,
 "nbformat_minor": 5
}
