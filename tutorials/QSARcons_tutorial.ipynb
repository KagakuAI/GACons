{
 "cells": [
  {
   "cell_type": "code",
   "execution_count": 1,
   "id": "b0a34672-21e0-49ca-a53e-597f08aa65d0",
   "metadata": {},
   "outputs": [],
   "source": [
    "import pandas as pd\n",
    "\n",
    "from sklearn.ensemble import RandomForestRegressor\n",
    "from sklearn.metrics import r2_score\n",
    "\n",
    "from qsarcons.consensus import RandomSearchRegressor, SystematicSearchRegressor, GeneticSearchRegressor\n",
    "from qsarcons.stacking import StackingRegressor"
   ]
  },
  {
   "cell_type": "markdown",
   "id": "87b98c5f-bd6b-4b04-8018-11a1c17dadd6",
   "metadata": {},
   "source": [
    "### Load built QSAR models\n",
    "\n",
    "The input data for consensus/stacking methods is a pandas DataFrame where each column is a model prediction. For benchmarking proposes, we need two tables:\n",
    "\n",
    "- Validation set predictions – they are used to find an optimal consensus or stacking ensemble\n",
    "- Test set predictions - is needed to evaluate the performance of the consensus/stacking"
   ]
  },
  {
   "cell_type": "markdown",
   "id": "d0fc3cf7-d5d1-4746-a478-ee7fe508d311",
   "metadata": {},
   "source": [
    "### Input file format\n",
    "\n",
    "The input CSV files (`train.csv` and `test.csv`) are expected to have the following format:\n",
    "- **Column 0** – SMILES (or any other molecule ID)\n",
    "- **Column 1** – Observed/Experimental property/activity values\n",
    "- **Columns 2+** – Model predictions (from individual QSAR models)"
   ]
  },
  {
   "cell_type": "code",
   "execution_count": 2,
   "id": "4a33ca4f-4c6a-457a-82f5-7fd9b9d1da73",
   "metadata": {},
   "outputs": [],
   "source": [
    "df_val = pd.read_csv(\"CHEMBL1785/train.csv\", )\n",
    "df_test = pd.read_csv(\"CHEMBL1785/test.csv\")"
   ]
  },
  {
   "cell_type": "code",
   "execution_count": 3,
   "id": "c0ba9e3c-a7bf-46ff-ba6d-8ecce6515dd7",
   "metadata": {},
   "outputs": [
    {
     "data": {
      "text/html": [
       "<div>\n",
       "<style scoped>\n",
       "    .dataframe tbody tr th:only-of-type {\n",
       "        vertical-align: middle;\n",
       "    }\n",
       "\n",
       "    .dataframe tbody tr th {\n",
       "        vertical-align: top;\n",
       "    }\n",
       "\n",
       "    .dataframe thead th {\n",
       "        text-align: right;\n",
       "    }\n",
       "</style>\n",
       "<table border=\"1\" class=\"dataframe\">\n",
       "  <thead>\n",
       "    <tr style=\"text-align: right;\">\n",
       "      <th></th>\n",
       "      <th>SMILES</th>\n",
       "      <th>Y_TRUE</th>\n",
       "      <th>atompair-count|BayesianRidge</th>\n",
       "      <th>atompair-count|DecisionTreeRegressor</th>\n",
       "      <th>atompair-count|ElasticNet</th>\n",
       "      <th>atompair-count|HuberRegressor</th>\n",
       "      <th>atompair-count|KNeighborsRegressor</th>\n",
       "      <th>atompair-count|Lasso</th>\n",
       "      <th>atompair-count|MLPRegressor</th>\n",
       "      <th>atompair-count|PLSRegression</th>\n",
       "      <th>...</th>\n",
       "      <th>topological|ElasticNet</th>\n",
       "      <th>topological|HuberRegressor</th>\n",
       "      <th>topological|KNeighborsRegressor</th>\n",
       "      <th>topological|Lasso</th>\n",
       "      <th>topological|MLPRegressor</th>\n",
       "      <th>topological|PLSRegression</th>\n",
       "      <th>topological|RandomForestRegressor</th>\n",
       "      <th>topological|RidgeRegression</th>\n",
       "      <th>topological|SVR</th>\n",
       "      <th>topological|XGBRegressor</th>\n",
       "    </tr>\n",
       "  </thead>\n",
       "  <tbody>\n",
       "    <tr>\n",
       "      <th>0</th>\n",
       "      <td>COCCOc1nc(NS(=O)(=O)NCc2ccccc2)c(Oc2ccccc2OC)c...</td>\n",
       "      <td>6.256</td>\n",
       "      <td>6.610020</td>\n",
       "      <td>6.306200</td>\n",
       "      <td>6.890746</td>\n",
       "      <td>7.309935</td>\n",
       "      <td>6.475773</td>\n",
       "      <td>6.829488</td>\n",
       "      <td>6.304784</td>\n",
       "      <td>6.444161</td>\n",
       "      <td>...</td>\n",
       "      <td>6.812998</td>\n",
       "      <td>5.728646</td>\n",
       "      <td>6.475603</td>\n",
       "      <td>6.468520</td>\n",
       "      <td>5.356423</td>\n",
       "      <td>6.243217</td>\n",
       "      <td>6.494189</td>\n",
       "      <td>6.314992</td>\n",
       "      <td>6.418615</td>\n",
       "      <td>6.628993</td>\n",
       "    </tr>\n",
       "    <tr>\n",
       "      <th>1</th>\n",
       "      <td>COc1cnc(O[C@H](C(=O)O)[C@@]2(c3ccccc3)NCC(=O)N...</td>\n",
       "      <td>5.034</td>\n",
       "      <td>5.543897</td>\n",
       "      <td>5.364375</td>\n",
       "      <td>5.313822</td>\n",
       "      <td>5.699822</td>\n",
       "      <td>5.631566</td>\n",
       "      <td>5.259852</td>\n",
       "      <td>4.507620</td>\n",
       "      <td>5.451443</td>\n",
       "      <td>...</td>\n",
       "      <td>5.720473</td>\n",
       "      <td>5.176263</td>\n",
       "      <td>5.306299</td>\n",
       "      <td>5.679028</td>\n",
       "      <td>5.425185</td>\n",
       "      <td>5.808187</td>\n",
       "      <td>5.386879</td>\n",
       "      <td>5.766536</td>\n",
       "      <td>5.120113</td>\n",
       "      <td>5.258121</td>\n",
       "    </tr>\n",
       "    <tr>\n",
       "      <th>2</th>\n",
       "      <td>CCOc1ccc2c(c1)c(=O)c(Cc1cccc(C(=O)O)c1)c(C(=O)...</td>\n",
       "      <td>5.506</td>\n",
       "      <td>6.069682</td>\n",
       "      <td>5.642833</td>\n",
       "      <td>6.222900</td>\n",
       "      <td>6.447204</td>\n",
       "      <td>5.950810</td>\n",
       "      <td>6.151965</td>\n",
       "      <td>6.365187</td>\n",
       "      <td>5.857042</td>\n",
       "      <td>...</td>\n",
       "      <td>5.792353</td>\n",
       "      <td>6.120300</td>\n",
       "      <td>5.804565</td>\n",
       "      <td>5.804876</td>\n",
       "      <td>6.102401</td>\n",
       "      <td>5.799607</td>\n",
       "      <td>5.865963</td>\n",
       "      <td>5.821107</td>\n",
       "      <td>6.008066</td>\n",
       "      <td>5.883258</td>\n",
       "    </tr>\n",
       "    <tr>\n",
       "      <th>3</th>\n",
       "      <td>CCOc1ccc2c(c1)c(-c1ccc(OC)cc1OC)c(C(=O)O)c(=O)...</td>\n",
       "      <td>6.268</td>\n",
       "      <td>6.046365</td>\n",
       "      <td>7.001400</td>\n",
       "      <td>6.301070</td>\n",
       "      <td>6.842113</td>\n",
       "      <td>6.001984</td>\n",
       "      <td>6.292202</td>\n",
       "      <td>6.563304</td>\n",
       "      <td>5.848380</td>\n",
       "      <td>...</td>\n",
       "      <td>5.795346</td>\n",
       "      <td>6.059051</td>\n",
       "      <td>5.908972</td>\n",
       "      <td>5.922968</td>\n",
       "      <td>6.206772</td>\n",
       "      <td>5.821332</td>\n",
       "      <td>5.954252</td>\n",
       "      <td>5.898207</td>\n",
       "      <td>5.992958</td>\n",
       "      <td>6.383691</td>\n",
       "    </tr>\n",
       "    <tr>\n",
       "      <th>4</th>\n",
       "      <td>Cc1ccc(S(=O)(=O)Nc2onc(C)c2Br)cc1</td>\n",
       "      <td>5.398</td>\n",
       "      <td>4.952641</td>\n",
       "      <td>5.333167</td>\n",
       "      <td>5.100456</td>\n",
       "      <td>5.492576</td>\n",
       "      <td>4.598690</td>\n",
       "      <td>5.098454</td>\n",
       "      <td>5.083330</td>\n",
       "      <td>4.882305</td>\n",
       "      <td>...</td>\n",
       "      <td>4.951271</td>\n",
       "      <td>5.060801</td>\n",
       "      <td>5.131640</td>\n",
       "      <td>4.970824</td>\n",
       "      <td>5.072250</td>\n",
       "      <td>4.818004</td>\n",
       "      <td>5.091551</td>\n",
       "      <td>4.989698</td>\n",
       "      <td>5.410053</td>\n",
       "      <td>5.154193</td>\n",
       "    </tr>\n",
       "  </tbody>\n",
       "</table>\n",
       "<p>5 rows × 230 columns</p>\n",
       "</div>"
      ],
      "text/plain": [
       "                                              SMILES  Y_TRUE  \\\n",
       "0  COCCOc1nc(NS(=O)(=O)NCc2ccccc2)c(Oc2ccccc2OC)c...   6.256   \n",
       "1  COc1cnc(O[C@H](C(=O)O)[C@@]2(c3ccccc3)NCC(=O)N...   5.034   \n",
       "2  CCOc1ccc2c(c1)c(=O)c(Cc1cccc(C(=O)O)c1)c(C(=O)...   5.506   \n",
       "3  CCOc1ccc2c(c1)c(-c1ccc(OC)cc1OC)c(C(=O)O)c(=O)...   6.268   \n",
       "4                  Cc1ccc(S(=O)(=O)Nc2onc(C)c2Br)cc1   5.398   \n",
       "\n",
       "   atompair-count|BayesianRidge  atompair-count|DecisionTreeRegressor  \\\n",
       "0                      6.610020                              6.306200   \n",
       "1                      5.543897                              5.364375   \n",
       "2                      6.069682                              5.642833   \n",
       "3                      6.046365                              7.001400   \n",
       "4                      4.952641                              5.333167   \n",
       "\n",
       "   atompair-count|ElasticNet  atompair-count|HuberRegressor  \\\n",
       "0                   6.890746                       7.309935   \n",
       "1                   5.313822                       5.699822   \n",
       "2                   6.222900                       6.447204   \n",
       "3                   6.301070                       6.842113   \n",
       "4                   5.100456                       5.492576   \n",
       "\n",
       "   atompair-count|KNeighborsRegressor  atompair-count|Lasso  \\\n",
       "0                            6.475773              6.829488   \n",
       "1                            5.631566              5.259852   \n",
       "2                            5.950810              6.151965   \n",
       "3                            6.001984              6.292202   \n",
       "4                            4.598690              5.098454   \n",
       "\n",
       "   atompair-count|MLPRegressor  atompair-count|PLSRegression  ...  \\\n",
       "0                     6.304784                      6.444161  ...   \n",
       "1                     4.507620                      5.451443  ...   \n",
       "2                     6.365187                      5.857042  ...   \n",
       "3                     6.563304                      5.848380  ...   \n",
       "4                     5.083330                      4.882305  ...   \n",
       "\n",
       "   topological|ElasticNet  topological|HuberRegressor  \\\n",
       "0                6.812998                    5.728646   \n",
       "1                5.720473                    5.176263   \n",
       "2                5.792353                    6.120300   \n",
       "3                5.795346                    6.059051   \n",
       "4                4.951271                    5.060801   \n",
       "\n",
       "   topological|KNeighborsRegressor  topological|Lasso  \\\n",
       "0                         6.475603           6.468520   \n",
       "1                         5.306299           5.679028   \n",
       "2                         5.804565           5.804876   \n",
       "3                         5.908972           5.922968   \n",
       "4                         5.131640           4.970824   \n",
       "\n",
       "   topological|MLPRegressor  topological|PLSRegression  \\\n",
       "0                  5.356423                   6.243217   \n",
       "1                  5.425185                   5.808187   \n",
       "2                  6.102401                   5.799607   \n",
       "3                  6.206772                   5.821332   \n",
       "4                  5.072250                   4.818004   \n",
       "\n",
       "   topological|RandomForestRegressor  topological|RidgeRegression  \\\n",
       "0                           6.494189                     6.314992   \n",
       "1                           5.386879                     5.766536   \n",
       "2                           5.865963                     5.821107   \n",
       "3                           5.954252                     5.898207   \n",
       "4                           5.091551                     4.989698   \n",
       "\n",
       "   topological|SVR  topological|XGBRegressor  \n",
       "0         6.418615                  6.628993  \n",
       "1         5.120113                  5.258121  \n",
       "2         6.008066                  5.883258  \n",
       "3         5.992958                  6.383691  \n",
       "4         5.410053                  5.154193  \n",
       "\n",
       "[5 rows x 230 columns]"
      ]
     },
     "execution_count": 3,
     "metadata": {},
     "output_type": "execute_result"
    }
   ],
   "source": [
    "df_test.head(5)"
   ]
  },
  {
   "cell_type": "code",
   "execution_count": 4,
   "id": "29cb1752-f317-4692-80ab-a6a3b3685da1",
   "metadata": {},
   "outputs": [],
   "source": [
    "# skip first two columns (smiles and true property value)\n",
    "x_val, true_val = df_val.iloc[:, 2:], df_val.iloc[:, 1]\n",
    "x_test, true_test = df_test.iloc[:, 2:], df_test.iloc[:, 1]"
   ]
  },
  {
   "cell_type": "markdown",
   "id": "81828d1b-5e5d-43d0-a3a5-da43a2b8ba5b",
   "metadata": {},
   "source": [
    "### Build Consensus / Stacking\n",
    "\n",
    "For consensus methods, there are two main parameters that must be predefined:\n",
    "\n",
    "**1. Metric**\n",
    "\n",
    "This is the *prediction accuracy metric* to be optimized. The following regression metrics are currently supported:\n",
    "\n",
    "- ``r2`` – Coefficient of determination\n",
    "- ``rmse`` – Root mean squared error\n",
    "- ``mae`` – Mean absolute error\n",
    "- ``spearmanr`` – Spearman rank correlation coefficient\n",
    "\n",
    "For benchmarking purposes, it is recommended to set the optimized metric to match the one used for estimating prediction accuracy on the test set.\n",
    "\n",
    "**2. Consensus Size**\n",
    "\n",
    "The *consensus size* determines how many models are included in the consensus. It can be defined in two ways:\n",
    "\n",
    "- **Manual selection**: for example, ``cons_size=10``\n",
    "- **Automatic selection**: e.g., ``cons_size=\"auto\", cons_size_candidates=[3, 5, 7, 9, 12, 15]``, where the best consensus size is chosen based on metric values computed on the validation set."
   ]
  },
  {
   "cell_type": "code",
   "execution_count": 5,
   "id": "283d8254-0ea7-4e4b-b433-b86b60f21b88",
   "metadata": {},
   "outputs": [],
   "source": [
    "metric = \"r2\""
   ]
  },
  {
   "cell_type": "code",
   "execution_count": 6,
   "id": "7ab08de6-8142-46a0-aad5-e32323b86fc9",
   "metadata": {},
   "outputs": [],
   "source": [
    "df_comp = pd.DataFrame()"
   ]
  },
  {
   "cell_type": "markdown",
   "id": "6c6d1a6f-2e64-4390-b7f1-7ee6c616d229",
   "metadata": {},
   "source": [
    "### Random consensus\n",
    "\n",
    "In a random search for optimal consensus the subset of models is chosen randomly and its prediction accuracy is computed. This procedure is repeated ``n_iter`` times, then the subset (consensus) with the highest prediction accuracy on the validation set is chosen as the best consensus."
   ]
  },
  {
   "cell_type": "code",
   "execution_count": 7,
   "id": "6072e62d-164b-4830-8a86-0ab4744835da",
   "metadata": {},
   "outputs": [
    {
     "data": {
      "text/plain": [
       "['atompair-count|XGBRegressor', 'pharm2D-gobbi|SVR', 'fcfp-count|XGBRegressor']"
      ]
     },
     "execution_count": 7,
     "metadata": {},
     "output_type": "execute_result"
    }
   ],
   "source": [
    "cons_searcher = RandomSearchRegressor(cons_size=\"auto\", n_iter=5000, metric=metric)\n",
    "best_cons = cons_searcher.run(x_val, true_val)\n",
    "best_cons.to_list()"
   ]
  },
  {
   "cell_type": "code",
   "execution_count": 8,
   "id": "98ec1525-71fe-4cce-8b1e-16f46c70da5b",
   "metadata": {},
   "outputs": [
    {
     "data": {
      "text/html": [
       "<div>\n",
       "<style scoped>\n",
       "    .dataframe tbody tr th:only-of-type {\n",
       "        vertical-align: middle;\n",
       "    }\n",
       "\n",
       "    .dataframe tbody tr th {\n",
       "        vertical-align: top;\n",
       "    }\n",
       "\n",
       "    .dataframe thead th {\n",
       "        text-align: right;\n",
       "    }\n",
       "</style>\n",
       "<table border=\"1\" class=\"dataframe\">\n",
       "  <thead>\n",
       "    <tr style=\"text-align: right;\">\n",
       "      <th></th>\n",
       "      <th>Random</th>\n",
       "    </tr>\n",
       "  </thead>\n",
       "  <tbody>\n",
       "    <tr>\n",
       "      <th>val</th>\n",
       "      <td>0.810415</td>\n",
       "    </tr>\n",
       "    <tr>\n",
       "      <th>test</th>\n",
       "      <td>0.843243</td>\n",
       "    </tr>\n",
       "  </tbody>\n",
       "</table>\n",
       "</div>"
      ],
      "text/plain": [
       "        Random\n",
       "val   0.810415\n",
       "test  0.843243"
      ]
     },
     "execution_count": 8,
     "metadata": {},
     "output_type": "execute_result"
    }
   ],
   "source": [
    "# make val and test predictions\n",
    "pred_val = x_val[best_cons].mean(axis=1)\n",
    "pred_test = x_test[best_cons].mean(axis=1)\n",
    "\n",
    "# write prediction accuracy metric\n",
    "df_comp.loc[\"val\", \"Random\"] = r2_score(true_val, pred_val)\n",
    "df_comp.loc[\"test\", \"Random\"] = r2_score(true_test, pred_test)\n",
    "\n",
    "# display current results\n",
    "df_comp"
   ]
  },
  {
   "cell_type": "markdown",
   "id": "a9d6ebd4-b9cd-428d-a040-f35097ad0818",
   "metadata": {},
   "source": [
    "### Systematic consensus\n",
    "\n",
    "In a systematic search for optimal consensus, all models are sorted according to their prediction accuracy on the validation set, and then the first *N* models (*N*=``cons_size``) are chosen as the best consensus."
   ]
  },
  {
   "cell_type": "code",
   "execution_count": 9,
   "id": "b0f131cc-1c8e-49d0-ae25-fa0ea9be2980",
   "metadata": {},
   "outputs": [
    {
     "data": {
      "text/plain": [
       "['atompair-count|XGBRegressor',\n",
       " 'ecfp-count|XGBRegressor',\n",
       " 'fcfp-count|XGBRegressor',\n",
       " 'atompair-count|RandomForestRegressor',\n",
       " 'topological|RandomForestRegressor',\n",
       " 'ecfp|XGBRegressor',\n",
       " 'fcfp|XGBRegressor',\n",
       " 'ecfp-count|RandomForestRegressor',\n",
       " 'topological|XGBRegressor',\n",
       " 'rdkit|SVR',\n",
       " 'atompair-count|BayesianRidge']"
      ]
     },
     "execution_count": 9,
     "metadata": {},
     "output_type": "execute_result"
    }
   ],
   "source": [
    "cons_searcher = SystematicSearchRegressor(cons_size=\"auto\", metric=metric)\n",
    "best_cons = cons_searcher.run(x_val, true_val)\n",
    "best_cons.to_list()"
   ]
  },
  {
   "cell_type": "code",
   "execution_count": 10,
   "id": "44f77cb1-7a1b-4a27-8f7f-5bc38aa8809b",
   "metadata": {},
   "outputs": [
    {
     "data": {
      "text/html": [
       "<div>\n",
       "<style scoped>\n",
       "    .dataframe tbody tr th:only-of-type {\n",
       "        vertical-align: middle;\n",
       "    }\n",
       "\n",
       "    .dataframe tbody tr th {\n",
       "        vertical-align: top;\n",
       "    }\n",
       "\n",
       "    .dataframe thead th {\n",
       "        text-align: right;\n",
       "    }\n",
       "</style>\n",
       "<table border=\"1\" class=\"dataframe\">\n",
       "  <thead>\n",
       "    <tr style=\"text-align: right;\">\n",
       "      <th></th>\n",
       "      <th>Random</th>\n",
       "      <th>Systematic</th>\n",
       "    </tr>\n",
       "  </thead>\n",
       "  <tbody>\n",
       "    <tr>\n",
       "      <th>val</th>\n",
       "      <td>0.810415</td>\n",
       "      <td>0.807979</td>\n",
       "    </tr>\n",
       "    <tr>\n",
       "      <th>test</th>\n",
       "      <td>0.843243</td>\n",
       "      <td>0.845686</td>\n",
       "    </tr>\n",
       "  </tbody>\n",
       "</table>\n",
       "</div>"
      ],
      "text/plain": [
       "        Random  Systematic\n",
       "val   0.810415    0.807979\n",
       "test  0.843243    0.845686"
      ]
     },
     "execution_count": 10,
     "metadata": {},
     "output_type": "execute_result"
    }
   ],
   "source": [
    "# make val and test predictions\n",
    "pred_val = x_val[best_cons].mean(axis=1)\n",
    "pred_test = x_test[best_cons].mean(axis=1)\n",
    "\n",
    "# write prediction accuracy metric\n",
    "df_comp.loc[\"val\", \"Systematic\"] = r2_score(true_val, pred_val)\n",
    "df_comp.loc[\"test\", \"Systematic\"] = r2_score(true_test, pred_test)\n",
    "\n",
    "# display current results\n",
    "df_comp"
   ]
  },
  {
   "cell_type": "markdown",
   "id": "4fbe24d0-5efd-437d-a836-fc28e2cebae8",
   "metadata": {},
   "source": [
    "### Genetic consensus\n",
    "\n",
    "In a genetic search for optimal consensus, the best consensus of models is being founded using a genetic algorithm. In this case, the objective function is a prediction accuracy for the consensus (individual). "
   ]
  },
  {
   "cell_type": "code",
   "execution_count": 11,
   "id": "aad15d79-1492-4f35-a197-5a4addf46a72",
   "metadata": {},
   "outputs": [
    {
     "data": {
      "text/plain": [
       "['atompair-count|XGBRegressor',\n",
       " 'atompair-count|Lasso',\n",
       " 'rdkit|MLPRegressor',\n",
       " 'scaffoldkeys|KNeighborsRegressor',\n",
       " 'topological|XGBRegressor',\n",
       " 'pharm2D-gobbi|Lasso',\n",
       " 'ecfp-count|XGBRegressor']"
      ]
     },
     "execution_count": 11,
     "metadata": {},
     "output_type": "execute_result"
    }
   ],
   "source": [
    "cons_searcher = GeneticSearchRegressor(cons_size=\"auto\", n_iter=100, pop_size=50, mut_prob=0.1, metric=metric)\n",
    "best_cons = cons_searcher.run(x_val, true_val)\n",
    "best_cons.to_list()"
   ]
  },
  {
   "cell_type": "code",
   "execution_count": 12,
   "id": "86059e60-ed31-4976-be3b-a38e70c97b8e",
   "metadata": {},
   "outputs": [
    {
     "data": {
      "text/html": [
       "<div>\n",
       "<style scoped>\n",
       "    .dataframe tbody tr th:only-of-type {\n",
       "        vertical-align: middle;\n",
       "    }\n",
       "\n",
       "    .dataframe tbody tr th {\n",
       "        vertical-align: top;\n",
       "    }\n",
       "\n",
       "    .dataframe thead th {\n",
       "        text-align: right;\n",
       "    }\n",
       "</style>\n",
       "<table border=\"1\" class=\"dataframe\">\n",
       "  <thead>\n",
       "    <tr style=\"text-align: right;\">\n",
       "      <th></th>\n",
       "      <th>Random</th>\n",
       "      <th>Systematic</th>\n",
       "      <th>Genetic</th>\n",
       "    </tr>\n",
       "  </thead>\n",
       "  <tbody>\n",
       "    <tr>\n",
       "      <th>val</th>\n",
       "      <td>0.810415</td>\n",
       "      <td>0.807979</td>\n",
       "      <td>0.819317</td>\n",
       "    </tr>\n",
       "    <tr>\n",
       "      <th>test</th>\n",
       "      <td>0.843243</td>\n",
       "      <td>0.845686</td>\n",
       "      <td>0.849826</td>\n",
       "    </tr>\n",
       "  </tbody>\n",
       "</table>\n",
       "</div>"
      ],
      "text/plain": [
       "        Random  Systematic   Genetic\n",
       "val   0.810415    0.807979  0.819317\n",
       "test  0.843243    0.845686  0.849826"
      ]
     },
     "execution_count": 12,
     "metadata": {},
     "output_type": "execute_result"
    }
   ],
   "source": [
    "# make val and test predictions\n",
    "pred_val = x_val[best_cons].mean(axis=1)\n",
    "pred_test = x_test[best_cons].mean(axis=1)\n",
    "\n",
    "# write prediction accuracy metric\n",
    "df_comp.loc[\"val\", \"Genetic\"] = r2_score(true_val, pred_val)\n",
    "df_comp.loc[\"test\", \"Genetic\"] = r2_score(true_test, pred_test)\n",
    "\n",
    "# display current results\n",
    "df_comp"
   ]
  },
  {
   "cell_type": "markdown",
   "id": "6dd47e50-dd7a-4b2c-b04f-7ca873fec324",
   "metadata": {},
   "source": [
    "### Stacking ensemble\n",
    "\n",
    "In a stacking ensembling, a meta-model is trained on the validation set predictions and used for predicting the property on the test set."
   ]
  },
  {
   "cell_type": "code",
   "execution_count": 13,
   "id": "f25daa90-f050-45df-b283-9a23144486ac",
   "metadata": {},
   "outputs": [
    {
     "data": {
      "text/plain": [
       "<qsarcons.stacking.StackingRegressor at 0x7f4435bfa660>"
      ]
     },
     "execution_count": 13,
     "metadata": {},
     "output_type": "execute_result"
    }
   ],
   "source": [
    "stack_searcher = StackingRegressor(method=RandomForestRegressor())\n",
    "stack_searcher.run(x_val, true_val)"
   ]
  },
  {
   "cell_type": "code",
   "execution_count": 14,
   "id": "a81fa793-a2c1-45c8-aa21-18e3bcfb8450",
   "metadata": {},
   "outputs": [
    {
     "data": {
      "text/html": [
       "<div>\n",
       "<style scoped>\n",
       "    .dataframe tbody tr th:only-of-type {\n",
       "        vertical-align: middle;\n",
       "    }\n",
       "\n",
       "    .dataframe tbody tr th {\n",
       "        vertical-align: top;\n",
       "    }\n",
       "\n",
       "    .dataframe thead th {\n",
       "        text-align: right;\n",
       "    }\n",
       "</style>\n",
       "<table border=\"1\" class=\"dataframe\">\n",
       "  <thead>\n",
       "    <tr style=\"text-align: right;\">\n",
       "      <th></th>\n",
       "      <th>Random</th>\n",
       "      <th>Systematic</th>\n",
       "      <th>Genetic</th>\n",
       "      <th>Stacking</th>\n",
       "    </tr>\n",
       "  </thead>\n",
       "  <tbody>\n",
       "    <tr>\n",
       "      <th>val</th>\n",
       "      <td>0.81</td>\n",
       "      <td>0.81</td>\n",
       "      <td>0.82</td>\n",
       "      <td>0.98</td>\n",
       "    </tr>\n",
       "    <tr>\n",
       "      <th>test</th>\n",
       "      <td>0.84</td>\n",
       "      <td>0.85</td>\n",
       "      <td>0.85</td>\n",
       "      <td>0.85</td>\n",
       "    </tr>\n",
       "  </tbody>\n",
       "</table>\n",
       "</div>"
      ],
      "text/plain": [
       "      Random  Systematic  Genetic  Stacking\n",
       "val     0.81        0.81     0.82      0.98\n",
       "test    0.84        0.85     0.85      0.85"
      ]
     },
     "execution_count": 14,
     "metadata": {},
     "output_type": "execute_result"
    }
   ],
   "source": [
    "# make val and test predictions\n",
    "pred_val = stack_searcher.predict(x_val)\n",
    "pred_test = stack_searcher.predict(x_test)\n",
    "\n",
    "# write prediction accuracy metric\n",
    "df_comp.loc[\"val\", \"Stacking\"] = r2_score(true_val, pred_val)\n",
    "df_comp.loc[\"test\", \"Stacking\"] = r2_score(true_test, pred_test)\n",
    "\n",
    "# display current results\n",
    "df_comp.round(2)"
   ]
  }
 ],
 "metadata": {
  "kernelspec": {
   "display_name": "qsarcons",
   "language": "python",
   "name": "qsarcons"
  },
  "language_info": {
   "codemirror_mode": {
    "name": "ipython",
    "version": 3
   },
   "file_extension": ".py",
   "mimetype": "text/x-python",
   "name": "python",
   "nbconvert_exporter": "python",
   "pygments_lexer": "ipython3",
   "version": "3.13.3"
  }
 },
 "nbformat": 4,
 "nbformat_minor": 5
}
