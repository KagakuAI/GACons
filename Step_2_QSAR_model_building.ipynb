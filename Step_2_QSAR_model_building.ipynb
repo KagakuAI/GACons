{
 "cells": [
  {
   "cell_type": "code",
   "execution_count": 1,
   "id": "883536bc-f706-4402-8431-0f7709fba319",
   "metadata": {},
   "outputs": [],
   "source": [
    "import os\n",
    "import shutil\n",
    "\n",
    "import numpy as np\n",
    "import pandas as pd\n",
    "\n",
    "from pathlib import Path\n",
    "from rdkit import Chem\n",
    "from tqdm import tqdm"
   ]
  },
  {
   "cell_type": "code",
   "execution_count": 2,
   "id": "0bbad69c-e2c0-4af6-b951-e2816f86dbfd",
   "metadata": {},
   "outputs": [],
   "source": [
    "import warnings\n",
    "def warn(*args, **kwargs):\n",
    "    pass\n",
    "warnings.warn = warn"
   ]
  },
  {
   "cell_type": "markdown",
   "id": "3df4f34a-da1b-4115-b0a9-dfc491029036",
   "metadata": {},
   "source": [
    "## Mahine learning methods\n",
    "\n",
    "Machine learning methods are chosen from different families for diversity."
   ]
  },
  {
   "cell_type": "code",
   "execution_count": 3,
   "id": "f0c3cc60-a176-4605-8f8d-e0adf8c8128a",
   "metadata": {},
   "outputs": [],
   "source": [
    "from sklearn.linear_model import Ridge\n",
    "from sklearn.ensemble import RandomForestRegressor\n",
    "from sklearn.svm import SVR\n",
    "from sklearn.neural_network import MLPRegressor\n",
    "from sklearn.neighbors import KNeighborsRegressor"
   ]
  },
  {
   "cell_type": "code",
   "execution_count": 4,
   "id": "264e557f-000d-4e98-a0c4-e6df38b20194",
   "metadata": {},
   "outputs": [],
   "source": [
    "ml_list = [(Ridge(), \"RidgeRegression\"), \n",
    "           (KNeighborsRegressor(), \"KNeighborsRegressor\"),\n",
    "           (SVR(), \"SVR\"),\n",
    "           (RandomForestRegressor(), \"RandomForestRegressor\"),\n",
    "           (MLPRegressor(max_iter=500), \"MLPRegressor\"),\n",
    "           ]"
   ]
  },
  {
   "cell_type": "markdown",
   "id": "92814dad-2b10-4e8a-a2dc-5c699a9cd0fc",
   "metadata": {},
   "source": [
    "## Chemical descriptors\n",
    "\n",
    "Descriptors are chosen from different families (topological, physico-chemical, tranformer-based, etc.) for diversity.\n",
    "\n",
    "More descriptors: https://molfeat.datamol.io/featurizers"
   ]
  },
  {
   "cell_type": "code",
   "execution_count": 5,
   "id": "dd63b6d5-06a1-429a-84e7-e3ced96bc478",
   "metadata": {},
   "outputs": [],
   "source": [
    "from molfeat.calc import (FPCalculator,\n",
    "                          RDKitDescriptors2D, \n",
    "                          Pharmacophore2D, \n",
    "                          MordredDescriptors, \n",
    "                          CATS, \n",
    "                          ScaffoldKeyCalculator)"
   ]
  },
  {
   "cell_type": "code",
   "execution_count": 6,
   "id": "ec74088c-2efc-46e1-8c47-854602c8d796",
   "metadata": {},
   "outputs": [],
   "source": [
    "descr_list = [\n",
    "            # fingerprints\n",
    "            (FPCalculator(\"atompair\"), \"AtomPairBinary\"),\n",
    "            (FPCalculator(\"atompair-count\"), \"AtomPairCount\"),\n",
    "            (FPCalculator(\"avalon\"), \"AvalonBinary\"),\n",
    "            (FPCalculator(\"ecfp\"), \"ECFPBinary\"),\n",
    "            (FPCalculator(\"ecfp-count\"), \"ECFPCount\"),\n",
    "            (FPCalculator(\"erg\"), \"ERG\"),\n",
    "            (FPCalculator(\"estate\"), \"Estate\"),\n",
    "            (FPCalculator(\"fcfp\"), \"FCFPBinary\"),\n",
    "            (FPCalculator(\"fcfp-count\"), \"FCFPCount\"),\n",
    "            (FPCalculator(\"layered\"), \"Layered\"),\n",
    "            (FPCalculator(\"maccs\"), \"MACCS\"),\n",
    "            (FPCalculator(\"pattern\"), \"Pattern\"),\n",
    "            (FPCalculator(\"rdkit\"), \"RDKitBinary\"),\n",
    "            (FPCalculator(\"rdkit-count\"), \"RDKitCount\"),\n",
    "            (FPCalculator(\"secfp\"), \"SECFP\"),\n",
    "            (FPCalculator(\"topological\"), \"TopologicalBinary\"),\n",
    "            (FPCalculator(\"topological-count\"), \"TopologicalCount\"),\n",
    "\n",
    "            # long\n",
    "            # (RDKitDescriptors2D(replace_nan=True), \"RDKitDescriptors2D\"),\n",
    "            # (Pharmacophore2D(replace_nan=True), \"Pharmacophore2D\"),\n",
    "            # (MordredDescriptors(replace_nan=True), \"MordredDescriptors\"),\n",
    "            # (ScaffoldKeyCalculator(), \"ScaffoldKey\"),\n",
    "           ]"
   ]
  },
  {
   "cell_type": "markdown",
   "id": "7533f304-c677-4ab6-850d-0518dcd63917",
   "metadata": {},
   "source": [
    "## Run benchmark"
   ]
  },
  {
   "cell_type": "code",
   "execution_count": 7,
   "id": "8e8b9466-130b-41f6-8311-e9aba820cfe6",
   "metadata": {},
   "outputs": [],
   "source": [
    "from sklearn.preprocessing import MinMaxScaler"
   ]
  },
  {
   "cell_type": "code",
   "execution_count": 8,
   "id": "83e6e381-700f-4718-89a1-416e234ce49d",
   "metadata": {},
   "outputs": [],
   "source": [
    "def parse_data(data_path):\n",
    "    data = pd.read_csv(data_path, header=None)\n",
    "    \n",
    "    mol_prop_list = []\n",
    "    for smi, prop in zip(data[0], data[1]):\n",
    "        mol = Chem.MolFromSmiles(smi)\n",
    "        mol_prop_list.append((mol, prop))\n",
    "\n",
    "    return mol_prop_list"
   ]
  },
  {
   "cell_type": "markdown",
   "id": "86fb4efd-6d88-47e2-affe-04ffc97012ee",
   "metadata": {},
   "source": [
    "### Input/output data path"
   ]
  },
  {
   "cell_type": "code",
   "execution_count": 9,
   "id": "0bb0f1f6-ba3d-4607-a16c-55dd08eef5d5",
   "metadata": {},
   "outputs": [],
   "source": [
    "# input data\n",
    "benchmark_collection =  Path(\"benchmark_collection_prepared\").resolve()\n",
    "\n",
    "# output data\n",
    "prediction_collection = Path(\"benchmark_model_prediction\").resolve()\n",
    "if os.path.exists(prediction_collection):\n",
    "    shutil.rmtree(prediction_collection)\n",
    "    \n",
    "os.makedirs(prediction_collection, exist_ok=True)"
   ]
  },
  {
   "cell_type": "markdown",
   "id": "e239a981-7986-47a4-9915-7d975b887375",
   "metadata": {},
   "source": [
    "### Model building"
   ]
  },
  {
   "cell_type": "code",
   "execution_count": 10,
   "id": "bbc8da35-d393-4d20-97bb-a5599b29ce4a",
   "metadata": {},
   "outputs": [],
   "source": [
    "total_num = sum([len(os.listdir(os.path.join(benchmark_collection, i))) for i in os.listdir(benchmark_collection)])"
   ]
  },
  {
   "cell_type": "code",
   "execution_count": 11,
   "id": "5104e3c7-0ec1-48ac-b6d3-2a121dae4457",
   "metadata": {
    "scrolled": true
   },
   "outputs": [
    {
     "name": "stderr",
     "output_type": "stream",
     "text": [
      "  0%|▎                                                                             | 1/266 [18:13<80:31:44, 1093.98s/it]\n"
     ]
    },
    {
     "ename": "KeyboardInterrupt",
     "evalue": "",
     "output_type": "error",
     "traceback": [
      "\u001b[0;31m---------------------------------------------------------------------------\u001b[0m",
      "\u001b[0;31mKeyboardInterrupt\u001b[0m                         Traceback (most recent call last)",
      "Cell \u001b[0;32mIn[11], line 38\u001b[0m\n\u001b[1;32m     36\u001b[0m \u001b[38;5;66;03m# train machine learning model\u001b[39;00m\n\u001b[1;32m     37\u001b[0m \u001b[38;5;28;01mfor\u001b[39;00m model, method_name \u001b[38;5;129;01min\u001b[39;00m ml_list:\n\u001b[0;32m---> 38\u001b[0m     \u001b[43mmodel\u001b[49m\u001b[38;5;241;43m.\u001b[39;49m\u001b[43mfit\u001b[49m\u001b[43m(\u001b[49m\u001b[43mx_train_scaled\u001b[49m\u001b[43m,\u001b[49m\u001b[43m \u001b[49m\u001b[43my_train\u001b[49m\u001b[43m)\u001b[49m\n\u001b[1;32m     40\u001b[0m     \u001b[38;5;66;03m# validation set prediction\u001b[39;00m\n\u001b[1;32m     41\u001b[0m     y_pred \u001b[38;5;241m=\u001b[39m []\n",
      "File \u001b[0;32m~/miniforge3/envs/miprop/lib/python3.10/site-packages/sklearn/base.py:1389\u001b[0m, in \u001b[0;36m_fit_context.<locals>.decorator.<locals>.wrapper\u001b[0;34m(estimator, *args, **kwargs)\u001b[0m\n\u001b[1;32m   1382\u001b[0m     estimator\u001b[38;5;241m.\u001b[39m_validate_params()\n\u001b[1;32m   1384\u001b[0m \u001b[38;5;28;01mwith\u001b[39;00m config_context(\n\u001b[1;32m   1385\u001b[0m     skip_parameter_validation\u001b[38;5;241m=\u001b[39m(\n\u001b[1;32m   1386\u001b[0m         prefer_skip_nested_validation \u001b[38;5;129;01mor\u001b[39;00m global_skip_validation\n\u001b[1;32m   1387\u001b[0m     )\n\u001b[1;32m   1388\u001b[0m ):\n\u001b[0;32m-> 1389\u001b[0m     \u001b[38;5;28;01mreturn\u001b[39;00m \u001b[43mfit_method\u001b[49m\u001b[43m(\u001b[49m\u001b[43mestimator\u001b[49m\u001b[43m,\u001b[49m\u001b[43m \u001b[49m\u001b[38;5;241;43m*\u001b[39;49m\u001b[43margs\u001b[49m\u001b[43m,\u001b[49m\u001b[43m \u001b[49m\u001b[38;5;241;43m*\u001b[39;49m\u001b[38;5;241;43m*\u001b[39;49m\u001b[43mkwargs\u001b[49m\u001b[43m)\u001b[49m\n",
      "File \u001b[0;32m~/miniforge3/envs/miprop/lib/python3.10/site-packages/sklearn/ensemble/_forest.py:487\u001b[0m, in \u001b[0;36mBaseForest.fit\u001b[0;34m(self, X, y, sample_weight)\u001b[0m\n\u001b[1;32m    476\u001b[0m trees \u001b[38;5;241m=\u001b[39m [\n\u001b[1;32m    477\u001b[0m     \u001b[38;5;28mself\u001b[39m\u001b[38;5;241m.\u001b[39m_make_estimator(append\u001b[38;5;241m=\u001b[39m\u001b[38;5;28;01mFalse\u001b[39;00m, random_state\u001b[38;5;241m=\u001b[39mrandom_state)\n\u001b[1;32m    478\u001b[0m     \u001b[38;5;28;01mfor\u001b[39;00m i \u001b[38;5;129;01min\u001b[39;00m \u001b[38;5;28mrange\u001b[39m(n_more_estimators)\n\u001b[1;32m    479\u001b[0m ]\n\u001b[1;32m    481\u001b[0m \u001b[38;5;66;03m# Parallel loop: we prefer the threading backend as the Cython code\u001b[39;00m\n\u001b[1;32m    482\u001b[0m \u001b[38;5;66;03m# for fitting the trees is internally releasing the Python GIL\u001b[39;00m\n\u001b[1;32m    483\u001b[0m \u001b[38;5;66;03m# making threading more efficient than multiprocessing in\u001b[39;00m\n\u001b[1;32m    484\u001b[0m \u001b[38;5;66;03m# that case. However, for joblib 0.12+ we respect any\u001b[39;00m\n\u001b[1;32m    485\u001b[0m \u001b[38;5;66;03m# parallel_backend contexts set at a higher level,\u001b[39;00m\n\u001b[1;32m    486\u001b[0m \u001b[38;5;66;03m# since correctness does not rely on using threads.\u001b[39;00m\n\u001b[0;32m--> 487\u001b[0m trees \u001b[38;5;241m=\u001b[39m \u001b[43mParallel\u001b[49m\u001b[43m(\u001b[49m\n\u001b[1;32m    488\u001b[0m \u001b[43m    \u001b[49m\u001b[43mn_jobs\u001b[49m\u001b[38;5;241;43m=\u001b[39;49m\u001b[38;5;28;43mself\u001b[39;49m\u001b[38;5;241;43m.\u001b[39;49m\u001b[43mn_jobs\u001b[49m\u001b[43m,\u001b[49m\n\u001b[1;32m    489\u001b[0m \u001b[43m    \u001b[49m\u001b[43mverbose\u001b[49m\u001b[38;5;241;43m=\u001b[39;49m\u001b[38;5;28;43mself\u001b[39;49m\u001b[38;5;241;43m.\u001b[39;49m\u001b[43mverbose\u001b[49m\u001b[43m,\u001b[49m\n\u001b[1;32m    490\u001b[0m \u001b[43m    \u001b[49m\u001b[43mprefer\u001b[49m\u001b[38;5;241;43m=\u001b[39;49m\u001b[38;5;124;43m\"\u001b[39;49m\u001b[38;5;124;43mthreads\u001b[39;49m\u001b[38;5;124;43m\"\u001b[39;49m\u001b[43m,\u001b[49m\n\u001b[1;32m    491\u001b[0m \u001b[43m\u001b[49m\u001b[43m)\u001b[49m\u001b[43m(\u001b[49m\n\u001b[1;32m    492\u001b[0m \u001b[43m    \u001b[49m\u001b[43mdelayed\u001b[49m\u001b[43m(\u001b[49m\u001b[43m_parallel_build_trees\u001b[49m\u001b[43m)\u001b[49m\u001b[43m(\u001b[49m\n\u001b[1;32m    493\u001b[0m \u001b[43m        \u001b[49m\u001b[43mt\u001b[49m\u001b[43m,\u001b[49m\n\u001b[1;32m    494\u001b[0m \u001b[43m        \u001b[49m\u001b[38;5;28;43mself\u001b[39;49m\u001b[38;5;241;43m.\u001b[39;49m\u001b[43mbootstrap\u001b[49m\u001b[43m,\u001b[49m\n\u001b[1;32m    495\u001b[0m \u001b[43m        \u001b[49m\u001b[43mX\u001b[49m\u001b[43m,\u001b[49m\n\u001b[1;32m    496\u001b[0m \u001b[43m        \u001b[49m\u001b[43my\u001b[49m\u001b[43m,\u001b[49m\n\u001b[1;32m    497\u001b[0m \u001b[43m        \u001b[49m\u001b[43msample_weight\u001b[49m\u001b[43m,\u001b[49m\n\u001b[1;32m    498\u001b[0m \u001b[43m        \u001b[49m\u001b[43mi\u001b[49m\u001b[43m,\u001b[49m\n\u001b[1;32m    499\u001b[0m \u001b[43m        \u001b[49m\u001b[38;5;28;43mlen\u001b[39;49m\u001b[43m(\u001b[49m\u001b[43mtrees\u001b[49m\u001b[43m)\u001b[49m\u001b[43m,\u001b[49m\n\u001b[1;32m    500\u001b[0m \u001b[43m        \u001b[49m\u001b[43mverbose\u001b[49m\u001b[38;5;241;43m=\u001b[39;49m\u001b[38;5;28;43mself\u001b[39;49m\u001b[38;5;241;43m.\u001b[39;49m\u001b[43mverbose\u001b[49m\u001b[43m,\u001b[49m\n\u001b[1;32m    501\u001b[0m \u001b[43m        \u001b[49m\u001b[43mclass_weight\u001b[49m\u001b[38;5;241;43m=\u001b[39;49m\u001b[38;5;28;43mself\u001b[39;49m\u001b[38;5;241;43m.\u001b[39;49m\u001b[43mclass_weight\u001b[49m\u001b[43m,\u001b[49m\n\u001b[1;32m    502\u001b[0m \u001b[43m        \u001b[49m\u001b[43mn_samples_bootstrap\u001b[49m\u001b[38;5;241;43m=\u001b[39;49m\u001b[43mn_samples_bootstrap\u001b[49m\u001b[43m,\u001b[49m\n\u001b[1;32m    503\u001b[0m \u001b[43m        \u001b[49m\u001b[43mmissing_values_in_feature_mask\u001b[49m\u001b[38;5;241;43m=\u001b[39;49m\u001b[43mmissing_values_in_feature_mask\u001b[49m\u001b[43m,\u001b[49m\n\u001b[1;32m    504\u001b[0m \u001b[43m    \u001b[49m\u001b[43m)\u001b[49m\n\u001b[1;32m    505\u001b[0m \u001b[43m    \u001b[49m\u001b[38;5;28;43;01mfor\u001b[39;49;00m\u001b[43m \u001b[49m\u001b[43mi\u001b[49m\u001b[43m,\u001b[49m\u001b[43m \u001b[49m\u001b[43mt\u001b[49m\u001b[43m \u001b[49m\u001b[38;5;129;43;01min\u001b[39;49;00m\u001b[43m \u001b[49m\u001b[38;5;28;43menumerate\u001b[39;49m\u001b[43m(\u001b[49m\u001b[43mtrees\u001b[49m\u001b[43m)\u001b[49m\n\u001b[1;32m    506\u001b[0m \u001b[43m\u001b[49m\u001b[43m)\u001b[49m\n\u001b[1;32m    508\u001b[0m \u001b[38;5;66;03m# Collect newly grown trees\u001b[39;00m\n\u001b[1;32m    509\u001b[0m \u001b[38;5;28mself\u001b[39m\u001b[38;5;241m.\u001b[39mestimators_\u001b[38;5;241m.\u001b[39mextend(trees)\n",
      "File \u001b[0;32m~/miniforge3/envs/miprop/lib/python3.10/site-packages/sklearn/utils/parallel.py:77\u001b[0m, in \u001b[0;36mParallel.__call__\u001b[0;34m(self, iterable)\u001b[0m\n\u001b[1;32m     72\u001b[0m config \u001b[38;5;241m=\u001b[39m get_config()\n\u001b[1;32m     73\u001b[0m iterable_with_config \u001b[38;5;241m=\u001b[39m (\n\u001b[1;32m     74\u001b[0m     (_with_config(delayed_func, config), args, kwargs)\n\u001b[1;32m     75\u001b[0m     \u001b[38;5;28;01mfor\u001b[39;00m delayed_func, args, kwargs \u001b[38;5;129;01min\u001b[39;00m iterable\n\u001b[1;32m     76\u001b[0m )\n\u001b[0;32m---> 77\u001b[0m \u001b[38;5;28;01mreturn\u001b[39;00m \u001b[38;5;28;43msuper\u001b[39;49m\u001b[43m(\u001b[49m\u001b[43m)\u001b[49m\u001b[38;5;241;43m.\u001b[39;49m\u001b[38;5;21;43m__call__\u001b[39;49m\u001b[43m(\u001b[49m\u001b[43miterable_with_config\u001b[49m\u001b[43m)\u001b[49m\n",
      "File \u001b[0;32m~/miniforge3/envs/miprop/lib/python3.10/site-packages/joblib/parallel.py:1918\u001b[0m, in \u001b[0;36mParallel.__call__\u001b[0;34m(self, iterable)\u001b[0m\n\u001b[1;32m   1916\u001b[0m     output \u001b[38;5;241m=\u001b[39m \u001b[38;5;28mself\u001b[39m\u001b[38;5;241m.\u001b[39m_get_sequential_output(iterable)\n\u001b[1;32m   1917\u001b[0m     \u001b[38;5;28mnext\u001b[39m(output)\n\u001b[0;32m-> 1918\u001b[0m     \u001b[38;5;28;01mreturn\u001b[39;00m output \u001b[38;5;28;01mif\u001b[39;00m \u001b[38;5;28mself\u001b[39m\u001b[38;5;241m.\u001b[39mreturn_generator \u001b[38;5;28;01melse\u001b[39;00m \u001b[38;5;28;43mlist\u001b[39;49m\u001b[43m(\u001b[49m\u001b[43moutput\u001b[49m\u001b[43m)\u001b[49m\n\u001b[1;32m   1920\u001b[0m \u001b[38;5;66;03m# Let's create an ID that uniquely identifies the current call. If the\u001b[39;00m\n\u001b[1;32m   1921\u001b[0m \u001b[38;5;66;03m# call is interrupted early and that the same instance is immediately\u001b[39;00m\n\u001b[1;32m   1922\u001b[0m \u001b[38;5;66;03m# re-used, this id will be used to prevent workers that were\u001b[39;00m\n\u001b[1;32m   1923\u001b[0m \u001b[38;5;66;03m# concurrently finalizing a task from the previous call to run the\u001b[39;00m\n\u001b[1;32m   1924\u001b[0m \u001b[38;5;66;03m# callback.\u001b[39;00m\n\u001b[1;32m   1925\u001b[0m \u001b[38;5;28;01mwith\u001b[39;00m \u001b[38;5;28mself\u001b[39m\u001b[38;5;241m.\u001b[39m_lock:\n",
      "File \u001b[0;32m~/miniforge3/envs/miprop/lib/python3.10/site-packages/joblib/parallel.py:1847\u001b[0m, in \u001b[0;36mParallel._get_sequential_output\u001b[0;34m(self, iterable)\u001b[0m\n\u001b[1;32m   1845\u001b[0m \u001b[38;5;28mself\u001b[39m\u001b[38;5;241m.\u001b[39mn_dispatched_batches \u001b[38;5;241m+\u001b[39m\u001b[38;5;241m=\u001b[39m \u001b[38;5;241m1\u001b[39m\n\u001b[1;32m   1846\u001b[0m \u001b[38;5;28mself\u001b[39m\u001b[38;5;241m.\u001b[39mn_dispatched_tasks \u001b[38;5;241m+\u001b[39m\u001b[38;5;241m=\u001b[39m \u001b[38;5;241m1\u001b[39m\n\u001b[0;32m-> 1847\u001b[0m res \u001b[38;5;241m=\u001b[39m \u001b[43mfunc\u001b[49m\u001b[43m(\u001b[49m\u001b[38;5;241;43m*\u001b[39;49m\u001b[43margs\u001b[49m\u001b[43m,\u001b[49m\u001b[43m \u001b[49m\u001b[38;5;241;43m*\u001b[39;49m\u001b[38;5;241;43m*\u001b[39;49m\u001b[43mkwargs\u001b[49m\u001b[43m)\u001b[49m\n\u001b[1;32m   1848\u001b[0m \u001b[38;5;28mself\u001b[39m\u001b[38;5;241m.\u001b[39mn_completed_tasks \u001b[38;5;241m+\u001b[39m\u001b[38;5;241m=\u001b[39m \u001b[38;5;241m1\u001b[39m\n\u001b[1;32m   1849\u001b[0m \u001b[38;5;28mself\u001b[39m\u001b[38;5;241m.\u001b[39mprint_progress()\n",
      "File \u001b[0;32m~/miniforge3/envs/miprop/lib/python3.10/site-packages/sklearn/utils/parallel.py:139\u001b[0m, in \u001b[0;36m_FuncWrapper.__call__\u001b[0;34m(self, *args, **kwargs)\u001b[0m\n\u001b[1;32m    137\u001b[0m     config \u001b[38;5;241m=\u001b[39m {}\n\u001b[1;32m    138\u001b[0m \u001b[38;5;28;01mwith\u001b[39;00m config_context(\u001b[38;5;241m*\u001b[39m\u001b[38;5;241m*\u001b[39mconfig):\n\u001b[0;32m--> 139\u001b[0m     \u001b[38;5;28;01mreturn\u001b[39;00m \u001b[38;5;28;43mself\u001b[39;49m\u001b[38;5;241;43m.\u001b[39;49m\u001b[43mfunction\u001b[49m\u001b[43m(\u001b[49m\u001b[38;5;241;43m*\u001b[39;49m\u001b[43margs\u001b[49m\u001b[43m,\u001b[49m\u001b[43m \u001b[49m\u001b[38;5;241;43m*\u001b[39;49m\u001b[38;5;241;43m*\u001b[39;49m\u001b[43mkwargs\u001b[49m\u001b[43m)\u001b[49m\n",
      "File \u001b[0;32m~/miniforge3/envs/miprop/lib/python3.10/site-packages/sklearn/ensemble/_forest.py:189\u001b[0m, in \u001b[0;36m_parallel_build_trees\u001b[0;34m(tree, bootstrap, X, y, sample_weight, tree_idx, n_trees, verbose, class_weight, n_samples_bootstrap, missing_values_in_feature_mask)\u001b[0m\n\u001b[1;32m    186\u001b[0m     \u001b[38;5;28;01melif\u001b[39;00m class_weight \u001b[38;5;241m==\u001b[39m \u001b[38;5;124m\"\u001b[39m\u001b[38;5;124mbalanced_subsample\u001b[39m\u001b[38;5;124m\"\u001b[39m:\n\u001b[1;32m    187\u001b[0m         curr_sample_weight \u001b[38;5;241m*\u001b[39m\u001b[38;5;241m=\u001b[39m compute_sample_weight(\u001b[38;5;124m\"\u001b[39m\u001b[38;5;124mbalanced\u001b[39m\u001b[38;5;124m\"\u001b[39m, y, indices\u001b[38;5;241m=\u001b[39mindices)\n\u001b[0;32m--> 189\u001b[0m     \u001b[43mtree\u001b[49m\u001b[38;5;241;43m.\u001b[39;49m\u001b[43m_fit\u001b[49m\u001b[43m(\u001b[49m\n\u001b[1;32m    190\u001b[0m \u001b[43m        \u001b[49m\u001b[43mX\u001b[49m\u001b[43m,\u001b[49m\n\u001b[1;32m    191\u001b[0m \u001b[43m        \u001b[49m\u001b[43my\u001b[49m\u001b[43m,\u001b[49m\n\u001b[1;32m    192\u001b[0m \u001b[43m        \u001b[49m\u001b[43msample_weight\u001b[49m\u001b[38;5;241;43m=\u001b[39;49m\u001b[43mcurr_sample_weight\u001b[49m\u001b[43m,\u001b[49m\n\u001b[1;32m    193\u001b[0m \u001b[43m        \u001b[49m\u001b[43mcheck_input\u001b[49m\u001b[38;5;241;43m=\u001b[39;49m\u001b[38;5;28;43;01mFalse\u001b[39;49;00m\u001b[43m,\u001b[49m\n\u001b[1;32m    194\u001b[0m \u001b[43m        \u001b[49m\u001b[43mmissing_values_in_feature_mask\u001b[49m\u001b[38;5;241;43m=\u001b[39;49m\u001b[43mmissing_values_in_feature_mask\u001b[49m\u001b[43m,\u001b[49m\n\u001b[1;32m    195\u001b[0m \u001b[43m    \u001b[49m\u001b[43m)\u001b[49m\n\u001b[1;32m    196\u001b[0m \u001b[38;5;28;01melse\u001b[39;00m:\n\u001b[1;32m    197\u001b[0m     tree\u001b[38;5;241m.\u001b[39m_fit(\n\u001b[1;32m    198\u001b[0m         X,\n\u001b[1;32m    199\u001b[0m         y,\n\u001b[0;32m   (...)\u001b[0m\n\u001b[1;32m    202\u001b[0m         missing_values_in_feature_mask\u001b[38;5;241m=\u001b[39mmissing_values_in_feature_mask,\n\u001b[1;32m    203\u001b[0m     )\n",
      "File \u001b[0;32m~/miniforge3/envs/miprop/lib/python3.10/site-packages/sklearn/tree/_classes.py:472\u001b[0m, in \u001b[0;36mBaseDecisionTree._fit\u001b[0;34m(self, X, y, sample_weight, check_input, missing_values_in_feature_mask)\u001b[0m\n\u001b[1;32m    461\u001b[0m \u001b[38;5;28;01melse\u001b[39;00m:\n\u001b[1;32m    462\u001b[0m     builder \u001b[38;5;241m=\u001b[39m BestFirstTreeBuilder(\n\u001b[1;32m    463\u001b[0m         splitter,\n\u001b[1;32m    464\u001b[0m         min_samples_split,\n\u001b[0;32m   (...)\u001b[0m\n\u001b[1;32m    469\u001b[0m         \u001b[38;5;28mself\u001b[39m\u001b[38;5;241m.\u001b[39mmin_impurity_decrease,\n\u001b[1;32m    470\u001b[0m     )\n\u001b[0;32m--> 472\u001b[0m \u001b[43mbuilder\u001b[49m\u001b[38;5;241;43m.\u001b[39;49m\u001b[43mbuild\u001b[49m\u001b[43m(\u001b[49m\u001b[38;5;28;43mself\u001b[39;49m\u001b[38;5;241;43m.\u001b[39;49m\u001b[43mtree_\u001b[49m\u001b[43m,\u001b[49m\u001b[43m \u001b[49m\u001b[43mX\u001b[49m\u001b[43m,\u001b[49m\u001b[43m \u001b[49m\u001b[43my\u001b[49m\u001b[43m,\u001b[49m\u001b[43m \u001b[49m\u001b[43msample_weight\u001b[49m\u001b[43m,\u001b[49m\u001b[43m \u001b[49m\u001b[43mmissing_values_in_feature_mask\u001b[49m\u001b[43m)\u001b[49m\n\u001b[1;32m    474\u001b[0m \u001b[38;5;28;01mif\u001b[39;00m \u001b[38;5;28mself\u001b[39m\u001b[38;5;241m.\u001b[39mn_outputs_ \u001b[38;5;241m==\u001b[39m \u001b[38;5;241m1\u001b[39m \u001b[38;5;129;01mand\u001b[39;00m is_classifier(\u001b[38;5;28mself\u001b[39m):\n\u001b[1;32m    475\u001b[0m     \u001b[38;5;28mself\u001b[39m\u001b[38;5;241m.\u001b[39mn_classes_ \u001b[38;5;241m=\u001b[39m \u001b[38;5;28mself\u001b[39m\u001b[38;5;241m.\u001b[39mn_classes_[\u001b[38;5;241m0\u001b[39m]\n",
      "\u001b[0;31mKeyboardInterrupt\u001b[0m: "
     ]
    }
   ],
   "source": [
    "with tqdm(total=total_num) as progress_bar:\n",
    "    \n",
    "    for coll_folder in os.listdir(benchmark_collection):\n",
    "        for bench_name in os.listdir(os.path.join(benchmark_collection, coll_folder)):\n",
    "            \n",
    "            # benchmark dataset\n",
    "            bench_folder = os.path.join(benchmark_collection, coll_folder, bench_name)\n",
    "            res_folder = os.path.join(prediction_collection, coll_folder, bench_name)\n",
    "            os.makedirs(res_folder, exist_ok=True)\n",
    "    \n",
    "            # run benchmark \n",
    "            res_val = pd.DataFrame()\n",
    "            res_test = pd.DataFrame()\n",
    "            \n",
    "            # parse dataset\n",
    "            mols_train = parse_data(os.path.join(bench_folder, 'train.csv'))\n",
    "            mols_val = parse_data(os.path.join(bench_folder, 'val.csv'))\n",
    "            mols_test = parse_data(os.path.join(bench_folder, 'test.csv'))\n",
    "            \n",
    "            # save true prop\n",
    "            res_val['Y_TRUE'] = [i[1] for i in mols_val]\n",
    "            res_test['Y_TRUE'] = [i[1] for i in mols_test]\n",
    "        \n",
    "            # calc 2D descriptors\n",
    "            for descr_func, descr_name in descr_list:\n",
    "        \n",
    "                # calculate training data descriptors\n",
    "                x_train, y_train = [], []\n",
    "                for mol, prop in mols_train:\n",
    "                    if mol:\n",
    "                        x_train.append(descr_func(mol))\n",
    "                        y_train.append(prop)\n",
    "                x_train = np.array(x_train)\n",
    "                \n",
    "                # scale training data descriptors\n",
    "                scaler = MinMaxScaler()\n",
    "                x_train_scaled = scaler.fit_transform(x_train)\n",
    "                \n",
    "                # train machine learning model\n",
    "                for model, method_name in ml_list:\n",
    "                    model.fit(x_train_scaled, y_train)\n",
    "                    \n",
    "                    # validation set prediction\n",
    "                    y_pred = []\n",
    "                    for mol in [i[0] for i in mols_val]:\n",
    "                        if mol:\n",
    "                            x_val = descr_func(mol)\n",
    "                            x_val_scaled = scaler.transform(x_val.reshape(1, -1))\n",
    "                            y_pred.append(model.predict(x_val_scaled).item())\n",
    "                        else:\n",
    "                            y_pred.append(np.mean(y_train))\n",
    "                    #\n",
    "                    res_val[f'{descr_name}|{method_name}'] = y_pred\n",
    "                    res_val.to_csv(os.path.join(res_folder, f'{bench_name}_val.csv'), index=False)\n",
    "    \n",
    "                    # test set prediction\n",
    "                    y_pred = []\n",
    "                    for mol in [i[0] for i in mols_test]:\n",
    "                        if mol:\n",
    "                            x_test = descr_func(mol)\n",
    "                            x_test_scaled = scaler.transform(x_test.reshape(1, -1))\n",
    "                            y_pred.append(model.predict(x_test_scaled).item())\n",
    "                        else:\n",
    "                            y_pred.append(np.mean(y_train))\n",
    "                    #\n",
    "                    res_test[f'{descr_name}|{method_name}'] = y_pred\n",
    "                    res_test.to_csv(os.path.join(res_folder, f'{bench_name}_test.csv'), index=False)\n",
    "    \n",
    "            # update progress bar\n",
    "            progress_bar.update(1) "
   ]
  },
  {
   "cell_type": "code",
   "execution_count": null,
   "id": "44a6f37d-cfc1-44c5-a0fc-7bf125efefdd",
   "metadata": {},
   "outputs": [],
   "source": []
  },
  {
   "cell_type": "code",
   "execution_count": null,
   "id": "e641894d-6a4e-4069-86c8-b609545c40f3",
   "metadata": {},
   "outputs": [],
   "source": []
  },
  {
   "cell_type": "code",
   "execution_count": null,
   "id": "2e1c5868-57d6-437b-9ce0-3f5096db3bdd",
   "metadata": {},
   "outputs": [],
   "source": []
  },
  {
   "cell_type": "code",
   "execution_count": 14,
   "id": "fd4fca60-ef29-480f-afac-bec22e59a3f0",
   "metadata": {},
   "outputs": [],
   "source": [
    "import datamol as dm\n",
    "from molfeat.trans.fp import FPVecTransformer"
   ]
  },
  {
   "cell_type": "code",
   "execution_count": null,
   "id": "0c8c7215-c9eb-41d7-8a4b-e84125a75ffa",
   "metadata": {},
   "outputs": [],
   "source": []
  },
  {
   "cell_type": "code",
   "execution_count": 35,
   "id": "3a4ddcb2-47c2-4496-b170-8f3cd66d6ac2",
   "metadata": {},
   "outputs": [
    {
     "name": "stderr",
     "output_type": "stream",
     "text": [
      "[14:09:37] WARNING: not removing hydrogen atom without neighbors\n",
      "[14:09:37] Initializing Normalizer\n",
      "[14:09:37] Running Normalizer\n"
     ]
    }
   ],
   "source": [
    "mol = dm.to_mol(\"CN(C)C(=O)c1ccc(cc1)OC\", ordered=True)\n",
    "mol = dm.fix_mol(mol)\n",
    "mol = dm.sanitize_mol(mol, sanifix=True, charge_neutral=False)\n",
    "mol = dm.standardize_mol(\n",
    "    mol,\n",
    "    disconnect_metals=False,\n",
    "    normalize=True,\n",
    "    reionize=True,\n",
    "    uncharge=False,\n",
    "    stereo=True,\n",
    ")"
   ]
  },
  {
   "cell_type": "code",
   "execution_count": 33,
   "id": "54c01103-f0a0-404c-bb56-746cd6c8ebcc",
   "metadata": {},
   "outputs": [
    {
     "data": {
      "image/png": "[encoded data removed]",
      "text/plain": [
       "<rdkit.Chem.rdchem.Mol at 0x7f728b8463b0>"
      ]
     },
     "execution_count": 33,
     "metadata": {},
     "output_type": "execute_result"
    }
   ],
   "source": [
    "mol"
   ]
  },
  {
   "cell_type": "code",
   "execution_count": 37,
   "id": "f258448c-1de2-467a-8103-7db2126f39bc",
   "metadata": {},
   "outputs": [],
   "source": [
    "from molfeat.trans.fp import FPVecTransformer, \n",
    "\n",
    "smiles = [\"CN(C)C(=O)c1ccc(cc1)OC\", \"CS(=O)(=O)Cl\", \"CCc1cnccn1\"]\n",
    "\n",
    "transformer = FPVecTransformer(kind='fcfp-count', n_jobs=3, dtype=float)\n",
    "features = transformer(smiles)"
   ]
  },
  {
   "cell_type": "code",
   "execution_count": 38,
   "id": "f555e2d7-019d-49b9-9fd1-ea65e9683a09",
   "metadata": {},
   "outputs": [
    {
     "data": {
      "text/plain": [
       "array([[0., 0., 0., ..., 0., 0., 0.],\n",
       "       [0., 0., 0., ..., 0., 0., 0.],\n",
       "       [0., 0., 0., ..., 0., 0., 0.]], shape=(3, 2000))"
      ]
     },
     "execution_count": 38,
     "metadata": {},
     "output_type": "execute_result"
    }
   ],
   "source": [
    "features"
   ]
  },
  {
   "cell_type": "code",
   "execution_count": null,
   "id": "84317308-61f5-4c1b-b248-afb604ffd597",
   "metadata": {},
   "outputs": [],
   "source": []
  },
  {
   "cell_type": "code",
   "execution_count": null,
   "id": "5e216267-4c34-499e-a437-4c77aef86def",
   "metadata": {},
   "outputs": [],
   "source": []
  },
  {
   "cell_type": "code",
   "execution_count": null,
   "id": "5cf8a08e-49f7-4544-954d-8d87fc91a7db",
   "metadata": {},
   "outputs": [],
   "source": []
  },
  {
   "cell_type": "code",
   "execution_count": null,
   "id": "16445492-7a2e-4d66-8a39-943207e51dc1",
   "metadata": {},
   "outputs": [],
   "source": []
  },
  {
   "cell_type": "code",
   "execution_count": null,
   "id": "43f2d381-06f4-4e5c-8745-8190d2bfa46c",
   "metadata": {},
   "outputs": [],
   "source": []
  }
 ],
 "metadata": {
  "kernelspec": {
   "display_name": "miprop",
   "language": "python",
   "name": "miprop"
  },
  "language_info": {
   "codemirror_mode": {
    "name": "ipython",
    "version": 3
   },
   "file_extension": ".py",
   "mimetype": "text/x-python",
   "name": "python",
   "nbconvert_exporter": "python",
   "pygments_lexer": "ipython3",
   "version": "3.10.16"
  }
 },
 "nbformat": 4,
 "nbformat_minor": 5
}
