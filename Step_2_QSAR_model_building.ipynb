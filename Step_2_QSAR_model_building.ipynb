{
 "cells": [
  {
   "cell_type": "code",
   "execution_count": null,
   "id": "883536bc-f706-4402-8431-0f7709fba319",
   "metadata": {},
   "outputs": [],
   "source": [
    "import os\n",
    "import shutil\n",
    "\n",
    "import numpy as np\n",
    "import pandas as pd\n",
    "\n",
    "from pathlib import Path\n",
    "from rdkit import Chem\n",
    "from tqdm import tqdm"
   ]
  },
  {
   "cell_type": "code",
   "execution_count": null,
   "id": "0bbad69c-e2c0-4af6-b951-e2816f86dbfd",
   "metadata": {},
   "outputs": [],
   "source": [
    "import warnings\n",
    "def warn(*args, **kwargs):\n",
    "    pass\n",
    "warnings.warn = warn"
   ]
  },
  {
   "cell_type": "markdown",
   "id": "3df4f34a-da1b-4115-b0a9-dfc491029036",
   "metadata": {},
   "source": [
    "## Mahine learning methods\n",
    "\n",
    "Machine learning methods are chosen from different families for diversity."
   ]
  },
  {
   "cell_type": "code",
   "execution_count": null,
   "id": "f0c3cc60-a176-4605-8f8d-e0adf8c8128a",
   "metadata": {},
   "outputs": [],
   "source": [
    "from sklearn.linear_model import Ridge\n",
    "from sklearn.ensemble import RandomForestRegressor\n",
    "from sklearn.svm import SVR\n",
    "from sklearn.neural_network import MLPRegressor\n",
    "from sklearn.neighbors import KNeighborsRegressor\n",
    "\n",
    "from sklearn.preprocessing import MinMaxScaler"
   ]
  },
  {
   "cell_type": "code",
   "execution_count": null,
   "id": "264e557f-000d-4e98-a0c4-e6df38b20194",
   "metadata": {},
   "outputs": [],
   "source": [
    "ml_list = [(Ridge(), \"RidgeRegression\"), \n",
    "           (KNeighborsRegressor(), \"KNeighborsRegressor\"),\n",
    "           (SVR(), \"SVR\"),\n",
    "           (RandomForestRegressor(), \"RandomForestRegressor\"),\n",
    "           (MLPRegressor(max_iter=500), \"MLPRegressor\"),\n",
    "           ]"
   ]
  },
  {
   "cell_type": "markdown",
   "id": "92814dad-2b10-4e8a-a2dc-5c699a9cd0fc",
   "metadata": {},
   "source": [
    "## Chemical descriptors\n",
    "\n",
    "Descriptors are chosen from different families (topological, physico-chemical, tranformer-based, etc.) for diversity.\n",
    "\n",
    "More descriptors: https://molfeat.datamol.io/featurizers"
   ]
  },
  {
   "cell_type": "code",
   "execution_count": null,
   "id": "dd63b6d5-06a1-429a-84e7-e3ced96bc478",
   "metadata": {},
   "outputs": [],
   "source": [
    "from molfeat.trans import MoleculeTransformer\n",
    "from molfeat.trans.fp import FPVecTransformer\n",
    "from molfeat.calc.pharmacophore import Pharmacophore2D"
   ]
  },
  {
   "cell_type": "code",
   "execution_count": null,
   "id": "7c83bd83-6863-4b0a-b0df-ffc5a9eecf10",
   "metadata": {},
   "outputs": [],
   "source": [
    "descr_list = [\n",
    "                (MoleculeTransformer(featurizer='cats2d', dtype=float), \"cats2d\"), # fails sometimes\n",
    "                (MoleculeTransformer(featurizer='scaffoldkeys', dtype=float), \"scaffoldkeys\"),\n",
    "                (MoleculeTransformer(featurizer='secfp', dtype=float), \"secfp\"),\n",
    "                (MoleculeTransformer(featurizer='atompair-count', dtype=float), \"atompair-count\"),\n",
    "                (MoleculeTransformer(featurizer='avalon', dtype=float), \"avalon\"),\n",
    "                (MoleculeTransformer(featurizer='ecfp-count', dtype=float), \"ecfp-count\"),\n",
    "                (MoleculeTransformer(featurizer='ecfp', dtype=float), \"ecfp\"),\n",
    "                (MoleculeTransformer(featurizer='erg', dtype=float), \"erg\"),\n",
    "                (MoleculeTransformer(featurizer='estate', dtype=float), \"estate\"),\n",
    "                (MoleculeTransformer(featurizer='fcfp-count', dtype=float), \"fcfp-count\"),\n",
    "                (MoleculeTransformer(featurizer='fcfp', dtype=float), \"fcfp\"),\n",
    "                (MoleculeTransformer(featurizer='maccs', dtype=float), \"maccs\"),\n",
    "                (MoleculeTransformer(featurizer='pattern', dtype=float), \"pattern\"),\n",
    "                (MoleculeTransformer(featurizer='rdkit', dtype=float), \"rdkit\"),\n",
    "                (MoleculeTransformer(featurizer='topological-count', dtype=float), \"topological-count\"),\n",
    "                (MoleculeTransformer(featurizer='topological', dtype=float), \"topological\"),\n",
    "                \n",
    "                # long\n",
    "                # (MoleculeTransformer(featurizer='desc2D', dtype=float), \"desc2D\"),\n",
    "                # (MoleculeTransformer(featurizer=Pharmacophore2D(factory='cats'), dtype=float), \"pharm2D-cats\"),\n",
    "                # (MoleculeTransformer(featurizer=Pharmacophore2D(factory='gobbi'), dtype=float), \"pharm2D-gobbi\"),\n",
    "                # (MoleculeTransformer(featurizer=Pharmacophore2D(factory='pmapper'), dtype=float), \"pharm2D-pmapper\"),\n",
    "            ]\n"
   ]
  },
  {
   "cell_type": "markdown",
   "id": "7533f304-c677-4ab6-850d-0518dcd63917",
   "metadata": {},
   "source": [
    "## Run benchmark"
   ]
  },
  {
   "cell_type": "code",
   "execution_count": null,
   "id": "83e6e381-700f-4718-89a1-416e234ce49d",
   "metadata": {},
   "outputs": [],
   "source": [
    "def parse_data(data_path):\n",
    "    data = pd.read_csv(data_path, header=None)\n",
    "    \n",
    "    smi_prop_list = []\n",
    "    for smi, prop in zip(data[0], data[1]):\n",
    "        smi_prop_list.append((smi, prop))\n",
    "\n",
    "    return smi_prop_list"
   ]
  },
  {
   "cell_type": "markdown",
   "id": "86fb4efd-6d88-47e2-affe-04ffc97012ee",
   "metadata": {},
   "source": [
    "### Input/output data path"
   ]
  },
  {
   "cell_type": "code",
   "execution_count": null,
   "id": "0bb0f1f6-ba3d-4607-a16c-55dd08eef5d5",
   "metadata": {},
   "outputs": [],
   "source": [
    "# input data\n",
    "benchmark_collection =  Path(\"benchmark_collection_prepared\").resolve()\n",
    "\n",
    "# output data\n",
    "prediction_collection = Path(\"benchmark_model_prediction\").resolve()\n",
    "if os.path.exists(prediction_collection):\n",
    "    shutil.rmtree(prediction_collection)\n",
    "    \n",
    "os.makedirs(prediction_collection, exist_ok=True)"
   ]
  },
  {
   "cell_type": "markdown",
   "id": "e239a981-7986-47a4-9915-7d975b887375",
   "metadata": {},
   "source": [
    "### Model building"
   ]
  },
  {
   "cell_type": "code",
   "execution_count": null,
   "id": "bbc8da35-d393-4d20-97bb-a5599b29ce4a",
   "metadata": {},
   "outputs": [],
   "source": [
    "total_num = sum([len(os.listdir(os.path.join(benchmark_collection, i))) for i in os.listdir(benchmark_collection)])"
   ]
  },
  {
   "cell_type": "code",
   "execution_count": null,
   "id": "5104e3c7-0ec1-48ac-b6d3-2a121dae4457",
   "metadata": {
    "scrolled": true
   },
   "outputs": [],
   "source": [
    "with tqdm(total=total_num) as progress_bar:\n",
    "    \n",
    "    for coll_folder in os.listdir(benchmark_collection):\n",
    "        for bench_name in os.listdir(os.path.join(benchmark_collection, coll_folder)):\n",
    "            \n",
    "            # benchmark dataset\n",
    "            bench_folder = os.path.join(benchmark_collection, coll_folder, bench_name)\n",
    "            res_folder = os.path.join(prediction_collection, coll_folder, bench_name)\n",
    "            os.makedirs(res_folder, exist_ok=True)\n",
    "    \n",
    "            # run benchmark \n",
    "            res_val = pd.DataFrame()\n",
    "            res_test = pd.DataFrame()\n",
    "            \n",
    "            # parse dataset\n",
    "            data_train = parse_data(os.path.join(bench_folder, 'train.csv'))\n",
    "            data_val = parse_data(os.path.join(bench_folder, 'val.csv'))\n",
    "            data_test = parse_data(os.path.join(bench_folder, 'test.csv'))\n",
    "            \n",
    "            # save true prop\n",
    "            res_val['Y_TRUE'] = [i[1] for i in data_val]\n",
    "            res_test['Y_TRUE'] = [i[1] for i in data_test]\n",
    "        \n",
    "            # calc 2D descriptors\n",
    "            for descr_func, descr_name in descr_list:\n",
    "        \n",
    "                # calculate training data descriptors\n",
    "                try:\n",
    "                    x_train = descr_func([i[0] for i in data_train])\n",
    "                    x_val = descr_func([i[0] for i in data_val])\n",
    "                    x_test = descr_func([i[0] for i in data_test])\n",
    "                except:\n",
    "                    continue\n",
    "                \n",
    "                y_train = [i[1] for i in data_train]\n",
    "\n",
    "                # scale descriptors\n",
    "                scaler = MinMaxScaler()\n",
    "                x_train_scaled = scaler.fit_transform(x_train)\n",
    "                x_val_scaled = scaler.transform(x_val)\n",
    "                x_test_scaled = scaler.transform(x_test)\n",
    "                \n",
    "                # train machine learning model\n",
    "                for model, method_name in ml_list:\n",
    "                    model.fit(x_train_scaled, y_train)\n",
    "\n",
    "                    # validation set prediction\n",
    "                    res_val[f'{descr_name}|{method_name}'] = model.predict(x_val_scaled)\n",
    "                    res_val.to_csv(os.path.join(res_folder, f'{bench_name}_val.csv'), index=False)\n",
    "\n",
    "                    # test set prediction\n",
    "                    res_test[f'{descr_name}|{method_name}'] = model.predict(x_test_scaled)\n",
    "                    res_test.to_csv(os.path.join(res_folder, f'{bench_name}_test.csv'), index=False)\n",
    "\n",
    "            # update progress bar\n",
    "            progress_bar.update(1)"
   ]
  },
  {
   "cell_type": "code",
   "execution_count": null,
   "id": "fecd0058-922a-4008-a3e1-78b2429392d0",
   "metadata": {},
   "outputs": [],
   "source": []
  },
  {
   "cell_type": "code",
   "execution_count": null,
   "id": "05c5d781-6341-4c35-abaa-5ec78c2ff56c",
   "metadata": {},
   "outputs": [],
   "source": []
  }
 ],
 "metadata": {
  "kernelspec": {
   "display_name": "miprop",
   "language": "python",
   "name": "miprop"
  },
  "language_info": {
   "codemirror_mode": {
    "name": "ipython",
    "version": 3
   },
   "file_extension": ".py",
   "mimetype": "text/x-python",
   "name": "python",
   "nbconvert_exporter": "python",
   "pygments_lexer": "ipython3",
   "version": "3.10.16"
  }
 },
 "nbformat": 4,
 "nbformat_minor": 5
}
