{
 "cells": [
  {
   "cell_type": "code",
   "execution_count": 1,
   "id": "0f51db19-9adf-431a-9bd4-d7362279e18b",
   "metadata": {},
   "outputs": [],
   "source": [
    "import os\n",
    "import random\n",
    "random.seed(42)\n",
    "import pandas as pd\n",
    "from copy import deepcopy"
   ]
  },
  {
   "cell_type": "code",
   "execution_count": 2,
   "id": "3a1ab979-4c27-497f-99d0-d92fe63e8dbb",
   "metadata": {},
   "outputs": [],
   "source": [
    "from sklearn.metrics import mean_absolute_error, r2_score, root_mean_squared_error\n",
    "from sklearn.model_selection import train_test_split"
   ]
  },
  {
   "cell_type": "code",
   "execution_count": 3,
   "id": "95b67d48-109b-4d54-8105-d5290b612f88",
   "metadata": {},
   "outputs": [],
   "source": [
    "from genopt.optimizer import GeneticAlgorithm\n",
    "from genopt.scaler import sigma_trunc_scaling\n",
    "from genopt.selector import tournament_selection, roulette_wheel_selection, linear_rank_selection\n",
    "from genopt.crossover import one_point_crossover, two_point_crossover\n",
    "from genopt.mutator import uniform_mutation"
   ]
  },
  {
   "cell_type": "markdown",
   "id": "e32dece2-f453-4564-b034-b561aa39da72",
   "metadata": {},
   "source": [
    "## Shared"
   ]
  },
  {
   "cell_type": "code",
   "execution_count": 4,
   "id": "9634221f-d3bd-493b-88d6-c5fbfe027eee",
   "metadata": {},
   "outputs": [],
   "source": [
    "def calc_accuracy(y_true, y_pred, metric='mae'):\n",
    "    if metric == 'mae':\n",
    "        acc = mean_absolute_error(y_true, y_pred)\n",
    "    elif metric == 'r2':\n",
    "        acc = r2_score(y_true, y_pred)\n",
    "    elif metric == 'rmse':\n",
    "        acc = root_mean_squared_error(y_true, y_pred)\n",
    "\n",
    "    return acc"
   ]
  },
  {
   "cell_type": "markdown",
   "id": "5cf74300-abf8-4896-8938-7da0be7e391c",
   "metadata": {},
   "source": [
    "## Random search"
   ]
  },
  {
   "cell_type": "code",
   "execution_count": 5,
   "id": "ba1494ea-cc6f-4ce4-9bde-2a4cebddb99b",
   "metadata": {},
   "outputs": [],
   "source": [
    "class RandomSearchRegressor:\n",
    "    def __init__(self, cons_size=10, n_iter=5000, metric='mae'):\n",
    "        super().__init__()\n",
    "\n",
    "        self.cons_size = cons_size\n",
    "        self.n_iter = n_iter\n",
    "        self.metric = metric\n",
    "\n",
    "    def run(self, x, y):\n",
    "        \n",
    "        cons_list = []\n",
    "        for _ in range(self.n_iter):\n",
    "            \n",
    "            random_cons = random.sample(range(len(x.columns)), k=self.cons_size) # skip TRUE column\n",
    "            y_cons = x[x.columns[random_cons]].mean(axis=1)\n",
    "            \n",
    "            acc = calc_accuracy(y, y_cons, metric=self.metric)\n",
    "            cons_list.append((random_cons, acc))\n",
    "            #\n",
    "            if self.metric in ['mae', 'rmse']:\n",
    "                cons_list = sorted(cons_list, key=lambda x: x[1], reverse=False) # minimize\n",
    "            elif self.metric in ['r2']:\n",
    "                cons_list = sorted(cons_list, key=lambda x: x[1], reverse=True) # maximize\n",
    "                \n",
    "            best_cons = cons_list[0][0]\n",
    "            best_cons = x.columns[best_cons]\n",
    "            \n",
    "            return best_cons"
   ]
  },
  {
   "cell_type": "markdown",
   "id": "9ab9c34e-79de-4ea8-8720-2de5d4cc5449",
   "metadata": {},
   "source": [
    "## Systematic search"
   ]
  },
  {
   "cell_type": "code",
   "execution_count": 6,
   "id": "2c815890-5530-42d1-b06c-a01b54bdd900",
   "metadata": {},
   "outputs": [],
   "source": [
    "class SystematicSearchRegressor:\n",
    "    def __init__(self, cons_size=10, metric='mae'):\n",
    "        super().__init__()\n",
    "\n",
    "        self.cons_size = cons_size\n",
    "        self.metric = metric\n",
    "\n",
    "    def run(self, x, y):\n",
    "\n",
    "        tmp = []\n",
    "        for model in x.columns:\n",
    "            acc = calc_accuracy(y, x[model], metric=self.metric)\n",
    "            tmp.append((model, acc))\n",
    "            \n",
    "        if self.metric in ['mae', 'rmse']:\n",
    "            tmp_sorted = sorted(tmp, key=lambda x:x[1], reverse=False) # minimize\n",
    "        elif self.metric in ['r2']:\n",
    "            tmp_sorted = sorted(tmp, key=lambda x:x[1], reverse=True) # maximize \n",
    "\n",
    "        x_sorted = x[[i[0] for i in tmp_sorted]]\n",
    "            \n",
    "        best_cons = x_sorted.columns[:self.cons_size]\n",
    "        \n",
    "        return best_cons"
   ]
  },
  {
   "cell_type": "markdown",
   "id": "bcbc5d9d-451b-42f6-85b5-eb25cc348c74",
   "metadata": {},
   "source": [
    "## Genetic search"
   ]
  },
  {
   "cell_type": "code",
   "execution_count": 7,
   "id": "5089b2e3-2808-4cd3-a382-276d7e4556ec",
   "metadata": {},
   "outputs": [],
   "source": [
    "# version without model duplication in consensus\n",
    "def one_point_crossover(mother, father):\n",
    "    sister = deepcopy(mother)\n",
    "    brother = deepcopy(father)\n",
    "\n",
    "    for _ in range(100):\n",
    "        cut = random.randint(1, len(mother) - 1)\n",
    "    \n",
    "        sister[cut:] = father[cut:]\n",
    "        brother[cut:] = mother[cut:]\n",
    "\n",
    "        if len(set(sister.container)) == len(set(brother.container)) == len(sister.container):\n",
    "            break\n",
    "\n",
    "    return sister, brother\n",
    "\n",
    "# version without model duplication in consensus\n",
    "def uniform_mutation(individual, space, prob=0):\n",
    "\n",
    "    for _ in range(100):\n",
    "        for n, gen in enumerate(individual):\n",
    "            if random.random() < prob:\n",
    "                individual[n] = random.choice(space)\n",
    "        if len(set(individual.container)) == len(individual.container):\n",
    "            return individual\n",
    "            \n",
    "    return individual\n",
    "\n",
    "class GeneticSearchRegressor:\n",
    "    def __init__(self, cons_size=10, n_iter=200, metric='mae'):\n",
    "        super().__init__()\n",
    "\n",
    "        self.cons_size = cons_size\n",
    "        self.n_iter = n_iter\n",
    "        self.metric = metric\n",
    "\n",
    "    def run(self, x, y):\n",
    "        \n",
    "        def objective(cons):\n",
    "            y_cons = x[x.columns[cons]].mean(axis=1)\n",
    "            acc = calc_accuracy(y, y_cons, metric=self.metric)\n",
    "            return acc\n",
    "        #\n",
    "        space = range(len(x.columns))\n",
    "        if self.metric in ['mae', 'rmse']:\n",
    "            task = 'minimize'\n",
    "        elif self.metric in ['r2']:\n",
    "            task = 'maximize'\n",
    "        #\n",
    "        ga = GeneticAlgorithm(task=task, pop_size=50, cross_prob=0.8, mut_prob=0.2, elitism=True)\n",
    "        ga.set_fitness(objective)\n",
    "        ga.set_selector_type(tournament_selection)\n",
    "        ga.set_crossover_type(one_point_crossover)\n",
    "        ga.set_mutator_type(uniform_mutation)\n",
    "        ga.set_scaler_type(sigma_trunc_scaling)\n",
    "        #\n",
    "        ga.initialize(space, steps=self.cons_size)   \n",
    "        ga.run(n_iter=200, verbose=False)\n",
    "        #\n",
    "        best_cons = ga.best_individual()\n",
    "        best_cons = x.columns[best_cons]\n",
    "        #\n",
    "        return best_cons"
   ]
  },
  {
   "cell_type": "markdown",
   "id": "8c9d186d-faf7-4b12-a86a-a1f554963bd8",
   "metadata": {},
   "source": [
    "## Single dataset benchmark"
   ]
  },
  {
   "cell_type": "code",
   "execution_count": 8,
   "id": "2c850c4d-1730-4b14-949b-a807e3aef3d3",
   "metadata": {},
   "outputs": [],
   "source": [
    "method_list = [(SystematicSearchRegressor(cons_size=1, metric='rmse'), 'Best'),\n",
    "               (RandomSearchRegressor(cons_size=10, n_iter=5000, metric='rmse'), 'Random'),\n",
    "               (SystematicSearchRegressor(cons_size=10, metric='rmse'), 'Systematic'),\n",
    "               (GeneticSearchRegressor(cons_size=10, metric='rmse'), 'Genetic')]"
   ]
  },
  {
   "cell_type": "code",
   "execution_count": 9,
   "id": "344251e0-e565-4169-85a0-e8fe3f15430c",
   "metadata": {},
   "outputs": [],
   "source": [
    "res_df_val = pd.DataFrame()\n",
    "res_df_test = pd.DataFrame()\n",
    "#\n",
    "bench_file = 'benchmark/md/md_dens_2D_SIL.csv'\n",
    "\n",
    "# load data\n",
    "df = pd.read_csv(bench_file)\n",
    "df_val, df_test = train_test_split(df, test_size=0.3, random_state=42)\n",
    "#\n",
    "x_val, y_val = df_val.iloc[:, 1:], df_val.iloc[:, 0]\n",
    "x_test, y_test = df_test.iloc[:, 1:], df_test.iloc[:, 0]\n",
    "\n",
    "# run ensemble search\n",
    "for method_func, method_name in method_list:\n",
    "    cons = method_func.run(x_val, y_val)\n",
    "    y_pred = df_val[cons].mean(axis=1)\n",
    "    #\n",
    "    res_df_val.loc[method_name, 'RMSE'] = calc_accuracy(y_val, x_val[cons].mean(axis=1), metric='rmse')\n",
    "    res_df_val.loc[method_name, 'MAE'] = calc_accuracy(y_val, x_val[cons].mean(axis=1), metric='mae')\n",
    "    res_df_val.loc[method_name, 'R2'] = calc_accuracy(y_val, x_val[cons].mean(axis=1), metric='r2')\n",
    "    #\n",
    "    res_df_test.loc[method_name, 'RMSE'] = calc_accuracy(y_test, x_test[cons].mean(axis=1), metric='rmse')\n",
    "    res_df_test.loc[method_name, 'MAE'] = calc_accuracy(y_test, x_test[cons].mean(axis=1), metric='mae')\n",
    "    res_df_test.loc[method_name, 'R2'] = calc_accuracy(y_test, x_test[cons].mean(axis=1), metric='r2')"
   ]
  },
  {
   "cell_type": "code",
   "execution_count": 10,
   "id": "189ea1d8-40b1-4bd8-b8a8-b305e3b8b92d",
   "metadata": {},
   "outputs": [
    {
     "data": {
      "text/html": [
       "<div>\n",
       "<style scoped>\n",
       "    .dataframe tbody tr th:only-of-type {\n",
       "        vertical-align: middle;\n",
       "    }\n",
       "\n",
       "    .dataframe tbody tr th {\n",
       "        vertical-align: top;\n",
       "    }\n",
       "\n",
       "    .dataframe thead th {\n",
       "        text-align: right;\n",
       "    }\n",
       "</style>\n",
       "<table border=\"1\" class=\"dataframe\">\n",
       "  <thead>\n",
       "    <tr style=\"text-align: right;\">\n",
       "      <th></th>\n",
       "      <th>RMSE</th>\n",
       "      <th>MAE</th>\n",
       "      <th>R2</th>\n",
       "    </tr>\n",
       "  </thead>\n",
       "  <tbody>\n",
       "    <tr>\n",
       "      <th>Best</th>\n",
       "      <td>79.23</td>\n",
       "      <td>57.59</td>\n",
       "      <td>0.80</td>\n",
       "    </tr>\n",
       "    <tr>\n",
       "      <th>Random</th>\n",
       "      <td>213.59</td>\n",
       "      <td>183.76</td>\n",
       "      <td>-0.47</td>\n",
       "    </tr>\n",
       "    <tr>\n",
       "      <th>Systematic</th>\n",
       "      <td>65.02</td>\n",
       "      <td>45.27</td>\n",
       "      <td>0.86</td>\n",
       "    </tr>\n",
       "    <tr>\n",
       "      <th>Genetic</th>\n",
       "      <td>55.09</td>\n",
       "      <td>36.78</td>\n",
       "      <td>0.90</td>\n",
       "    </tr>\n",
       "  </tbody>\n",
       "</table>\n",
       "</div>"
      ],
      "text/plain": [
       "              RMSE     MAE    R2\n",
       "Best         79.23   57.59  0.80\n",
       "Random      213.59  183.76 -0.47\n",
       "Systematic   65.02   45.27  0.86\n",
       "Genetic      55.09   36.78  0.90"
      ]
     },
     "execution_count": 10,
     "metadata": {},
     "output_type": "execute_result"
    }
   ],
   "source": [
    "res_df_val.round(2)"
   ]
  },
  {
   "cell_type": "code",
   "execution_count": 11,
   "id": "0e20eeb6-af59-4478-9009-32c148a7b2ca",
   "metadata": {},
   "outputs": [
    {
     "data": {
      "text/html": [
       "<div>\n",
       "<style scoped>\n",
       "    .dataframe tbody tr th:only-of-type {\n",
       "        vertical-align: middle;\n",
       "    }\n",
       "\n",
       "    .dataframe tbody tr th {\n",
       "        vertical-align: top;\n",
       "    }\n",
       "\n",
       "    .dataframe thead th {\n",
       "        text-align: right;\n",
       "    }\n",
       "</style>\n",
       "<table border=\"1\" class=\"dataframe\">\n",
       "  <thead>\n",
       "    <tr style=\"text-align: right;\">\n",
       "      <th></th>\n",
       "      <th>RMSE</th>\n",
       "      <th>MAE</th>\n",
       "      <th>R2</th>\n",
       "    </tr>\n",
       "  </thead>\n",
       "  <tbody>\n",
       "    <tr>\n",
       "      <th>Best</th>\n",
       "      <td>97.16</td>\n",
       "      <td>69.97</td>\n",
       "      <td>0.68</td>\n",
       "    </tr>\n",
       "    <tr>\n",
       "      <th>Random</th>\n",
       "      <td>203.86</td>\n",
       "      <td>179.27</td>\n",
       "      <td>-0.39</td>\n",
       "    </tr>\n",
       "    <tr>\n",
       "      <th>Systematic</th>\n",
       "      <td>71.52</td>\n",
       "      <td>55.48</td>\n",
       "      <td>0.83</td>\n",
       "    </tr>\n",
       "    <tr>\n",
       "      <th>Genetic</th>\n",
       "      <td>75.01</td>\n",
       "      <td>57.21</td>\n",
       "      <td>0.81</td>\n",
       "    </tr>\n",
       "  </tbody>\n",
       "</table>\n",
       "</div>"
      ],
      "text/plain": [
       "              RMSE     MAE    R2\n",
       "Best         97.16   69.97  0.68\n",
       "Random      203.86  179.27 -0.39\n",
       "Systematic   71.52   55.48  0.83\n",
       "Genetic      75.01   57.21  0.81"
      ]
     },
     "execution_count": 11,
     "metadata": {},
     "output_type": "execute_result"
    }
   ],
   "source": [
    "res_df_test.round(2)"
   ]
  },
  {
   "cell_type": "markdown",
   "id": "96185957-f80c-4e0a-a5c4-f5a3738f0dec",
   "metadata": {},
   "source": [
    "## Many datasets benchmark"
   ]
  },
  {
   "cell_type": "code",
   "execution_count": 12,
   "id": "2a06600b-0beb-4865-bc8c-6a6f0813f2da",
   "metadata": {},
   "outputs": [],
   "source": [
    "import os\n",
    "import numpy as np\n",
    "from collections import Counter\n",
    "from tqdm import tqdm"
   ]
  },
  {
   "cell_type": "code",
   "execution_count": 13,
   "id": "04fdf0c7-f69f-4d36-bbc8-3fadc9628779",
   "metadata": {},
   "outputs": [],
   "source": [
    "method_list = [(SystematicSearchRegressor(cons_size=1, metric='rmse'), 'Best'),\n",
    "               (RandomSearchRegressor(cons_size=10, n_iter=5000, metric='rmse'), 'Random'),\n",
    "               (SystematicSearchRegressor(cons_size=10, metric='rmse'), 'Systematic'),\n",
    "               (GeneticSearchRegressor(cons_size=10, metric='rmse'), 'Genetic')]"
   ]
  },
  {
   "cell_type": "code",
   "execution_count": 14,
   "id": "0a276aff-7d8a-4f57-b818-ade6030f1502",
   "metadata": {},
   "outputs": [
    {
     "name": "stderr",
     "output_type": "stream",
     "text": [
      "100%|█| 10/10 [01:44<00:00, 10.40s\n"
     ]
    }
   ],
   "source": [
    "res_df_val = pd.DataFrame()\n",
    "res_df_test = pd.DataFrame()\n",
    "\n",
    "# bench_dir = 'benchmark/chembl'\n",
    "bench_dir = 'benchmark/molnet'\n",
    "# bench_dir = 'benchmark/cliff'\n",
    "# bench_dir = 'benchmark/md'\n",
    "# bench_dir = 'benchmark/denmark'\n",
    "\n",
    "data_path = os.listdir(bench_dir)\n",
    "for bench_file in tqdm(data_path):\n",
    "\n",
    "    bench_name = bench_file.split('.')[0]\n",
    "\n",
    "    # load data\n",
    "    df = pd.read_csv(os.path.join(bench_dir, bench_file))\n",
    "    df_val, df_test = train_test_split(df, test_size=0.3, random_state=42)\n",
    "    #\n",
    "    x_val, y_val = df_val.iloc[:, 1:], df_val.iloc[:, 0]\n",
    "    x_test, y_test = df_test.iloc[:, 1:], df_test.iloc[:, 0]\n",
    "    #\n",
    "    for method_func, method_name in method_list:\n",
    "        cons = method_func.run(x_val, y_val)\n",
    "        y_pred = x_val[cons].mean(axis=1)\n",
    "        #\n",
    "        res_df_val.loc[bench_name, method_name] = calc_accuracy(y_val, x_val[cons].mean(axis=1), metric='r2')\n",
    "        res_df_test.loc[bench_name, method_name] = calc_accuracy(y_test, x_test[cons].mean(axis=1), metric='r2')"
   ]
  },
  {
   "cell_type": "code",
   "execution_count": 15,
   "id": "bd338044-28cc-4299-a98f-c2e3d9aa4d9c",
   "metadata": {},
   "outputs": [
    {
     "data": {
      "text/html": [
       "<div>\n",
       "<style scoped>\n",
       "    .dataframe tbody tr th:only-of-type {\n",
       "        vertical-align: middle;\n",
       "    }\n",
       "\n",
       "    .dataframe tbody tr th {\n",
       "        vertical-align: top;\n",
       "    }\n",
       "\n",
       "    .dataframe thead th {\n",
       "        text-align: right;\n",
       "    }\n",
       "</style>\n",
       "<table border=\"1\" class=\"dataframe\">\n",
       "  <thead>\n",
       "    <tr style=\"text-align: right;\">\n",
       "      <th></th>\n",
       "      <th>Best</th>\n",
       "      <th>Random</th>\n",
       "      <th>Systematic</th>\n",
       "      <th>Genetic</th>\n",
       "    </tr>\n",
       "  </thead>\n",
       "  <tbody>\n",
       "    <tr>\n",
       "      <th>malaria</th>\n",
       "      <td>0.38</td>\n",
       "      <td>0.33</td>\n",
       "      <td>0.40</td>\n",
       "      <td>0.42</td>\n",
       "    </tr>\n",
       "    <tr>\n",
       "      <th>lmc_mouse</th>\n",
       "      <td>0.29</td>\n",
       "      <td>0.23</td>\n",
       "      <td>0.30</td>\n",
       "      <td>0.33</td>\n",
       "    </tr>\n",
       "    <tr>\n",
       "      <th>PDBbindF</th>\n",
       "      <td>0.46</td>\n",
       "      <td>0.48</td>\n",
       "      <td>0.49</td>\n",
       "      <td>0.51</td>\n",
       "    </tr>\n",
       "    <tr>\n",
       "      <th>PDBbindR</th>\n",
       "      <td>0.41</td>\n",
       "      <td>0.41</td>\n",
       "      <td>0.43</td>\n",
       "      <td>0.46</td>\n",
       "    </tr>\n",
       "    <tr>\n",
       "      <th>solubility</th>\n",
       "      <td>0.89</td>\n",
       "      <td>0.87</td>\n",
       "      <td>0.92</td>\n",
       "      <td>0.93</td>\n",
       "    </tr>\n",
       "    <tr>\n",
       "      <th>lipophilicity</th>\n",
       "      <td>0.59</td>\n",
       "      <td>0.59</td>\n",
       "      <td>0.63</td>\n",
       "      <td>0.73</td>\n",
       "    </tr>\n",
       "    <tr>\n",
       "      <th>freesolv</th>\n",
       "      <td>0.93</td>\n",
       "      <td>0.82</td>\n",
       "      <td>0.94</td>\n",
       "      <td>0.94</td>\n",
       "    </tr>\n",
       "    <tr>\n",
       "      <th>lmc_human</th>\n",
       "      <td>0.42</td>\n",
       "      <td>0.38</td>\n",
       "      <td>0.45</td>\n",
       "      <td>0.49</td>\n",
       "    </tr>\n",
       "    <tr>\n",
       "      <th>PDBbindC</th>\n",
       "      <td>0.41</td>\n",
       "      <td>0.42</td>\n",
       "      <td>0.43</td>\n",
       "      <td>0.47</td>\n",
       "    </tr>\n",
       "    <tr>\n",
       "      <th>lmc_rat</th>\n",
       "      <td>0.43</td>\n",
       "      <td>0.44</td>\n",
       "      <td>0.46</td>\n",
       "      <td>0.52</td>\n",
       "    </tr>\n",
       "  </tbody>\n",
       "</table>\n",
       "</div>"
      ],
      "text/plain": [
       "               Best  Random  Systematic  Genetic\n",
       "malaria        0.38    0.33        0.40     0.42\n",
       "lmc_mouse      0.29    0.23        0.30     0.33\n",
       "PDBbindF       0.46    0.48        0.49     0.51\n",
       "PDBbindR       0.41    0.41        0.43     0.46\n",
       "solubility     0.89    0.87        0.92     0.93\n",
       "lipophilicity  0.59    0.59        0.63     0.73\n",
       "freesolv       0.93    0.82        0.94     0.94\n",
       "lmc_human      0.42    0.38        0.45     0.49\n",
       "PDBbindC       0.41    0.42        0.43     0.47\n",
       "lmc_rat        0.43    0.44        0.46     0.52"
      ]
     },
     "execution_count": 15,
     "metadata": {},
     "output_type": "execute_result"
    }
   ],
   "source": [
    "res_df_val.round(2)"
   ]
  },
  {
   "cell_type": "code",
   "execution_count": 16,
   "id": "985a1213-85ae-41e1-a7e1-dacea9d2bbe3",
   "metadata": {},
   "outputs": [
    {
     "data": {
      "text/html": [
       "<div>\n",
       "<style scoped>\n",
       "    .dataframe tbody tr th:only-of-type {\n",
       "        vertical-align: middle;\n",
       "    }\n",
       "\n",
       "    .dataframe tbody tr th {\n",
       "        vertical-align: top;\n",
       "    }\n",
       "\n",
       "    .dataframe thead th {\n",
       "        text-align: right;\n",
       "    }\n",
       "</style>\n",
       "<table border=\"1\" class=\"dataframe\">\n",
       "  <thead>\n",
       "    <tr style=\"text-align: right;\">\n",
       "      <th></th>\n",
       "      <th>Best</th>\n",
       "      <th>Random</th>\n",
       "      <th>Systematic</th>\n",
       "      <th>Genetic</th>\n",
       "    </tr>\n",
       "  </thead>\n",
       "  <tbody>\n",
       "    <tr>\n",
       "      <th>malaria</th>\n",
       "      <td>0.27</td>\n",
       "      <td>0.26</td>\n",
       "      <td>0.33</td>\n",
       "      <td>0.34</td>\n",
       "    </tr>\n",
       "    <tr>\n",
       "      <th>lmc_mouse</th>\n",
       "      <td>0.41</td>\n",
       "      <td>0.49</td>\n",
       "      <td>0.47</td>\n",
       "      <td>0.43</td>\n",
       "    </tr>\n",
       "    <tr>\n",
       "      <th>PDBbindF</th>\n",
       "      <td>0.42</td>\n",
       "      <td>0.48</td>\n",
       "      <td>0.49</td>\n",
       "      <td>0.50</td>\n",
       "    </tr>\n",
       "    <tr>\n",
       "      <th>PDBbindR</th>\n",
       "      <td>0.55</td>\n",
       "      <td>0.53</td>\n",
       "      <td>0.58</td>\n",
       "      <td>0.60</td>\n",
       "    </tr>\n",
       "    <tr>\n",
       "      <th>solubility</th>\n",
       "      <td>0.90</td>\n",
       "      <td>0.81</td>\n",
       "      <td>0.89</td>\n",
       "      <td>0.86</td>\n",
       "    </tr>\n",
       "    <tr>\n",
       "      <th>lipophilicity</th>\n",
       "      <td>0.63</td>\n",
       "      <td>0.63</td>\n",
       "      <td>0.67</td>\n",
       "      <td>0.75</td>\n",
       "    </tr>\n",
       "    <tr>\n",
       "      <th>freesolv</th>\n",
       "      <td>0.95</td>\n",
       "      <td>0.84</td>\n",
       "      <td>0.95</td>\n",
       "      <td>0.95</td>\n",
       "    </tr>\n",
       "    <tr>\n",
       "      <th>lmc_human</th>\n",
       "      <td>0.41</td>\n",
       "      <td>0.40</td>\n",
       "      <td>0.45</td>\n",
       "      <td>0.47</td>\n",
       "    </tr>\n",
       "    <tr>\n",
       "      <th>PDBbindC</th>\n",
       "      <td>0.56</td>\n",
       "      <td>0.55</td>\n",
       "      <td>0.57</td>\n",
       "      <td>0.59</td>\n",
       "    </tr>\n",
       "    <tr>\n",
       "      <th>lmc_rat</th>\n",
       "      <td>0.43</td>\n",
       "      <td>0.55</td>\n",
       "      <td>0.52</td>\n",
       "      <td>0.54</td>\n",
       "    </tr>\n",
       "  </tbody>\n",
       "</table>\n",
       "</div>"
      ],
      "text/plain": [
       "               Best  Random  Systematic  Genetic\n",
       "malaria        0.27    0.26        0.33     0.34\n",
       "lmc_mouse      0.41    0.49        0.47     0.43\n",
       "PDBbindF       0.42    0.48        0.49     0.50\n",
       "PDBbindR       0.55    0.53        0.58     0.60\n",
       "solubility     0.90    0.81        0.89     0.86\n",
       "lipophilicity  0.63    0.63        0.67     0.75\n",
       "freesolv       0.95    0.84        0.95     0.95\n",
       "lmc_human      0.41    0.40        0.45     0.47\n",
       "PDBbindC       0.56    0.55        0.57     0.59\n",
       "lmc_rat        0.43    0.55        0.52     0.54"
      ]
     },
     "execution_count": 16,
     "metadata": {},
     "output_type": "execute_result"
    }
   ],
   "source": [
    "res_df_test.round(2)"
   ]
  },
  {
   "cell_type": "markdown",
   "id": "25d385d5-0a2a-4313-af63-b393c917da99",
   "metadata": {},
   "source": [
    "## Meta stat"
   ]
  },
  {
   "cell_type": "code",
   "execution_count": 17,
   "id": "61936e26-5b1e-491a-a5dd-dbb2029eecdf",
   "metadata": {},
   "outputs": [],
   "source": [
    "tmp = []\n",
    "for dataset in res_df_test.index:\n",
    "    min_i = res_df_test.loc[dataset].argmin()\n",
    "    max_i = res_df_test.loc[dataset].argmax()\n",
    "    #\n",
    "    tmp.append(res_df_test.loc[dataset].index[max_i])"
   ]
  },
  {
   "cell_type": "code",
   "execution_count": 18,
   "id": "2ab44dc5-0bd2-4326-8b7f-8d4e4b4fd9ab",
   "metadata": {},
   "outputs": [
    {
     "data": {
      "text/plain": [
       "Counter({'Genetic': 6, 'Random': 2, 'Best': 2})"
      ]
     },
     "execution_count": 18,
     "metadata": {},
     "output_type": "execute_result"
    }
   ],
   "source": [
    "Counter(tmp)"
   ]
  },
  {
   "cell_type": "code",
   "execution_count": 19,
   "id": "347079ea-e00e-4ea3-a185-131f368afe53",
   "metadata": {},
   "outputs": [
    {
     "data": {
      "text/plain": [
       "Best          0.52\n",
       "Random        0.50\n",
       "Systematic    0.55\n",
       "Genetic       0.58\n",
       "dtype: float64"
      ]
     },
     "execution_count": 19,
     "metadata": {},
     "output_type": "execute_result"
    }
   ],
   "source": [
    "res_df_val.mean(axis=0).round(2)"
   ]
  },
  {
   "cell_type": "code",
   "execution_count": 20,
   "id": "23b8dbd1-aae1-45f2-ac90-2de4be87cf6a",
   "metadata": {},
   "outputs": [
    {
     "data": {
      "text/plain": [
       "Best          0.55\n",
       "Random        0.55\n",
       "Systematic    0.59\n",
       "Genetic       0.60\n",
       "dtype: float64"
      ]
     },
     "execution_count": 20,
     "metadata": {},
     "output_type": "execute_result"
    }
   ],
   "source": [
    "res_df_test.mean(axis=0).round(2)"
   ]
  },
  {
   "cell_type": "code",
   "execution_count": null,
   "id": "afd5d8c8-b91d-4c59-a8f8-31bb4515f4b0",
   "metadata": {},
   "outputs": [],
   "source": []
  },
  {
   "cell_type": "code",
   "execution_count": null,
   "id": "65d616de-3e34-4514-bca6-d38b463ef1ad",
   "metadata": {},
   "outputs": [],
   "source": []
  }
 ],
 "metadata": {
  "kernelspec": {
   "display_name": "miprop",
   "language": "python",
   "name": "miprop"
  },
  "language_info": {
   "codemirror_mode": {
    "name": "ipython",
    "version": 3
   },
   "file_extension": ".py",
   "mimetype": "text/x-python",
   "name": "python",
   "nbconvert_exporter": "python",
   "pygments_lexer": "ipython3",
   "version": "3.10.16"
  }
 },
 "nbformat": 4,
 "nbformat_minor": 5
}
