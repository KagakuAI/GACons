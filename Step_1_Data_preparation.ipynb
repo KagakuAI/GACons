{
 "cells": [
  {
   "cell_type": "markdown",
   "id": "9a68031b-3008-44a7-a389-34801465af80",
   "metadata": {},
   "source": [
    "## Data preparation\n",
    "\n",
    "1. Keep original training/test data splitting from benchmark\n",
    "2. Split training data into training (for QSAR model building) and validation (for consensus building). Keep test data as indepedndent for consensus approaches comparison."
   ]
  },
  {
   "cell_type": "code",
   "execution_count": 1,
   "id": "de972302-f962-4dbb-a659-aa5d72a5b368",
   "metadata": {},
   "outputs": [],
   "source": [
    "import os\n",
    "import shutil\n",
    "import pandas as pd\n",
    "from pathlib import Path\n",
    "from sklearn.model_selection import train_test_split"
   ]
  },
  {
   "cell_type": "code",
   "execution_count": 2,
   "id": "60b391dd-5aba-46ad-a2fe-48079556c352",
   "metadata": {},
   "outputs": [
    {
     "data": {
      "text/plain": [
       "PosixPath('/home/dmitry/Projects/gacons/benchmark_collection_prepared')"
      ]
     },
     "execution_count": 2,
     "metadata": {},
     "output_type": "execute_result"
    }
   ],
   "source": [
    "# input data\n",
    "# benchmark_collection =  Path(\"tmp_collection\").resolve()\n",
    "benchmark_collection =  Path(\"benchmark_collection_original\").resolve()\n",
    "\n",
    "# output data\n",
    "consensus_collection = Path(\"benchmark_collection_prepared\").resolve()\n",
    "if os.path.exists(consensus_collection):\n",
    "    shutil.rmtree(consensus_collection)\n",
    "\n",
    "shutil.copytree(benchmark_collection, consensus_collection)"
   ]
  },
  {
   "cell_type": "code",
   "execution_count": 3,
   "id": "232c9af1-5d33-4cfa-9313-5fa12c22d217",
   "metadata": {},
   "outputs": [],
   "source": [
    "for coll_folder in os.listdir(consensus_collection):\n",
    "    coll_folder = os.path.join(consensus_collection, coll_folder)\n",
    "    for bench_folder in os.listdir(coll_folder):\n",
    "        bench_folder = os.path.join(coll_folder, bench_folder)\n",
    "        #\n",
    "        train_data = pd.read_csv(os.path.join(bench_folder, \"train.csv\"), header=None)\n",
    "        train_data, val_data = train_test_split(train_data, test_size=0.2, random_state=42)\n",
    "        #\n",
    "        train_data.to_csv(os.path.join(bench_folder, \"train.csv\"), header=None, index=False)\n",
    "        val_data.to_csv(os.path.join(bench_folder, \"val.csv\"), header=None, index=False)"
   ]
  },
  {
   "cell_type": "code",
   "execution_count": null,
   "id": "23704534-ecad-425d-9744-e648d4b3ad9c",
   "metadata": {},
   "outputs": [],
   "source": []
  }
 ],
 "metadata": {
  "kernelspec": {
   "display_name": "miprop",
   "language": "python",
   "name": "miprop"
  },
  "language_info": {
   "codemirror_mode": {
    "name": "ipython",
    "version": 3
   },
   "file_extension": ".py",
   "mimetype": "text/x-python",
   "name": "python",
   "nbconvert_exporter": "python",
   "pygments_lexer": "ipython3",
   "version": "3.10.16"
  }
 },
 "nbformat": 4,
 "nbformat_minor": 5
}
