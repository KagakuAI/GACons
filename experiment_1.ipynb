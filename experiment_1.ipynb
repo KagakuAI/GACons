{
 "cells": [
  {
   "cell_type": "code",
   "execution_count": null,
   "id": "0f51db19-9adf-431a-9bd4-d7362279e18b",
   "metadata": {},
   "outputs": [],
   "source": [
    "import random\n",
    "import pandas as pd\n",
    "from copy import deepcopy"
   ]
  },
  {
   "cell_type": "code",
   "execution_count": null,
   "id": "3a1ab979-4c27-497f-99d0-d92fe63e8dbb",
   "metadata": {},
   "outputs": [],
   "source": [
    "from sklearn.metrics import mean_absolute_error, r2_score\n",
    "from sklearn.model_selection import train_test_split"
   ]
  },
  {
   "cell_type": "code",
   "execution_count": null,
   "id": "95b67d48-109b-4d54-8105-d5290b612f88",
   "metadata": {},
   "outputs": [],
   "source": [
    "from genopt.optimizer import SGA\n",
    "from genopt.scalers import sigma_trunc_scaling\n",
    "from genopt.selectors import tournament_selection, roulette_wheel_selection, linear_rank_selection\n",
    "from genopt.crossovers import one_point_crossover, two_point_crossover\n",
    "from genopt.mutators import uniform_mutation"
   ]
  },
  {
   "cell_type": "markdown",
   "id": "5cf74300-abf8-4896-8938-7da0be7e391c",
   "metadata": {},
   "source": [
    "## Consensus search"
   ]
  },
  {
   "cell_type": "code",
   "execution_count": null,
   "id": "ba1494ea-cc6f-4ce4-9bde-2a4cebddb99b",
   "metadata": {},
   "outputs": [],
   "source": [
    "# random search\n",
    "def random_search(x):\n",
    "    random_acc = []\n",
    "    for i in range(1000):\n",
    "        random_cons = random.sample(range(1, len(x.columns) - 1), k=10) # skip TRUE column\n",
    "        acc = r2_score(x['TRUE'], x[x.columns[random_cons]].mean(axis=1))\n",
    "        random_acc.append((random_cons, acc))\n",
    "    #\n",
    "    random_acc = sorted(random_acc, key=lambda x: x[1], reverse=True)\n",
    "    best_cons = random_acc[0][0]\n",
    "    return best_cons\n",
    "\n",
    "# systematic search\n",
    "def systematic_search(x):\n",
    "\n",
    "    best_acc, best_cons = 0, None\n",
    "    for n, model in enumerate(x.columns[1:], start=2): # skip TRUE column\n",
    "        current_cons = x[x.columns[1:n]]\n",
    "        pred_cons = current_cons.mean(axis=1)\n",
    "        #\n",
    "        acc = r2_score(x['TRUE'], pred_cons)\n",
    "        if acc > best_acc:\n",
    "            best_acc = acc\n",
    "            best_cons = list(current_cons.columns)\n",
    "    \n",
    "    return best_cons\n",
    "\n",
    "# genetic search \n",
    "def genetic_search(x, verbose=False):\n",
    "    def objective(cons):\n",
    "        y_cons = x[x.columns[cons]].mean(axis=1)\n",
    "        y_true = x['TRUE']\n",
    "        acc = r2_score(y_true, y_cons)\n",
    "        return acc\n",
    "    #\n",
    "    space = range(1, len(x.columns) - 1)\n",
    "    cons_size = 10\n",
    "    #\n",
    "    ga = SGA(task='maximize', pop_size=50, cross_prob=0.8, mut_prob=0.2, elitism=True)\n",
    "    ga.set_fitness(objective)\n",
    "    ga.set_crossover_type(one_point_crossover)\n",
    "    ga.set_mutator_type(uniform_mutation)\n",
    "    ga.set_selector_type(tournament_selection)\n",
    "    ga.set_scaler_type(sigma_trunc_scaling)\n",
    "    ga.initialize(space, steps=cons_size)   \n",
    "    ga.run(n_iter=200, verbose=verbose)\n",
    "    #\n",
    "    best_individual = ga.best_individual()\n",
    "    #\n",
    "    return best_individual"
   ]
  },
  {
   "cell_type": "code",
   "execution_count": null,
   "id": "a876dcb0-66c4-4369-bea9-57511747d49d",
   "metadata": {},
   "outputs": [],
   "source": []
  },
  {
   "cell_type": "code",
   "execution_count": null,
   "id": "70f41b4a-423d-4d70-b566-706aadf0941e",
   "metadata": {},
   "outputs": [],
   "source": []
  },
  {
   "cell_type": "code",
   "execution_count": null,
   "id": "80074df8-2530-4b68-81c7-b92817d1135c",
   "metadata": {},
   "outputs": [],
   "source": []
  },
  {
   "cell_type": "markdown",
   "id": "96185957-f80c-4e0a-a5c4-f5a3738f0dec",
   "metadata": {},
   "source": [
    "## All benchmarks"
   ]
  },
  {
   "cell_type": "code",
   "execution_count": null,
   "id": "2a06600b-0beb-4865-bc8c-6a6f0813f2da",
   "metadata": {},
   "outputs": [],
   "source": [
    "import os\n",
    "import numpy as np\n",
    "from sklearn.model_selection import StratifiedKFold"
   ]
  },
  {
   "cell_type": "code",
   "execution_count": null,
   "id": "0a276aff-7d8a-4f57-b818-ade6030f1502",
   "metadata": {},
   "outputs": [],
   "source": [
    "RESULTS_LIST = []\n",
    "for n, i in enumerate(os.listdir('bench_results')):\n",
    "    results = pd.DataFrame()\n",
    "    # load data\n",
    "    df = pd.read_csv(os.path.join('bench_results', i), index_col='Unnamed: 0')\n",
    "    df_val, df_test = train_test_split(df, test_size=0.3, random_state=42)\n",
    "    tmp = sorted([(model, r2_score(df_val['TRUE'], df_val[model])) for model in df_val.columns], key=lambda x:x[1], reverse=True)\n",
    "    df_val_sorted = df_val[[i[0] for i in tmp]]\n",
    "\n",
    "    # best model\n",
    "    best_model = df_val_sorted.columns[1:2]\n",
    "    # random search\n",
    "    best_individual_random = random_search(df_val_sorted)\n",
    "    best_cons_random = df_val_sorted.columns[best_individual_random]\n",
    "    # systematic search \n",
    "    best_cons_sys = systematic_search(df_val_sorted)\n",
    "    # genetic search\n",
    "    best_individual = genetic_search(df_val_sorted, verbose=False)\n",
    "    best_cons_ga = df_val_sorted.columns[best_individual]\n",
    "    #\n",
    "    results.loc['BEST_MODEL', 'VAL'] = r2_score(df_val_sorted['TRUE'], df_val_sorted[best_model].mean(axis=1))\n",
    "    results.loc['BEST_MODEL', 'TEST'] = r2_score(df_test['TRUE'], df_test[best_model])\n",
    "    #\n",
    "    results.loc[f'SYSTEMATIC', 'VAL'] = r2_score(df_val_sorted['TRUE'], df_val_sorted[best_cons_sys].mean(axis=1))\n",
    "    results.loc[f'SYSTEMATIC', 'TEST'] = r2_score(df_test['TRUE'], df_test[best_cons_sys].mean(axis=1))\n",
    "    #\n",
    "    results.loc[f'RANDOM', 'VAL'] = r2_score(df_val_sorted['TRUE'], df_val_sorted[best_cons_random].mean(axis=1))\n",
    "    results.loc[f'RANDOM', 'TEST'] = r2_score(df_test['TRUE'], df_test[best_cons_random].mean(axis=1))\n",
    "    #\n",
    "    results.loc[f'GENETIC', 'VAL'] = r2_score(df_val_sorted['TRUE'], df_val_sorted[best_cons_ga].mean(axis=1))\n",
    "    results.loc[f'GENETIC', 'TEST'] = r2_score(df_test['TRUE'], df_test[best_cons_ga].mean(axis=1))\n",
    "    #\n",
    "    results = results.round(2)\n",
    "    #\n",
    "    RESULTS_LIST.append(results)\n",
    "    #\n",
    "    AVERAGE_ACC = sum(RESULTS_LIST) / len(RESULTS_LIST)\n",
    "    AVERAGE_ACC = AVERAGE_ACC.round(2)\n",
    "    #\n",
    "    print(n,\n",
    "          AVERAGE_ACC.loc['BEST_MODEL', 'TEST'],\n",
    "          AVERAGE_ACC.loc['SYSTEMATIC', 'TEST'],\n",
    "          AVERAGE_ACC.loc['RANDOM', 'TEST'],\n",
    "          AVERAGE_ACC.loc['GENETIC', 'TEST'],\n",
    "          end='\\r')"
   ]
  },
  {
   "cell_type": "code",
   "execution_count": null,
   "id": "299833ab-810a-489c-bb56-9f4debd29802",
   "metadata": {},
   "outputs": [],
   "source": [
    "print(f'Total number of datasets: {len(RESULTS_LIST)}')\n",
    "AVERAGE_ACC = sum(RESULTS_LIST) / len(RESULTS_LIST)\n",
    "AVERAGE_ACC = AVERAGE_ACC.round(2)\n",
    "AVERAGE_ACC"
   ]
  },
  {
   "cell_type": "code",
   "execution_count": null,
   "id": "1dd77879-d52e-425e-96d9-99e8ede211c9",
   "metadata": {},
   "outputs": [],
   "source": []
  },
  {
   "cell_type": "code",
   "execution_count": null,
   "id": "9e049efb-4399-483e-a71c-bc7031fbd986",
   "metadata": {},
   "outputs": [],
   "source": [
    "AVERAGE_ACC"
   ]
  },
  {
   "cell_type": "code",
   "execution_count": null,
   "id": "7752590c-6985-4fb5-9883-84af14982684",
   "metadata": {},
   "outputs": [],
   "source": []
  },
  {
   "cell_type": "code",
   "execution_count": null,
   "id": "746df44a-e291-4175-8406-8a1fc55fe99d",
   "metadata": {},
   "outputs": [],
   "source": []
  },
  {
   "cell_type": "code",
   "execution_count": null,
   "id": "44ec7d9b-7801-4370-b9c8-b25bca95d490",
   "metadata": {},
   "outputs": [],
   "source": []
  }
 ],
 "metadata": {
  "kernelspec": {
   "display_name": "miprop",
   "language": "python",
   "name": "miprop"
  },
  "language_info": {
   "codemirror_mode": {
    "name": "ipython",
    "version": 3
   },
   "file_extension": ".py",
   "mimetype": "text/x-python",
   "name": "python",
   "nbconvert_exporter": "python",
   "pygments_lexer": "ipython3",
   "version": "3.10.15"
  }
 },
 "nbformat": 4,
 "nbformat_minor": 5
}
